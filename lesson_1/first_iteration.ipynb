{
 "cells": [
  {
   "cell_type": "code",
   "id": "95d2986c",
   "metadata": {
    "ExecuteTime": {
     "end_time": "2024-10-08T10:25:19.031181Z",
     "start_time": "2024-10-08T10:25:18.991981Z"
    }
   },
   "source": [
    "#Asigurațivă că ați rulat comanda `pip install sigmoid_check` în terminal înainte de a rula acest script.\n",
    "from sigmoid_check.python_warmup import *"
   ],
   "outputs": [],
   "execution_count": 1
  },
  {
   "cell_type": "code",
   "id": "9ba8741e",
   "metadata": {
    "ExecuteTime": {
     "end_time": "2024-09-30T08:46:14.011324Z",
     "start_time": "2024-09-30T08:46:13.999084Z"
    }
   },
   "source": [
    "@check_exercise_1\n",
    "def exercise_1():\n",
    "    # This line is mandatory and should not be removed\n",
    "    ex_stat_init = True\n",
    "    \n",
    "    # print the text \"Hello, World!\" to the console;\n",
    "    # BELOW GOES YOUR CODE\n",
    "    print (\"Hello, World!\")\n",
    "    # ABOVE GOES YOUR CODE\n",
    "\n",
    "exercise_1()"
   ],
   "outputs": [
    {
     "name": "stdout",
     "output_type": "stream",
     "text": [
      "✅ Great job! Exercise completed successfully.\n"
     ]
    }
   ],
   "execution_count": 3
  },
  {
   "cell_type": "code",
   "id": "989693a2",
   "metadata": {
    "ExecuteTime": {
     "end_time": "2024-09-26T00:08:15.623698Z",
     "start_time": "2024-09-26T00:08:15.614398Z"
    }
   },
   "source": [
    "@check_exercise_2\n",
    "def exercise_2():\n",
    "    # This line is mandatory and should not be removed\n",
    "    ex_stat_init = True\n",
    "    \n",
    "    # print the result of 3 + 5;\n",
    "    # BELOW GOES YOUR CODE\n",
    "    print (3+5)\n",
    "    # ABOVE GOES YOUR CODE\n",
    "\n",
    "# Run the exercise\n",
    "exercise_2()"
   ],
   "outputs": [
    {
     "name": "stdout",
     "output_type": "stream",
     "text": [
      "✅ Great job! Exercise completed successfully.\n"
     ]
    }
   ],
   "execution_count": 2
  },
  {
   "cell_type": "code",
   "id": "9b7f4ffb",
   "metadata": {
    "ExecuteTime": {
     "end_time": "2024-09-26T00:09:20.182327Z",
     "start_time": "2024-09-26T00:09:20.170188Z"
    }
   },
   "source": [
    "@check_exercise_3\n",
    "def exercise_3():\n",
    "    # This line is mandatory and should not be removed\n",
    "    ex_stat_init = True\n",
    "    \n",
    "    # create a variable called \"name\" and assign it the value \"John\";\n",
    "    # BELOW GOES YOUR CODE\n",
    "    name = \"John\"\n",
    "    # ABOVE GOES YOUR CODE\n",
    "\n",
    "    # Return the variables you want to check\n",
    "    return {\"name\": name}\n",
    "\n",
    "# Run the exercise\n",
    "exercise_3()"
   ],
   "outputs": [
    {
     "name": "stdout",
     "output_type": "stream",
     "text": [
      "✅ Great job! Exercise completed successfully.\n"
     ]
    }
   ],
   "execution_count": 4
  },
  {
   "cell_type": "code",
   "id": "4ea341d6",
   "metadata": {
    "ExecuteTime": {
     "end_time": "2024-09-26T00:12:16.182920Z",
     "start_time": "2024-09-26T00:12:16.174576Z"
    }
   },
   "source": [
    "@check_exercise_4\n",
    "def exercise_4(name):\n",
    "    # This line is mandatory and should not be removed\n",
    "    ex_stat_init = True\n",
    "    \n",
    "    # print the text \"Hello, John!\" to the console using the variable `name`;\n",
    "    # BELOW GOES YOUR CODE\n",
    "    print (\"Hello, \" + name + \"!\")\n",
    "    # ABOVE GOES YOUR CODE\n",
    "\n",
    "# Run the exercise\n",
    "exercise_4()\n"
   ],
   "outputs": [
    {
     "name": "stdout",
     "output_type": "stream",
     "text": [
      "✅ Great job! Exercise completed successfully.\n"
     ]
    }
   ],
   "execution_count": 8
  },
  {
   "cell_type": "code",
   "id": "53259942",
   "metadata": {
    "ExecuteTime": {
     "end_time": "2024-09-26T00:12:59.580601Z",
     "start_time": "2024-09-26T00:12:59.560380Z"
    }
   },
   "source": [
    "@check_exercise_5\n",
    "def exercise_5():\n",
    "    # This line is mandatory and should not be removed\n",
    "    ex_stat_init = True\n",
    "    \n",
    "    # create a variable called \"age\" and assign it the value 25;\n",
    "    # BELOW GOES YOUR CODE\n",
    "    age = 25\n",
    "    # ABOVE GOES YOUR CODE\n",
    "    return {\"age\": age}\n",
    "\n",
    "# Run the exercise\n",
    "exercise_5()"
   ],
   "outputs": [
    {
     "name": "stdout",
     "output_type": "stream",
     "text": [
      "✅ Great job! Exercise completed successfully.\n"
     ]
    }
   ],
   "execution_count": 9
  },
  {
   "cell_type": "code",
   "id": "de9c1649",
   "metadata": {
    "ExecuteTime": {
     "end_time": "2024-09-26T00:14:01.238700Z",
     "start_time": "2024-09-26T00:14:01.222915Z"
    }
   },
   "source": [
    "@check_exercise_6\n",
    "def exercise_6(name, age):\n",
    "    # This line is mandatory and should not be removed\n",
    "    ex_stat_init = True\n",
    "    \n",
    "    # print the text \"John is 25 years old\" to the console using the variables `name` and `age`;\n",
    "    # BELOW GOES YOUR CODE\n",
    "    print (name + \" is \" + str(age) + \" years old\")\n",
    "    # ABOVE GOES YOUR CODE\n",
    "\n",
    "# Run the exercise\n",
    "exercise_6()"
   ],
   "outputs": [
    {
     "name": "stdout",
     "output_type": "stream",
     "text": [
      "✅ Great job! Exercise completed successfully.\n"
     ]
    }
   ],
   "execution_count": 10
  },
  {
   "cell_type": "code",
   "id": "93a096d0",
   "metadata": {
    "ExecuteTime": {
     "end_time": "2024-09-26T00:14:41.358936Z",
     "start_time": "2024-09-26T00:14:41.343475Z"
    }
   },
   "source": [
    "@check_exercise_7\n",
    "def exercise_7():\n",
    "    # This line is mandatory and should not be removed\n",
    "    ex_stat_init = True\n",
    "    \n",
    "    # create a variable called \"is_old\" and assign it the value True;\n",
    "    # BELOW GOES YOUR CODE\n",
    "    is_old = True\n",
    "    # ABOVE GOES YOUR CODE\n",
    "    return {\"is_old\": is_old}\n",
    "\n",
    "# Run the exercise\n",
    "exercise_7()"
   ],
   "outputs": [
    {
     "name": "stdout",
     "output_type": "stream",
     "text": [
      "✅ Great job! Exercise completed successfully.\n"
     ]
    }
   ],
   "execution_count": 11
  },
  {
   "cell_type": "code",
   "id": "4c8dd41b",
   "metadata": {
    "ExecuteTime": {
     "end_time": "2024-09-26T00:15:56.667335Z",
     "start_time": "2024-09-26T00:15:56.658941Z"
    }
   },
   "source": [
    "@check_exercise_8\n",
    "def exercise_8(is_old):\n",
    "    # This line is mandatory and should not be removed\n",
    "    ex_stat_init = True\n",
    "    \n",
    "    # print the text \"John is old\" to the console if `is_old` is True;\n",
    "    # BELOW GOES YOUR CODE\n",
    "    if is_old:\n",
    "        print (\"John is old\")\n",
    "    # ABOVE GOES YOUR CODE\n",
    "\n",
    "# Run the exercise\n",
    "exercise_8()"
   ],
   "outputs": [
    {
     "name": "stdout",
     "output_type": "stream",
     "text": [
      "✅ Great job! Exercise completed successfully.\n"
     ]
    }
   ],
   "execution_count": 13
  },
  {
   "cell_type": "code",
   "id": "b850638b",
   "metadata": {
    "ExecuteTime": {
     "end_time": "2024-09-26T00:17:46.560345Z",
     "start_time": "2024-09-26T00:17:46.532742Z"
    }
   },
   "source": [
    "@check_exercise_9\n",
    "def exercise_9(name, age):\n",
    "    # This line is mandatory and should not be removed\n",
    "    ex_stat_init = True\n",
    "    \n",
    "    # swap the values of the variables `name` and `age` using a third variable;\n",
    "    # BELOW GOES YOUR CODE\n",
    "    third_value = name\n",
    "    name = age\n",
    "    age = third_value\n",
    "    # ABOVE GOES YOUR CODE\n",
    "    return {\"name\": name, \"age\": age}\n",
    "\n",
    "# Run the exercise\n",
    "exercise_9()"
   ],
   "outputs": [
    {
     "name": "stdout",
     "output_type": "stream",
     "text": [
      "✅ Great job! Exercise completed successfully.\n"
     ]
    }
   ],
   "execution_count": 14
  },
  {
   "cell_type": "code",
   "id": "07782aa8",
   "metadata": {
    "ExecuteTime": {
     "end_time": "2024-09-26T00:45:24.759447Z",
     "start_time": "2024-09-26T00:45:24.740826Z"
    }
   },
   "source": [
    "@check_exercise_10\n",
    "def exercise_10(name, age):\n",
    "    # This line is mandatory and should not be removed\n",
    "    ex_stat_init = True\n",
    "    \n",
    "    # swap the values of the variables `name` and `age` using only two variables;\n",
    "    # BELOW GOES YOUR CODE\n",
    "    def swap (name, age):\n",
    "        return age, name\n",
    "    name, age = swap (name, age)\n",
    "    # ABOVE GOES YOUR CODE\n",
    "    return {\"name\": name, \"age\": age}\n",
    "\n",
    "# Run the exercise\n",
    "exercise_10()"
   ],
   "outputs": [
    {
     "name": "stdout",
     "output_type": "stream",
     "text": [
      "✅ Great job! Exercise completed successfully.\n"
     ]
    }
   ],
   "execution_count": 30
  },
  {
   "cell_type": "code",
   "id": "b6b5ed54",
   "metadata": {
    "ExecuteTime": {
     "end_time": "2024-09-26T00:36:47.333998Z",
     "start_time": "2024-09-26T00:36:47.321144Z"
    }
   },
   "source": [
    "@check_exercise_11\n",
    "def exercise_11():\n",
    "    # This line is mandatory and should not be removed\n",
    "    ex_stat_init = True\n",
    "    \n",
    "    # create a variable called \"height\" and assign it the value 1.75;\n",
    "    # BELOW GOES YOUR CODE\n",
    "    height = 1.75\n",
    "    # ABOVE GOES YOUR CODE\n",
    "    return {\"height\": height}\n",
    "\n",
    "# Run the exercise\n",
    "exercise_11()"
   ],
   "outputs": [
    {
     "name": "stdout",
     "output_type": "stream",
     "text": [
      "✅ Great job! Exercise completed successfully.\n"
     ]
    }
   ],
   "execution_count": 23
  },
  {
   "cell_type": "code",
   "id": "b5d888db",
   "metadata": {
    "ExecuteTime": {
     "end_time": "2024-09-26T00:42:36.523214Z",
     "start_time": "2024-09-26T00:42:36.506934Z"
    }
   },
   "source": [
    "@check_exercise_12\n",
    "def exercise_12(name, age, height):\n",
    "    # This line is mandatory and should not be removed\n",
    "    ex_stat_init = True\n",
    "    \n",
    "    # print the text \"John is 25 years old and is 1.75m tall\" to the console using the variables `name`, `age` and `height`;\n",
    "    # BELOW GOES YOUR CODE\n",
    "    print (name + \" is \" + str(age) + \" years old and is \" + str(height) + \"m tall\")\n",
    "    # ABOVE GOES YOUR CODE\n",
    "\n",
    "# Run the exercise\n",
    "exercise_12()"
   ],
   "outputs": [
    {
     "name": "stdout",
     "output_type": "stream",
     "text": [
      "✅ Great job! Exercise completed successfully.\n"
     ]
    }
   ],
   "execution_count": 28
  },
  {
   "cell_type": "code",
   "id": "dc0aa44b",
   "metadata": {
    "ExecuteTime": {
     "end_time": "2024-09-26T00:46:50.540821Z",
     "start_time": "2024-09-26T00:46:50.518100Z"
    }
   },
   "source": [
    "@check_exercise_13\n",
    "def exercise_13():\n",
    "    # This line is mandatory and should not be removed\n",
    "    ex_stat_init = True\n",
    "    \n",
    "    # create a variable called \"is_tall\" and a variable called \"is_old\" and assign them the values True and False, respectively;\n",
    "    # BELOW GOES YOUR CODE\n",
    "    is_tall = True\n",
    "    is_old = False\n",
    "    # ABOVE GOES YOUR CODE\n",
    "    return {\"is_tall\": is_tall, \"is_old\": is_old}\n",
    "\n",
    "# Run the exercise\n",
    "exercise_13()"
   ],
   "outputs": [
    {
     "name": "stdout",
     "output_type": "stream",
     "text": [
      "✅ Great job! Exercise completed successfully.\n"
     ]
    }
   ],
   "execution_count": 31
  },
  {
   "cell_type": "code",
   "id": "b434afd0",
   "metadata": {
    "ExecuteTime": {
     "end_time": "2024-09-26T00:48:05.784323Z",
     "start_time": "2024-09-26T00:48:05.754171Z"
    }
   },
   "source": [
    "@check_exercise_14\n",
    "def exercise_14(is_tall, is_old):\n",
    "    # This line is mandatory and should not be removed\n",
    "    ex_stat_init = True\n",
    "    \n",
    "    # print the text \"John is tall and old\" to the console if `is_tall` and `is_old` are True;\n",
    "    # BELOW GOES YOUR CODE\n",
    "    if is_tall and is_old:\n",
    "        print (\"John is tall and old\")\n",
    "    # ABOVE GOES YOUR CODE\n",
    "\n",
    "# Run the exercise\n",
    "exercise_14()"
   ],
   "outputs": [
    {
     "name": "stdout",
     "output_type": "stream",
     "text": [
      "✅ Great job! Exercise completed successfully.\n"
     ]
    }
   ],
   "execution_count": 32
  },
  {
   "cell_type": "code",
   "id": "e1ad0e14",
   "metadata": {
    "ExecuteTime": {
     "end_time": "2024-09-26T00:49:23.489221Z",
     "start_time": "2024-09-26T00:49:23.476467Z"
    }
   },
   "source": [
    "@check_exercise_15\n",
    "def exercise_15(is_tall, is_old):\n",
    "    # This line is mandatory and should not be removed\n",
    "    ex_stat_init = True\n",
    "    \n",
    "    # print the text \"John is tall or old\" to the console if `is_tall` or `is_old` are True;\n",
    "    # BELOW GOES YOUR CODE\n",
    "    if is_tall or is_old:\n",
    "        print (\"John is tall or old\")\n",
    "    # ABOVE GOES YOUR CODE\n",
    "\n",
    "# Run the exercise\n",
    "exercise_15()"
   ],
   "outputs": [
    {
     "name": "stdout",
     "output_type": "stream",
     "text": [
      "✅ Great job! Exercise completed successfully.\n"
     ]
    }
   ],
   "execution_count": 33
  },
  {
   "cell_type": "code",
   "id": "d7837323",
   "metadata": {
    "ExecuteTime": {
     "end_time": "2024-09-26T00:50:43.504648Z",
     "start_time": "2024-09-26T00:50:43.488364Z"
    }
   },
   "source": [
    "@check_exercise_16\n",
    "def exercise_16(is_tall):\n",
    "    # This line is mandatory and should not be removed\n",
    "    ex_stat_init = True\n",
    "    \n",
    "    # print the text \"John is not tall\" to the console if `is_tall` is False;\n",
    "    # BELOW GOES YOUR CODE\n",
    "    if not is_tall:\n",
    "        print (\"John is not tall\")\n",
    "    # ABOVE GOES YOUR CODE\n",
    "\n",
    "# Run the exercise\n",
    "exercise_16()"
   ],
   "outputs": [
    {
     "name": "stdout",
     "output_type": "stream",
     "text": [
      "✅ Great job! Exercise completed successfully.\n"
     ]
    }
   ],
   "execution_count": 34
  },
  {
   "cell_type": "code",
   "id": "320836cb",
   "metadata": {
    "ExecuteTime": {
     "end_time": "2024-09-26T00:51:16.058345Z",
     "start_time": "2024-09-26T00:51:16.040213Z"
    }
   },
   "source": [
    "@check_exercise_17\n",
    "def exercise_17(is_old):\n",
    "    # This line is mandatory and should not be removed\n",
    "    ex_stat_init = True\n",
    "    \n",
    "    # print the text \"John is not old\" to the console if `is_old` is False;\n",
    "    # BELOW GOES YOUR CODE\n",
    "    if not is_old:\n",
    "        print (\"John is not old\")\n",
    "    # ABOVE GOES YOUR CODE\n",
    "\n",
    "# Run the exercise\n",
    "exercise_17()"
   ],
   "outputs": [
    {
     "name": "stdout",
     "output_type": "stream",
     "text": [
      "✅ Great job! Exercise completed successfully.\n"
     ]
    }
   ],
   "execution_count": 35
  },
  {
   "cell_type": "code",
   "id": "67221c1c",
   "metadata": {
    "ExecuteTime": {
     "end_time": "2024-09-26T00:52:15.511311Z",
     "start_time": "2024-09-26T00:52:15.498505Z"
    }
   },
   "source": [
    "@check_exercise_18\n",
    "def exercise_18(is_tall, is_old):\n",
    "    # This line is mandatory and should not be removed\n",
    "    ex_stat_init = True\n",
    "    \n",
    "    # print the text \"John is tall and not old\" to the console if `is_tall` is True and `is_old` is False;\n",
    "    # BELOW GOES YOUR CODE\n",
    "    if is_tall and not is_old:\n",
    "        print (\"John is tall and not old\")\n",
    "    # ABOVE GOES YOUR CODE\n",
    "\n",
    "# Run the exercise\n",
    "exercise_18()"
   ],
   "outputs": [
    {
     "name": "stdout",
     "output_type": "stream",
     "text": [
      "✅ Great job! Exercise completed successfully.\n"
     ]
    }
   ],
   "execution_count": 36
  },
  {
   "cell_type": "code",
   "id": "b9255bec",
   "metadata": {
    "ExecuteTime": {
     "end_time": "2024-09-26T00:53:03.578905Z",
     "start_time": "2024-09-26T00:53:03.561590Z"
    }
   },
   "source": [
    "@check_exercise_19\n",
    "def exercise_19(is_tall, is_old):\n",
    "    # This line is mandatory and should not be removed\n",
    "    ex_stat_init = True\n",
    "    \n",
    "    # print the text \"John is not tall and old\" to the console if `is_tall` is False and `is_old` is True;\n",
    "    # BELOW GOES YOUR CODE\n",
    "    if not is_tall and is_old:\n",
    "        print (\"John is not tall and old\")\n",
    "    # ABOVE GOES YOUR CODE\n",
    "\n",
    "# Run the exercise\n",
    "exercise_19()"
   ],
   "outputs": [
    {
     "name": "stdout",
     "output_type": "stream",
     "text": [
      "✅ Great job! Exercise completed successfully.\n"
     ]
    }
   ],
   "execution_count": 37
  },
  {
   "cell_type": "code",
   "id": "4b27d8da",
   "metadata": {
    "ExecuteTime": {
     "end_time": "2024-09-26T00:55:02.436647Z",
     "start_time": "2024-09-26T00:55:02.417217Z"
    }
   },
   "source": [
    "@check_exercise_20\n",
    "def exercise_20(age):\n",
    "    # This line is mandatory and should not be removed\n",
    "    ex_stat_init = True\n",
    "    \n",
    "    # print the text \"John is older than 30\" to the console if `age` is greater than 30;\n",
    "    # BELOW GOES YOUR CODE\n",
    "    if age > 30:\n",
    "        print (\"John is older than 30\")\n",
    "    # ABOVE GOES YOUR CODE\n",
    "\n",
    "# Run the exercise\n",
    "exercise_20()"
   ],
   "outputs": [
    {
     "name": "stdout",
     "output_type": "stream",
     "text": [
      "✅ Great job! Exercise completed successfully.\n"
     ]
    }
   ],
   "execution_count": 38
  },
  {
   "cell_type": "code",
   "id": "93238aa5",
   "metadata": {
    "ExecuteTime": {
     "end_time": "2024-09-26T00:55:43.089292Z",
     "start_time": "2024-09-26T00:55:43.075504Z"
    }
   },
   "source": [
    "@check_exercise_21\n",
    "def exercise_21(age):\n",
    "    # This line is mandatory and should not be removed\n",
    "    ex_stat_init = True\n",
    "    \n",
    "    # print the text \"John is younger than 30\" to the console if `age` is less than 30;\n",
    "    # BELOW GOES YOUR CODE\n",
    "    if age < 30:\n",
    "        print (\"John is younger than 30\")\n",
    "    # ABOVE GOES YOUR CODE\n",
    "\n",
    "# Run the exercise\n",
    "exercise_21()"
   ],
   "outputs": [
    {
     "name": "stdout",
     "output_type": "stream",
     "text": [
      "✅ Great job! Exercise completed successfully.\n"
     ]
    }
   ],
   "execution_count": 39
  },
  {
   "cell_type": "code",
   "id": "b412b158",
   "metadata": {
    "ExecuteTime": {
     "end_time": "2024-09-26T00:56:13.351145Z",
     "start_time": "2024-09-26T00:56:13.332958Z"
    }
   },
   "source": [
    "@check_exercise_22\n",
    "def exercise_22():\n",
    "    # This line is mandatory and should not be removed\n",
    "    ex_stat_init = True\n",
    "    \n",
    "    # create a variable `x` and assign it the value 42; create a variable `y` and assign it the value 9; create a variable `z` and assign it the value 7;\n",
    "    # BELOW GOES YOUR CODE\n",
    "    x = 42\n",
    "    y = 9\n",
    "    z = 7\n",
    "    # ABOVE GOES YOUR CODE\n",
    "    return {\"x\": x, \"y\": y, \"z\": z}\n",
    "\n",
    "# Run the exercise\n",
    "exercise_22()"
   ],
   "outputs": [
    {
     "name": "stdout",
     "output_type": "stream",
     "text": [
      "✅ Great job! Exercise completed successfully.\n"
     ]
    }
   ],
   "execution_count": 40
  },
  {
   "cell_type": "code",
   "id": "b390ee85",
   "metadata": {
    "ExecuteTime": {
     "end_time": "2024-09-26T01:04:25.268698Z",
     "start_time": "2024-09-26T01:04:25.252479Z"
    }
   },
   "source": [
    "@check_exercise_23\n",
    "def exercise_23(x, y, z):\n",
    "    # This line is mandatory and should not be removed\n",
    "    ex_stat_init = True\n",
    "    \n",
    "    # create a dictionary called `computations` with the keys \"add_x_y\", \"add_x_z\", \"add_y_z\", \"sub_x_y\", \"sub_x_z\", \"sub_y_z\", \"mul_x_y\", \"mul_x_z\", \"mul_y_z\", \"div_x_y\", \"div_x_z\", \"div_y_z\", \"mod_x_y\", \"mod_x_z\", \"mod_y_z\", \"pow_x_y\", \"pow_x_z\", \"pow_y_z\" and the values the results of the respective operations;\n",
    "    # BELOW GOES YOUR CODE\n",
    "    computations = {\n",
    "        \"add_x_y\" : x + y, \n",
    "        \"add_x_z\" : x + z, \n",
    "        \"add_y_z\" : y + z, \n",
    "        \"sub_x_y\" : x - y, \n",
    "        \"sub_x_z\" : x - z, \n",
    "        \"sub_y_z\" : y - z, \n",
    "        \"mul_x_y\" : x * y, \n",
    "        \"mul_x_z\" : x * z, \n",
    "        \"mul_y_z\" : y * z, \n",
    "        \"div_x_y\" : x / y, \n",
    "        \"div_x_z\" : x / z, \n",
    "        \"div_y_z\" : y / z, \n",
    "        \"mod_x_y\" : x % y, \n",
    "        \"mod_x_z\" : x % z, \n",
    "        \"mod_y_z\" : y % z, \n",
    "        \"pow_x_y\" : x ** y, \n",
    "        \"pow_x_z\" : x ** z,\n",
    "        \"pow_y_z\" : y ** z,\n",
    "    }\n",
    "    # ABOVE GOES YOUR CODE\n",
    "    return {\n",
    "        \"computations\": computations\n",
    "    }\n",
    "\n",
    "# Run the exercise\n",
    "exercise_23()"
   ],
   "outputs": [
    {
     "name": "stdout",
     "output_type": "stream",
     "text": [
      "✅ Great job! Exercise completed successfully.\n"
     ]
    }
   ],
   "execution_count": 42
  },
  {
   "cell_type": "code",
   "id": "da732269",
   "metadata": {
    "ExecuteTime": {
     "end_time": "2024-09-26T01:08:46.798850Z",
     "start_time": "2024-09-26T01:08:46.764421Z"
    }
   },
   "source": [
    "@check_exercise_24\n",
    "def exercise_24(coordinates):\n",
    "    # This line is mandatory and should not be removed\n",
    "    ex_stat_init = True\n",
    "\n",
    "    # given a tuple `coordinates` with the values (1, 2, 3), unpack the values into the variables `x`, `y` and `z`;\n",
    "    # BELOW GOES YOUR CODE\n",
    "    x = coordinates[0]\n",
    "    y = coordinates[1]\n",
    "    z = coordinates[2]\n",
    "    # ABOVE GOES YOUR CODE\n",
    "    return {\n",
    "        \"x\": x,\n",
    "        \"y\": y,\n",
    "        \"z\": z\n",
    "    }\n",
    "\n",
    "# Run the exercise\n",
    "exercise_24()"
   ],
   "outputs": [
    {
     "name": "stdout",
     "output_type": "stream",
     "text": [
      "✅ Great job! Exercise completed successfully.\n"
     ]
    }
   ],
   "execution_count": 44
  },
  {
   "cell_type": "code",
   "id": "e78dd8c6",
   "metadata": {
    "ExecuteTime": {
     "end_time": "2024-09-26T01:09:54.221736Z",
     "start_time": "2024-09-26T01:09:54.202905Z"
    }
   },
   "source": [
    "@check_exercise_25\n",
    "def exercise_25(x, y, z):\n",
    "    # This line is mandatory and should not be removed\n",
    "    ex_stat_init = True\n",
    "\n",
    "    # create a tuple called `coordinates` with the values of the variables `x`, `y` and `z`;\n",
    "    # BELOW GOES YOUR CODE\n",
    "    coordinates = (x, y, z)\n",
    "    # ABOVE GOES YOUR CODE\n",
    "    return {\n",
    "        \"coordinates\": coordinates\n",
    "    }\n",
    "\n",
    "# Run the exercise\n",
    "exercise_25()"
   ],
   "outputs": [
    {
     "name": "stdout",
     "output_type": "stream",
     "text": [
      "✅ Great job! Exercise completed successfully.\n"
     ]
    }
   ],
   "execution_count": 45
  },
  {
   "cell_type": "code",
   "id": "6feefbc2",
   "metadata": {
    "ExecuteTime": {
     "end_time": "2024-09-26T01:11:24.161475Z",
     "start_time": "2024-09-26T01:11:24.145010Z"
    }
   },
   "source": [
    "@check_exercise_26\n",
    "def exercise_26(number1, number2):\n",
    "    # This line is mandatory and should not be removed\n",
    "    ex_stat_init = True\n",
    "\n",
    "    # convert the variable `number1` from float to integer and `number2` from integer to float;\n",
    "    # BELOW GOES YOUR CODE\n",
    "    number1 = int (number1)\n",
    "    number2 = 1.0*number2\n",
    "    \n",
    "    # ABOVE GOES YOUR CODE\n",
    "    return {\n",
    "        \"number1\": number1,\n",
    "        \"number2\": number2\n",
    "    }\n",
    "\n",
    "# Run the exercise\n",
    "exercise_26()"
   ],
   "outputs": [
    {
     "name": "stdout",
     "output_type": "stream",
     "text": [
      "✅ Great job! Exercise completed successfully.\n"
     ]
    }
   ],
   "execution_count": 46
  },
  {
   "cell_type": "code",
   "id": "1e0cee28",
   "metadata": {
    "ExecuteTime": {
     "end_time": "2024-09-26T01:14:19.832018Z",
     "start_time": "2024-09-26T01:14:19.776447Z"
    }
   },
   "source": [
    "@check_exercise_27\n",
    "def exercise_27(elements1, elements2):\n",
    "    # This line is mandatory and should not be removed\n",
    "    ex_stat_init = True\n",
    "\n",
    "    # convert the variable `elements1` from a list to a tuple and `elements2` from a tuple to a list;\n",
    "    # BELOW GOES YOUR CODE\n",
    "    elements1 = tuple (elements1)\n",
    "    elements2 = list (elements2)\n",
    "    # ABOVE GOES YOUR CODE\n",
    "    return {\n",
    "        \"elements1\": elements1,\n",
    "        \"elements2\": elements2\n",
    "    }\n",
    "\n",
    "# Run the exercise\n",
    "exercise_27()"
   ],
   "outputs": [
    {
     "name": "stdout",
     "output_type": "stream",
     "text": [
      "✅ Great job! Exercise completed successfully.\n"
     ]
    }
   ],
   "execution_count": 47
  },
  {
   "cell_type": "code",
   "id": "f61b760d",
   "metadata": {
    "ExecuteTime": {
     "end_time": "2024-09-26T01:16:41.122307Z",
     "start_time": "2024-09-26T01:16:41.093837Z"
    }
   },
   "source": [
    "@check_exercise_28\n",
    "def exercise_28(elements):\n",
    "    # This line is mandatory and should not be removed\n",
    "    ex_stat_init = True\n",
    "\n",
    "    # given the list `elements`, set the value true to the variable `present` if the element \"Python\" is in the list, otherwise return false;\n",
    "    # BELOW GOES YOUR CODE\n",
    "    present = \"Python\" in elements\n",
    "    # ABOVE GOES YOUR CODE\n",
    "    return {\n",
    "        \"present\": present\n",
    "    }\n",
    "\n",
    "# Run the exercise\n",
    "exercise_28()"
   ],
   "outputs": [
    {
     "name": "stdout",
     "output_type": "stream",
     "text": [
      "✅ Great job! Exercise completed successfully.\n"
     ]
    }
   ],
   "execution_count": 48
  },
  {
   "cell_type": "code",
   "id": "78367a15",
   "metadata": {
    "ExecuteTime": {
     "end_time": "2024-09-26T01:20:45.476487Z",
     "start_time": "2024-09-26T01:20:45.436952Z"
    }
   },
   "source": [
    "@check_exercise_29\n",
    "def exercise_29(elements, to_check):\n",
    "    # This line is mandatory and should not be removed\n",
    "    ex_stat_init = True\n",
    "\n",
    "    # given the list `elements` and the list `to_check`, create the dictionary `presence` with the keys being the elements of `to_check` and the values being True if the element is in `elements`, otherwise False;\n",
    "    # BELOW GOES YOUR CODE\n",
    "    presence = {item: item in elements for item in to_check}\n",
    "    # ABOVE GOES YOUR CODE\n",
    "    return {\n",
    "        \"presence\": presence\n",
    "    }\n",
    "\n",
    "# Run the exercise\n",
    "exercise_29()"
   ],
   "outputs": [
    {
     "name": "stdout",
     "output_type": "stream",
     "text": [
      "✅ Great job! Exercise completed successfully.\n"
     ]
    }
   ],
   "execution_count": 49
  },
  {
   "cell_type": "code",
   "id": "6f54999d",
   "metadata": {
    "ExecuteTime": {
     "end_time": "2024-09-26T01:24:03.855532Z",
     "start_time": "2024-09-26T01:24:03.844602Z"
    }
   },
   "source": [
    "@check_exercise_30\n",
    "def exercise_30(text_to_repeat):\n",
    "    # This line is mandatory and should not be removed\n",
    "    ex_stat_init = True\n",
    "\n",
    "    # given the variable `text_to_repeat`, repeat it 5 times and assign it to the variable `text`;\n",
    "    # BELOW GOES YOUR CODE\n",
    "    text = \"\"\n",
    "    for i in range (5):\n",
    "        text += text_to_repeat\n",
    "    # ABOVE GOES YOUR CODE\n",
    "    return {\n",
    "        \"text\": text\n",
    "    }\n",
    "\n",
    "# Run the exercise\n",
    "exercise_30()"
   ],
   "outputs": [
    {
     "name": "stdout",
     "output_type": "stream",
     "text": [
      "✅ Great job! Exercise completed successfully.\n"
     ]
    }
   ],
   "execution_count": 51
  },
  {
   "cell_type": "code",
   "id": "a0c70774",
   "metadata": {
    "ExecuteTime": {
     "end_time": "2024-09-26T05:44:16.536438Z",
     "start_time": "2024-09-26T05:44:16.469227Z"
    }
   },
   "source": [
    "@check_exercise_31\n",
    "def exercise_31(text):\n",
    "    # This line is mandatory and should not be removed\n",
    "    ex_stat_init = True\n",
    "\n",
    "    # given the variable `text`, assign to the variable `text` the first 5 characters of the string;\n",
    "    # BELOW GOES YOUR CODE\n",
    "    text = text[:5]\n",
    "    # ABOVE GOES YOUR CODE\n",
    "    return {\n",
    "        \"text\": text\n",
    "    }\n",
    "\n",
    "# Run the exercise\n",
    "exercise_31()"
   ],
   "outputs": [
    {
     "name": "stdout",
     "output_type": "stream",
     "text": [
      "✅ Great job! Exercise completed successfully.\n"
     ]
    }
   ],
   "execution_count": 2
  },
  {
   "cell_type": "code",
   "id": "14296056",
   "metadata": {
    "ExecuteTime": {
     "end_time": "2024-09-26T06:46:17.113177Z",
     "start_time": "2024-09-26T06:46:17.099307Z"
    }
   },
   "source": [
    "@check_exercise_32\n",
    "def exercise_32(text):\n",
    "    # This line is mandatory and should not be removed\n",
    "    ex_stat_init = True\n",
    "\n",
    "    # given the variable `text`, assign the last 5 characters to the variable `last_five`;\n",
    "    # BELOW GOES YOUR CODE\n",
    "    last_five = text[-5:] \n",
    "    # ABOVE GOES YOUR CODE\n",
    "    return {\n",
    "        \"last_five\": last_five\n",
    "    }\n",
    "\n",
    "# Run the exercise\n",
    "exercise_32()"
   ],
   "outputs": [
    {
     "name": "stdout",
     "output_type": "stream",
     "text": [
      "✅ Great job! Exercise completed successfully.\n"
     ]
    }
   ],
   "execution_count": 7
  },
  {
   "cell_type": "code",
   "id": "b0db2cb6",
   "metadata": {
    "ExecuteTime": {
     "end_time": "2024-09-26T07:00:13.629137Z",
     "start_time": "2024-09-26T07:00:13.595282Z"
    }
   },
   "source": [
    "@check_exercise_33\n",
    "def exercise_33(text):\n",
    "    # This line is mandatory and should not be removed\n",
    "    ex_stat_init = True\n",
    "\n",
    "    # given the variable `text`, change the text in uppercase;\n",
    "    # BELOW GOES YOUR CODE\n",
    "    text = text.upper ()\n",
    "    # ABOVE GOES YOUR CODE\n",
    "    return {\n",
    "        \"text\": text\n",
    "    }\n",
    "\n",
    "# Run the exercise\n",
    "exercise_33()"
   ],
   "outputs": [
    {
     "name": "stdout",
     "output_type": "stream",
     "text": [
      "✅ Great job! Exercise completed successfully.\n"
     ]
    }
   ],
   "execution_count": 10
  },
  {
   "cell_type": "code",
   "id": "f15295e0",
   "metadata": {
    "ExecuteTime": {
     "end_time": "2024-09-26T21:55:30.629827Z",
     "start_time": "2024-09-26T21:55:30.611116Z"
    }
   },
   "source": [
    "@check_exercise_34\n",
    "def exercise_34(text):\n",
    "    # This line is mandatory and should not be removed\n",
    "    ex_stat_init = True\n",
    "\n",
    "    # given the variable `text`, change the the text in lowercase;\n",
    "    # BELOW GOES YOUR CODE\n",
    "    text = text.lower ()\n",
    "    # ABOVE GOES YOUR CODE\n",
    "    return {\n",
    "        \"text\": text\n",
    "    }\n",
    "\n",
    "# Run the exercise\n",
    "exercise_34()"
   ],
   "outputs": [
    {
     "name": "stdout",
     "output_type": "stream",
     "text": [
      "✅ Great job! Exercise completed successfully.\n"
     ]
    }
   ],
   "execution_count": 2
  },
  {
   "cell_type": "code",
   "id": "62974cb6",
   "metadata": {
    "ExecuteTime": {
     "end_time": "2024-09-26T21:57:46.222072Z",
     "start_time": "2024-09-26T21:57:46.205967Z"
    }
   },
   "source": [
    "@check_exercise_35\n",
    "def exercise_35(text):\n",
    "    # This line is mandatory and should not be removed\n",
    "    ex_stat_init = True\n",
    "\n",
    "    # given the variable `text`, change the text with the first letter in uppercase;\n",
    "    # BELOW GOES YOUR CODE\n",
    "    text = text[0].upper() + text[1:]\n",
    "    # ABOVE GOES YOUR CODE\n",
    "    return {\n",
    "        \"text\": text\n",
    "    }\n",
    "\n",
    "# Run the exercise\n",
    "exercise_35()"
   ],
   "outputs": [
    {
     "name": "stdout",
     "output_type": "stream",
     "text": [
      "✅ Great job! Exercise completed successfully.\n"
     ]
    }
   ],
   "execution_count": 4
  },
  {
   "cell_type": "code",
   "id": "f6daf14d",
   "metadata": {
    "ExecuteTime": {
     "end_time": "2024-09-26T22:01:29.173669Z",
     "start_time": "2024-09-26T22:01:29.157665Z"
    }
   },
   "source": [
    "@check_exercise_36\n",
    "def exercise_36(text):\n",
    "    # This line is mandatory and should not be removed\n",
    "    ex_stat_init = True\n",
    "\n",
    "    # given the variable `text`, assignt the 18th character to the variable `char`;\n",
    "    # BELOW GOES YOUR CODE\n",
    "    char = text[17]\n",
    "    # ABOVE GOES YOUR CODE\n",
    "    return {\n",
    "        \"char\": char\n",
    "    }\n",
    "\n",
    "# Run the exercise\n",
    "exercise_36()"
   ],
   "outputs": [
    {
     "name": "stdout",
     "output_type": "stream",
     "text": [
      "✅ Great job! Exercise completed successfully.\n"
     ]
    }
   ],
   "execution_count": 5
  },
  {
   "cell_type": "code",
   "id": "79ced7a1",
   "metadata": {
    "ExecuteTime": {
     "end_time": "2024-09-26T22:02:03.627454Z",
     "start_time": "2024-09-26T22:02:03.614207Z"
    }
   },
   "source": [
    "@check_exercise_37\n",
    "def exercise_37(text):\n",
    "    # This line is mandatory and should not be removed\n",
    "    ex_stat_init = True\n",
    "\n",
    "    # given the variable `text`, assign the last character to the variable `last_char`;\n",
    "    # BELOW GOES YOUR CODE\n",
    "    last_char = text[len(text)-1]\n",
    "    # ABOVE GOES YOUR CODE\n",
    "    return {\n",
    "        \"last_char\": last_char\n",
    "    }\n",
    "\n",
    "# Run the exercise\n",
    "exercise_37()"
   ],
   "outputs": [
    {
     "name": "stdout",
     "output_type": "stream",
     "text": [
      "✅ Great job! Exercise completed successfully.\n"
     ]
    }
   ],
   "execution_count": 6
  },
  {
   "cell_type": "code",
   "id": "c7f9c0fe",
   "metadata": {
    "ExecuteTime": {
     "end_time": "2024-09-30T07:34:01.236196Z",
     "start_time": "2024-09-30T07:34:01.224987Z"
    }
   },
   "source": [
    "@check_exercise_38\n",
    "def exercise_38(text):\n",
    "    # This line is mandatory and should not be removed\n",
    "    ex_stat_init = True\n",
    "\n",
    "    # given the variable `text`, extract every third character starting the first one and assign it to the variable `every_third`;\n",
    "    # BELOW GOES YOUR CODE\n",
    "    every_third = \"\"\n",
    "    every_third += text[0:len(text):3]\n",
    "    # ABOVE GOES YOUR CODE\n",
    "    return {\n",
    "        \"every_third\": every_third\n",
    "    }\n",
    "\n",
    "# Run the exercise\n",
    "exercise_38()"
   ],
   "outputs": [
    {
     "name": "stdout",
     "output_type": "stream",
     "text": [
      "✅ Great job! Exercise completed successfully.\n"
     ]
    }
   ],
   "execution_count": 3
  },
  {
   "cell_type": "code",
   "id": "429e5b48",
   "metadata": {
    "ExecuteTime": {
     "end_time": "2024-09-26T22:08:11.781061Z",
     "start_time": "2024-09-26T22:08:11.763214Z"
    }
   },
   "source": [
    "@check_exercise_39\n",
    "def exercise_39(text):\n",
    "    # This line is mandatory and should not be removed\n",
    "    ex_stat_init = True\n",
    "\n",
    "    # given the variable `text`, extract every third character starting the second one and assign it to the variable `every_third`;\n",
    "    # BELOW GOES YOUR CODE\n",
    "    every_third = \"\"\n",
    "    every_third += text[1:len(text):3]\n",
    "    # ABOVE GOES YOUR CODE\n",
    "    return {\n",
    "        \"every_third\": every_third\n",
    "    }\n",
    "\n",
    "# Run the exercise\n",
    "exercise_39()"
   ],
   "outputs": [
    {
     "name": "stdout",
     "output_type": "stream",
     "text": [
      "✅ Great job! Exercise completed successfully.\n"
     ]
    }
   ],
   "execution_count": 8
  },
  {
   "cell_type": "code",
   "id": "d739b16b",
   "metadata": {
    "ExecuteTime": {
     "end_time": "2024-09-26T22:09:12.542131Z",
     "start_time": "2024-09-26T22:09:12.529888Z"
    }
   },
   "source": [
    "@check_exercise_40\n",
    "def exercise_40(text):\n",
    "    # This line is mandatory and should not be removed\n",
    "    ex_stat_init = True\n",
    "\n",
    "    # given the variable `text` assign to the variable `length` the length of the string;\n",
    "    # BELOW GOES YOUR CODE\n",
    "    length = len(text)\n",
    "    # ABOVE GOES YOUR CODE\n",
    "    return {\n",
    "        \"length\": length\n",
    "    }\n",
    "\n",
    "# Run the exercise\n",
    "exercise_40()"
   ],
   "outputs": [
    {
     "name": "stdout",
     "output_type": "stream",
     "text": [
      "✅ Great job! Exercise completed successfully.\n"
     ]
    }
   ],
   "execution_count": 9
  },
  {
   "cell_type": "code",
   "id": "9b6d11bc",
   "metadata": {
    "ExecuteTime": {
     "end_time": "2024-09-26T22:11:21.163616Z",
     "start_time": "2024-09-26T22:11:21.152343Z"
    }
   },
   "source": [
    "@check_exercise_41\n",
    "def exercise_41(text):\n",
    "    # This line is mandatory and should not be removed\n",
    "    ex_stat_init = True\n",
    "\n",
    "    # given the variable `text`, assign to the variable `words` the number of words in the string;\n",
    "    # BELOW GOES YOUR CODE\n",
    "    words = len(text.split())\n",
    "    # ABOVE GOES YOUR CODE\n",
    "    return {\n",
    "        \"words\": words\n",
    "    }\n",
    "\n",
    "# Run the exercise\n",
    "exercise_41()"
   ],
   "outputs": [
    {
     "name": "stdout",
     "output_type": "stream",
     "text": [
      "✅ Great job! Exercise completed successfully.\n"
     ]
    }
   ],
   "execution_count": 10
  },
  {
   "cell_type": "code",
   "id": "ab545364",
   "metadata": {
    "ExecuteTime": {
     "end_time": "2024-09-26T22:13:06.751313Z",
     "start_time": "2024-09-26T22:13:06.736909Z"
    }
   },
   "source": [
    "@check_exercise_42\n",
    "def exercise_42(text):\n",
    "    # This line is mandatory and should not be removed\n",
    "    ex_stat_init = True\n",
    "\n",
    "    # given the variable `text`, assign to the variable `words` a list with all the words in the string;\n",
    "    # BELOW GOES YOUR CODE\n",
    "    words = text.split()\n",
    "    # ABOVE GOES YOUR CODE\n",
    "    return {\n",
    "        \"words\": words\n",
    "    }\n",
    "\n",
    "# Run the exercise\n",
    "exercise_42()"
   ],
   "outputs": [
    {
     "name": "stdout",
     "output_type": "stream",
     "text": [
      "✅ Great job! Exercise completed successfully.\n"
     ]
    }
   ],
   "execution_count": 11
  },
  {
   "cell_type": "code",
   "id": "4ea4b385",
   "metadata": {
    "ExecuteTime": {
     "end_time": "2024-09-26T22:17:10.054860Z",
     "start_time": "2024-09-26T22:17:10.044663Z"
    }
   },
   "source": [
    "@check_exercise_43\n",
    "def exercise_43(elements):\n",
    "    # This line is mandatory and should not be removed\n",
    "    ex_stat_init = True\n",
    "\n",
    "    # given the list `elements`, assign to the variable `last_element` the last element of the list;\n",
    "    # BELOW GOES YOUR CODE\n",
    "    last_element = elements[len(elements)-1]\n",
    "    # ABOVE GOES YOUR CODE\n",
    "    return {\n",
    "        \"last_element\": last_element\n",
    "    }\n",
    "\n",
    "# Run the exercise\n",
    "exercise_43()"
   ],
   "outputs": [
    {
     "name": "stdout",
     "output_type": "stream",
     "text": [
      "✅ Great job! Exercise completed successfully.\n"
     ]
    }
   ],
   "execution_count": 15
  },
  {
   "cell_type": "code",
   "id": "065f0b86",
   "metadata": {
    "ExecuteTime": {
     "end_time": "2024-09-26T22:22:56.250599Z",
     "start_time": "2024-09-26T22:22:56.237869Z"
    }
   },
   "source": [
    "@check_exercise_44\n",
    "def exercise_44(elements):\n",
    "    # This line is mandatory and should not be removed\n",
    "    ex_stat_init = True\n",
    "\n",
    "    # given the list `elements`, assign to the variable `first_half` the first half of the list;\n",
    "    # BELOW GOES YOUR CODE\n",
    "    first_half = elements[:len(elements) // 2]\n",
    "    # ABOVE GOES YOUR CODE\n",
    "    return {\n",
    "        \"first_half\": first_half\n",
    "    }\n",
    "\n",
    "# Run the exercise\n",
    "exercise_44()"
   ],
   "outputs": [
    {
     "name": "stdout",
     "output_type": "stream",
     "text": [
      "✅ Great job! Exercise completed successfully.\n"
     ]
    }
   ],
   "execution_count": 26
  },
  {
   "cell_type": "code",
   "id": "aff6ea2e",
   "metadata": {
    "ExecuteTime": {
     "end_time": "2024-09-26T22:23:52.485743Z",
     "start_time": "2024-09-26T22:23:52.473058Z"
    }
   },
   "source": [
    "@check_exercise_45\n",
    "def exercise_45(elements):\n",
    "    # This line is mandatory and should not be removed\n",
    "    ex_stat_init = True\n",
    "\n",
    "    # given the list `elements`, assign to the variable `second_half` the second half of the list;\n",
    "    # BELOW GOES YOUR CODE\n",
    "    second_half = elements[len(elements) // 2:]\n",
    "    # ABOVE GOES YOUR CODE\n",
    "    return {\n",
    "        \"second_half\": second_half\n",
    "    }\n",
    "\n",
    "# Run the exercise\n",
    "exercise_45()"
   ],
   "outputs": [
    {
     "name": "stdout",
     "output_type": "stream",
     "text": [
      "✅ Great job! Exercise completed successfully.\n"
     ]
    }
   ],
   "execution_count": 27
  },
  {
   "cell_type": "code",
   "id": "bb5c1da4",
   "metadata": {
    "ExecuteTime": {
     "end_time": "2024-09-26T22:24:25.749454Z",
     "start_time": "2024-09-26T22:24:25.734694Z"
    }
   },
   "source": [
    "@check_exercise_46\n",
    "def exercise_46(elements):\n",
    "    # This line is mandatory and should not be removed\n",
    "    ex_stat_init = True\n",
    "\n",
    "    # given the list `elements`, assign to the variable `middle` the middle element of the list given that the list has an odd number of elements;\n",
    "    # BELOW GOES YOUR CODE\n",
    "    middle = elements[len(elements) // 2]\n",
    "    # ABOVE GOES YOUR CODE\n",
    "    return {\n",
    "        \"middle\": middle\n",
    "    }\n",
    "\n",
    "# Run the exercise\n",
    "exercise_46()"
   ],
   "outputs": [
    {
     "name": "stdout",
     "output_type": "stream",
     "text": [
      "✅ Great job! Exercise completed successfully.\n"
     ]
    }
   ],
   "execution_count": 28
  },
  {
   "cell_type": "code",
   "id": "443f5690",
   "metadata": {
    "ExecuteTime": {
     "end_time": "2024-09-26T22:26:49.601114Z",
     "start_time": "2024-09-26T22:26:49.583544Z"
    }
   },
   "source": [
    "@check_exercise_47\n",
    "def exercise_47(elements):\n",
    "    # This line is mandatory and should not be removed\n",
    "    ex_stat_init = True\n",
    "\n",
    "    # given the list `elements`, assign to the variable `sorted_elements` the list sorted in ascending order;\n",
    "    # BELOW GOES YOUR CODE\n",
    "    elements.sort ()\n",
    "    sorted_elements = elements\n",
    "    # ABOVE GOES YOUR CODE\n",
    "    return {\n",
    "        \"sorted_elements\": sorted_elements\n",
    "    }\n",
    "\n",
    "# Run the exercise\n",
    "exercise_47()"
   ],
   "outputs": [
    {
     "name": "stdout",
     "output_type": "stream",
     "text": [
      "✅ Great job! Exercise completed successfully.\n"
     ]
    }
   ],
   "execution_count": 30
  },
  {
   "cell_type": "code",
   "id": "4cf47964",
   "metadata": {
    "ExecuteTime": {
     "end_time": "2024-09-26T22:27:40.280479Z",
     "start_time": "2024-09-26T22:27:40.271537Z"
    }
   },
   "source": [
    "@check_exercise_48\n",
    "def exercise_48(elements):\n",
    "    # This line is mandatory and should not be removed\n",
    "    ex_stat_init = True\n",
    "\n",
    "    # given the list `elements`, assign to the variable `reversed_elements` the list in reverse order;\n",
    "    # BELOW GOES YOUR CODE\n",
    "    elements.reverse ()\n",
    "    reversed_elements = elements\n",
    "    # ABOVE GOES YOUR CODE\n",
    "    return {\n",
    "        \"reversed_elements\": reversed_elements\n",
    "    }\n",
    "\n",
    "# Run the exercise\n",
    "exercise_48()"
   ],
   "outputs": [
    {
     "name": "stdout",
     "output_type": "stream",
     "text": [
      "✅ Great job! Exercise completed successfully.\n"
     ]
    }
   ],
   "execution_count": 31
  },
  {
   "cell_type": "code",
   "id": "90d36e38",
   "metadata": {
    "ExecuteTime": {
     "end_time": "2024-09-26T22:31:19.358408Z",
     "start_time": "2024-09-26T22:31:19.345765Z"
    }
   },
   "source": [
    "@check_exercise_49\n",
    "def exercise_49(elements):\n",
    "    # This line is mandatory and should not be removed\n",
    "    ex_stat_init = True\n",
    "\n",
    "    # given the list `elements`, assign to the variable `unique_elements` the sorted list with unique elements;\n",
    "    # BELOW GOES YOUR CODE\n",
    "    unique_elements = sorted (set(elements))\n",
    "    # ABOVE GOES YOUR CODE\n",
    "    return {\n",
    "        \"unique_elements\": unique_elements\n",
    "    }\n",
    "\n",
    "# Run the exercise\n",
    "exercise_49()"
   ],
   "outputs": [
    {
     "name": "stdout",
     "output_type": "stream",
     "text": [
      "✅ Great job! Exercise completed successfully.\n"
     ]
    }
   ],
   "execution_count": 33
  },
  {
   "cell_type": "code",
   "id": "3dfe827e",
   "metadata": {
    "ExecuteTime": {
     "end_time": "2024-09-30T07:58:09.888449Z",
     "start_time": "2024-09-30T07:58:09.875615Z"
    }
   },
   "source": [
    "@check_exercise_50\n",
    "def exercise_50(elements, elements_to_add):\n",
    "    # This line is mandatory and should not be removed\n",
    "    ex_stat_init = True\n",
    "\n",
    "    # given the list `elements`, insert the element \"Python\" in the second position of the list, append the element \"is\" in the last position and remove the element \"Java\", and add the elements of the list `elements_to_add` to the list;\n",
    "    # BELOW GOES YOUR CODE\n",
    "    elements.insert (1, \"Python\")       \n",
    "    elements.append (\"is\")                \n",
    "    if \"Java\" in elements:\n",
    "        elements.remove (\"Java\")     \n",
    "    elements.extend (elements_to_add)\n",
    "    # ABOVE GOES YOUR CODE\n",
    "    return {\n",
    "        \"elements\": elements\n",
    "    }\n",
    "\n",
    "# Run the exercise\n",
    "exercise_50()"
   ],
   "outputs": [
    {
     "name": "stdout",
     "output_type": "stream",
     "text": [
      "✅ Great job! Exercise completed successfully.\n"
     ]
    }
   ],
   "execution_count": 2
  },
  {
   "cell_type": "code",
   "id": "d55ca2ab",
   "metadata": {
    "ExecuteTime": {
     "end_time": "2024-09-26T22:45:38.648486Z",
     "start_time": "2024-09-26T22:45:38.636068Z"
    }
   },
   "source": [
    "@check_exercise_51\n",
    "def exercise_51(elements):\n",
    "    # This line is mandatory and should not be removed\n",
    "    ex_stat_init = True\n",
    "\n",
    "    # given the list `elements`, assign to the variable `sum_elements` the sum of the elements;\n",
    "    # BELOW GOES YOUR CODE\n",
    "    sum_elements = sum (elements)\n",
    "    # ABOVE GOES YOUR CODE\n",
    "    return {\n",
    "        \"sum_elements\": sum_elements\n",
    "    }\n",
    "\n",
    "# Run the exercise\n",
    "exercise_51()"
   ],
   "outputs": [
    {
     "name": "stdout",
     "output_type": "stream",
     "text": [
      "✅ Great job! Exercise completed successfully.\n"
     ]
    }
   ],
   "execution_count": 50
  },
  {
   "cell_type": "code",
   "id": "e6d42444",
   "metadata": {
    "ExecuteTime": {
     "end_time": "2024-09-26T22:46:45.331739Z",
     "start_time": "2024-09-26T22:46:45.316693Z"
    }
   },
   "source": [
    "@check_exercise_52\n",
    "def exercise_52(elements):\n",
    "    # This line is mandatory and should not be removed\n",
    "    ex_stat_init = True\n",
    "\n",
    "    # given the list `elements`, assign to the variable `max_element` the maximum element of the list;\n",
    "    # BELOW GOES YOUR CODE\n",
    "    max_element = max(elements)\n",
    "    # ABOVE GOES YOUR CODE\n",
    "    return {\n",
    "        \"max_element\": max_element\n",
    "    }\n",
    "\n",
    "# Run the exercise\n",
    "exercise_52()"
   ],
   "outputs": [
    {
     "name": "stdout",
     "output_type": "stream",
     "text": [
      "✅ Great job! Exercise completed successfully.\n"
     ]
    }
   ],
   "execution_count": 52
  },
  {
   "cell_type": "code",
   "id": "94a35357",
   "metadata": {
    "ExecuteTime": {
     "end_time": "2024-09-26T22:46:57.977627Z",
     "start_time": "2024-09-26T22:46:57.958467Z"
    }
   },
   "source": [
    "@check_exercise_53\n",
    "def exercise_53(elements):\n",
    "    # This line is mandatory and should not be removed\n",
    "    ex_stat_init = True\n",
    "\n",
    "    # given the list `elements`, assign to the variable `min_element` the minimum element of the list;\n",
    "    # BELOW GOES YOUR CODE\n",
    "    min_element = min(elements)\n",
    "    # ABOVE GOES YOUR CODE\n",
    "    return {\n",
    "        \"min_element\": min_element\n",
    "    }\n",
    "\n",
    "# Run the exercise\n",
    "exercise_53()"
   ],
   "outputs": [
    {
     "name": "stdout",
     "output_type": "stream",
     "text": [
      "✅ Great job! Exercise completed successfully.\n"
     ]
    }
   ],
   "execution_count": 53
  },
  {
   "cell_type": "code",
   "id": "bf69d509",
   "metadata": {
    "ExecuteTime": {
     "end_time": "2024-09-26T22:47:48.001531Z",
     "start_time": "2024-09-26T22:47:47.979189Z"
    }
   },
   "source": [
    "@check_exercise_54\n",
    "def exercise_54(elements):\n",
    "    # This line is mandatory and should not be removed\n",
    "    ex_stat_init = True\n",
    "\n",
    "    # given the list `elements`, assign to the variable `average` the average of the elements;\n",
    "    # BELOW GOES YOUR CODE\n",
    "    average = sum (elements)/len(elements)\n",
    "    # ABOVE GOES YOUR CODE\n",
    "    return {\n",
    "        \"average\": average\n",
    "    }\n",
    "\n",
    "# Run the exercise\n",
    "exercise_54()"
   ],
   "outputs": [
    {
     "name": "stdout",
     "output_type": "stream",
     "text": [
      "✅ Great job! Exercise completed successfully.\n"
     ]
    }
   ],
   "execution_count": 54
  },
  {
   "cell_type": "code",
   "id": "189c9bd5",
   "metadata": {
    "ExecuteTime": {
     "end_time": "2024-09-26T22:49:16.065506Z",
     "start_time": "2024-09-26T22:49:16.051387Z"
    }
   },
   "source": [
    "@check_exercise_55\n",
    "def exercise_55(elements):\n",
    "    # This line is mandatory and should not be removed\n",
    "    ex_stat_init = True\n",
    "\n",
    "    # given the list `elements`, pop the last element of the list and assign it to the variable `last_element`;\n",
    "    # BELOW GOES YOUR CODE\n",
    "    last_element = elements.pop ()\n",
    "    # ABOVE GOES YOUR CODE\n",
    "    return {\n",
    "        \"last_element\": last_element,\n",
    "        \"elements\": elements\n",
    "    }\n",
    "\n",
    "# Run the exercise\n",
    "exercise_55()"
   ],
   "outputs": [
    {
     "name": "stdout",
     "output_type": "stream",
     "text": [
      "✅ Great job! Exercise completed successfully.\n"
     ]
    }
   ],
   "execution_count": 56
  },
  {
   "cell_type": "code",
   "id": "c1159585",
   "metadata": {
    "ExecuteTime": {
     "end_time": "2024-09-30T08:04:05.055123Z",
     "start_time": "2024-09-30T08:04:05.047508Z"
    }
   },
   "source": [
    "@check_exercise_56\n",
    "def exercise_56(coordinates1, coordinates2):\n",
    "    # This line is mandatory and should not be removed\n",
    "    ex_stat_init = True\n",
    "\n",
    "    # given the tuples `coordinates1` and `coordinates2`, assign to the variable `distance` the distance between the two points;\n",
    "    # BELOW GOES YOUR CODE\n",
    "    distance = ((coordinates1[0] - coordinates2[0]) ** 2 + (coordinates1[1] - coordinates2[1]) ** 2)** 0.5\n",
    "    # ABOVE GOES YOUR CODE\n",
    "    return {\n",
    "        \"distance\": distance\n",
    "    }\n",
    "\n",
    "# Run the exercise\n",
    "exercise_56()"
   ],
   "outputs": [
    {
     "name": "stdout",
     "output_type": "stream",
     "text": [
      "✅ Great job! Exercise completed successfully.\n"
     ]
    }
   ],
   "execution_count": 7
  },
  {
   "cell_type": "code",
   "id": "4e497d1a",
   "metadata": {
    "ExecuteTime": {
     "end_time": "2024-09-26T22:54:26.794595Z",
     "start_time": "2024-09-26T22:54:26.780377Z"
    }
   },
   "source": [
    "@check_exercise_57\n",
    "def exercise_57(first_tuple, second_tuple):\n",
    "    # This line is mandatory and should not be removed\n",
    "    ex_stat_init = True\n",
    "\n",
    "    # given the tuples `first_tuple` and `second_tuple`, assign to the variable `concatenated_tuple` the concatenation of the two tuples;\n",
    "    # BELOW GOES YOUR CODE\n",
    "    concatenated_tuple = first_tuple + second_tuple\n",
    "    # ABOVE GOES YOUR CODE\n",
    "    return {\n",
    "        \"concatenated_tuple\": concatenated_tuple\n",
    "    }\n",
    "\n",
    "# Run the exercise\n",
    "exercise_57()"
   ],
   "outputs": [
    {
     "name": "stdout",
     "output_type": "stream",
     "text": [
      "✅ Great job! Exercise completed successfully.\n"
     ]
    }
   ],
   "execution_count": 62
  },
  {
   "cell_type": "code",
   "id": "8583ba95",
   "metadata": {
    "ExecuteTime": {
     "end_time": "2024-09-26T23:02:23.659278Z",
     "start_time": "2024-09-26T23:02:23.644488Z"
    }
   },
   "source": [
    "@check_exercise_58\n",
    "def exercise_58(tuple_to_multiply):\n",
    "    # This line is mandatory and should not be removed\n",
    "    ex_stat_init = True\n",
    "\n",
    "    # given the tuple `tuple_to_multiply`, assign to the variable `multiplied_tuple` the tuple multiplied by 3;\n",
    "    # BELOW GOES YOUR CODE\n",
    "    multiplied_tuple = (3*tuple_to_multiply)\n",
    "    # ABOVE GOES YOUR CODE\n",
    "    return {\n",
    "        \"multiplied_tuple\": multiplied_tuple\n",
    "    }\n",
    "\n",
    "# Run the exercise\n",
    "exercise_58()"
   ],
   "outputs": [
    {
     "name": "stdout",
     "output_type": "stream",
     "text": [
      "✅ Great job! Exercise completed successfully.\n"
     ]
    }
   ],
   "execution_count": 71
  },
  {
   "cell_type": "code",
   "id": "5da06cd8",
   "metadata": {
    "ExecuteTime": {
     "end_time": "2024-09-26T23:04:57.712617Z",
     "start_time": "2024-09-26T23:04:57.701181Z"
    }
   },
   "source": [
    "@check_exercise_59\n",
    "def exercise_59(student_dictionary):\n",
    "    # This line is mandatory and should not be removed\n",
    "    ex_stat_init = True\n",
    "\n",
    "    # given the dictionary `student_dictionary`, assign to the variable `students` a list with all the keys of the dictionary;\n",
    "    # BELOW GOES YOUR CODE\n",
    "    students = list (student_dictionary.keys())\n",
    "    # ABOVE GOES YOUR CODE\n",
    "    return {\n",
    "        \"students\": students\n",
    "    }\n",
    "\n",
    "# Run the exercise\n",
    "exercise_59()"
   ],
   "outputs": [
    {
     "name": "stdout",
     "output_type": "stream",
     "text": [
      "✅ Great job! Exercise completed successfully.\n"
     ]
    }
   ],
   "execution_count": 74
  },
  {
   "cell_type": "code",
   "id": "cdfa5ce6",
   "metadata": {
    "ExecuteTime": {
     "end_time": "2024-09-26T23:05:22.690150Z",
     "start_time": "2024-09-26T23:05:22.681219Z"
    }
   },
   "source": [
    "@check_exercise_60\n",
    "def exercise_60(student_dictionary):\n",
    "    # This line is mandatory and should not be removed\n",
    "    ex_stat_init = True\n",
    "\n",
    "    # given the dictionary `student_dictionary`, assign to the variable `grades`a list with all the values of the dictionary;\n",
    "    # BELOW GOES YOUR CODE\n",
    "    grades = list (student_dictionary.values())\n",
    "    # ABOVE GOES YOUR CODE\n",
    "    return {\n",
    "        \"grades\": grades\n",
    "    }\n",
    "\n",
    "# Run the exercise\n",
    "exercise_60()"
   ],
   "outputs": [
    {
     "name": "stdout",
     "output_type": "stream",
     "text": [
      "✅ Great job! Exercise completed successfully.\n"
     ]
    }
   ],
   "execution_count": 76
  },
  {
   "cell_type": "code",
   "id": "b305abf2",
   "metadata": {
    "ExecuteTime": {
     "end_time": "2024-09-26T23:05:57.055318Z",
     "start_time": "2024-09-26T23:05:57.044399Z"
    }
   },
   "source": [
    "@check_exercise_61\n",
    "def exercise_61(student_dictionary):\n",
    "    # This line is mandatory and should not be removed\n",
    "    ex_stat_init = True\n",
    "\n",
    "    # given the dictionary `student_dictionary`, assign to the variable `students` a list of all the items of the dictionary;\n",
    "    # BELOW GOES YOUR CODE\n",
    "    students = list (student_dictionary.items())\n",
    "    # ABOVE GOES YOUR CODE\n",
    "    return {\n",
    "        \"students\": students\n",
    "    }\n",
    "\n",
    "# Run the exercise\n",
    "exercise_61()"
   ],
   "outputs": [
    {
     "name": "stdout",
     "output_type": "stream",
     "text": [
      "✅ Great job! Exercise completed successfully.\n"
     ]
    }
   ],
   "execution_count": 77
  },
  {
   "cell_type": "code",
   "id": "63282078",
   "metadata": {
    "ExecuteTime": {
     "end_time": "2024-09-26T23:08:10.464462Z",
     "start_time": "2024-09-26T23:08:10.447878Z"
    }
   },
   "source": [
    "@check_exercise_62\n",
    "def exercise_62(class_dictionary, students_dictionary):\n",
    "    # This line is mandatory and should not be removed\n",
    "    ex_stat_init = True\n",
    "\n",
    "    # given the dictionaries `class_dictionary` and `students_dictionary`, add to the `class_dictionary` the items of the `students_dictionary`;\n",
    "    # BELOW GOES YOUR CODE\n",
    "    class_dictionary = class_dictionary.copy()\n",
    "    class_dictionary.update(students_dictionary)\n",
    "    # ABOVE GOES YOUR CODE\n",
    "    return {\n",
    "        \"class_dictionary\": class_dictionary\n",
    "    }\n",
    "\n",
    "# Run the exercise\n",
    "exercise_62()"
   ],
   "outputs": [
    {
     "name": "stdout",
     "output_type": "stream",
     "text": [
      "✅ Great job! Exercise completed successfully.\n"
     ]
    }
   ],
   "execution_count": 78
  },
  {
   "cell_type": "code",
   "id": "73ff1f03",
   "metadata": {
    "ExecuteTime": {
     "end_time": "2024-09-26T23:10:12.600657Z",
     "start_time": "2024-09-26T23:10:12.587465Z"
    }
   },
   "source": [
    "@check_exercise_63\n",
    "def exercise_63(class_dictionary):\n",
    "    # This line is mandatory and should not be removed\n",
    "    ex_stat_init = True\n",
    "\n",
    "    # given the dictionary `class_dictionary`, remove the item with the key \"John\";\n",
    "    # BELOW GOES YOUR CODE\n",
    "    del class_dictionary[\"John\"]\n",
    "    # ABOVE GOES YOUR CODE\n",
    "    return {\n",
    "        \"class_dictionary\": class_dictionary\n",
    "    }\n",
    "\n",
    "# Run the exercise\n",
    "exercise_63()"
   ],
   "outputs": [
    {
     "name": "stdout",
     "output_type": "stream",
     "text": [
      "✅ Great job! Exercise completed successfully.\n"
     ]
    }
   ],
   "execution_count": 79
  },
  {
   "cell_type": "code",
   "id": "9cf81cee",
   "metadata": {
    "ExecuteTime": {
     "end_time": "2024-09-26T23:11:33.232562Z",
     "start_time": "2024-09-26T23:11:33.211658Z"
    }
   },
   "source": [
    "@check_exercise_64\n",
    "def exercise_64(class_dictionary):\n",
    "    # This line is mandatory and should not be removed\n",
    "    ex_stat_init = True\n",
    "\n",
    "    # given the dictionary `class_dictionary`, assign to the variable `alex_grade` the grade of Alex, if it exists;\n",
    "    # BELOW GOES YOUR CODE\n",
    "    alex_grade = class_dictionary.get(\"Alex\")\n",
    "    # ABOVE GOES YOUR CODE\n",
    "    return {\n",
    "        \"alex_grade\": alex_grade\n",
    "    }\n",
    "\n",
    "# Run the exercise\n",
    "exercise_64()"
   ],
   "outputs": [
    {
     "name": "stdout",
     "output_type": "stream",
     "text": [
      "✅ Great job! Exercise completed successfully.\n"
     ]
    }
   ],
   "execution_count": 80
  },
  {
   "cell_type": "code",
   "id": "f2393712",
   "metadata": {
    "ExecuteTime": {
     "end_time": "2024-09-26T23:13:58.301285Z",
     "start_time": "2024-09-26T23:13:58.287369Z"
    }
   },
   "source": [
    "@check_exercise_65\n",
    "def exercise_65(first_set):\n",
    "    # This line is mandatory and should not be removed\n",
    "    ex_stat_init = True\n",
    "\n",
    "    # given the set `first_set`, assign to the variable `second_set` the `first_set` with the elements \"Python\" and \"is\" added;\n",
    "    # BELOW GOES YOUR CODE\n",
    "    second_set = set(first_set)\n",
    "    second_set.add(\"Python\")\n",
    "    second_set.add(\"is\")\n",
    "    # ABOVE GOES YOUR CODE\n",
    "    return {\n",
    "        \"second_set\": second_set\n",
    "    }\n",
    "\n",
    "# Run the exercise\n",
    "exercise_65()"
   ],
   "outputs": [
    {
     "name": "stdout",
     "output_type": "stream",
     "text": [
      "✅ Great job! Exercise completed successfully.\n"
     ]
    }
   ],
   "execution_count": 82
  },
  {
   "cell_type": "code",
   "id": "fccf4d10",
   "metadata": {
    "ExecuteTime": {
     "end_time": "2024-09-26T23:15:19.821991Z",
     "start_time": "2024-09-26T23:15:19.804689Z"
    }
   },
   "source": [
    "@check_exercise_66\n",
    "def exercise_66(first_set):\n",
    "    # This line is mandatory and should not be removed\n",
    "    ex_stat_init = True\n",
    "\n",
    "    # given the set `first_set`, assign to the variable `second_set` the `first_set` with the elements \"Python\" and \"is\" removed;\n",
    "    # BELOW GOES YOUR CODE\n",
    "    second_set = set(first_set)\n",
    "    second_set.remove(\"Python\")\n",
    "    second_set.remove(\"is\")\n",
    "    # ABOVE GOES YOUR CODE\n",
    "    return {\n",
    "        \"second_set\": second_set\n",
    "    }\n",
    "\n",
    "# Run the exercise\n",
    "exercise_66()"
   ],
   "outputs": [
    {
     "name": "stdout",
     "output_type": "stream",
     "text": [
      "✅ Great job! Exercise completed successfully.\n"
     ]
    }
   ],
   "execution_count": 83
  },
  {
   "cell_type": "code",
   "id": "48e19fbe",
   "metadata": {
    "ExecuteTime": {
     "end_time": "2024-09-26T23:16:50.916371Z",
     "start_time": "2024-09-26T23:16:50.908902Z"
    }
   },
   "source": [
    "@check_exercise_67\n",
    "def exercise_67(first_set):\n",
    "    # This line is mandatory and should not be removed\n",
    "    ex_stat_init = True\n",
    "\n",
    "    # given the set `first_set`, assign to the variable `second_set` the union of `first_set` with the set {\"Python\"};\n",
    "    # BELOW GOES YOUR CODE\n",
    "    second_set = set((first_set).union({\"Python\"}))\n",
    "    # ABOVE GOES YOUR CODE\n",
    "    return {\n",
    "        \"second_set\": second_set\n",
    "    }\n",
    "\n",
    "# Run the exercise\n",
    "exercise_67()"
   ],
   "outputs": [
    {
     "name": "stdout",
     "output_type": "stream",
     "text": [
      "✅ Great job! Exercise completed successfully.\n"
     ]
    }
   ],
   "execution_count": 84
  },
  {
   "cell_type": "code",
   "id": "d44358dd",
   "metadata": {
    "ExecuteTime": {
     "end_time": "2024-09-26T23:17:50.064383Z",
     "start_time": "2024-09-26T23:17:50.052306Z"
    }
   },
   "source": [
    "@check_exercise_68\n",
    "def exercise_68(first_set, second_set):\n",
    "    # This line is mandatory and should not be removed\n",
    "    ex_stat_init = True\n",
    "\n",
    "    # given the sets `first_set` and `second_set`, assign to the variable `third_set` the intersection of the two sets;\n",
    "    # BELOW GOES YOUR CODE\n",
    "    third_set = set((first_set).intersection(second_set))\n",
    "    # ABOVE GOES YOUR CODE\n",
    "    return {\n",
    "        \"third_set\": third_set\n",
    "    }\n",
    "\n",
    "# Run the exercise\n",
    "exercise_68()"
   ],
   "outputs": [
    {
     "name": "stdout",
     "output_type": "stream",
     "text": [
      "✅ Great job! Exercise completed successfully.\n"
     ]
    }
   ],
   "execution_count": 85
  },
  {
   "cell_type": "code",
   "id": "e836627c",
   "metadata": {
    "ExecuteTime": {
     "end_time": "2024-09-26T23:19:30.272414Z",
     "start_time": "2024-09-26T23:19:30.258907Z"
    }
   },
   "source": [
    "@check_exercise_69\n",
    "def exercise_69(first_set, second_set):\n",
    "    # This line is mandatory and should not be removed\n",
    "    ex_stat_init = True\n",
    "\n",
    "    # given the sets `first_set` and `second_set`, assign to the variable `third_set` the difference of the two sets;\n",
    "    # BELOW GOES YOUR CODE\n",
    "    third_set = set((first_set).difference(second_set))\n",
    "    # ABOVE GOES YOUR CODE\n",
    "    return {\n",
    "        \"third_set\": third_set\n",
    "    }\n",
    "\n",
    "# Run the exercise\n",
    "exercise_69()"
   ],
   "outputs": [
    {
     "name": "stdout",
     "output_type": "stream",
     "text": [
      "✅ Great job! Exercise completed successfully.\n"
     ]
    }
   ],
   "execution_count": 86
  },
  {
   "cell_type": "code",
   "id": "4a0ff913",
   "metadata": {
    "ExecuteTime": {
     "end_time": "2024-09-26T23:24:17.844236Z",
     "start_time": "2024-09-26T23:24:17.833599Z"
    }
   },
   "source": [
    "@check_exercise_70\n",
    "def exercise_70(first_set, second_set):\n",
    "    # This line is mandatory and should not be removed\n",
    "    ex_stat_init = True\n",
    "\n",
    "    # given the sets `first_set` and `second_set`, assign to the variable `third_set` the symmetric difference of the two sets and remove the element \"Python\" from it, if present;\n",
    "    # BELOW GOES YOUR CODE\n",
    "    third_set = first_set.symmetric_difference (second_set)  \n",
    "    if \"Python\" in third_set:\n",
    "        third_set.remove(\"Python\")\n",
    "    # ABOVE GOES YOUR CODE\n",
    "    return {\n",
    "        \"third_set\": third_set\n",
    "    }\n",
    "\n",
    "# Run the exercise\n",
    "exercise_70()"
   ],
   "outputs": [
    {
     "name": "stdout",
     "output_type": "stream",
     "text": [
      "✅ Great job! Exercise completed successfully.\n"
     ]
    }
   ],
   "execution_count": 92
  },
  {
   "cell_type": "code",
   "id": "63816c84",
   "metadata": {
    "ExecuteTime": {
     "end_time": "2024-09-26T23:26:59.976472Z",
     "start_time": "2024-09-26T23:26:59.949687Z"
    }
   },
   "source": [
    "@check_exercise_71\n",
    "def exercise_71(computations):\n",
    "    # This line is mandatory and should not be removed\n",
    "    ex_stat_init = True\n",
    "    \n",
    "    # convert all values of the dictionary `computations` to floats;\n",
    "    # BELOW GOES YOUR CODE\n",
    "    for computation in computations:\n",
    "        computations[computation] = float (computations[computation])\n",
    "    # ABOVE GOES YOUR CODE\n",
    "    return {\n",
    "        \"computations\": computations\n",
    "    }\n",
    "\n",
    "# Run the exercise\n",
    "exercise_71()\n",
    "\n"
   ],
   "outputs": [
    {
     "name": "stdout",
     "output_type": "stream",
     "text": [
      "✅ Great job! Exercise completed successfully.\n"
     ]
    }
   ],
   "execution_count": 93
  },
  {
   "cell_type": "code",
   "id": "52313e9a",
   "metadata": {
    "ExecuteTime": {
     "end_time": "2024-09-26T23:27:50.447833Z",
     "start_time": "2024-09-26T23:27:50.433216Z"
    }
   },
   "source": [
    "@check_exercise_72\n",
    "def exercise_72(computations):\n",
    "    # This line is mandatory and should not be removed\n",
    "    ex_stat_init = True\n",
    "    \n",
    "    # convert all values of the dictionary `computations` to integers;\n",
    "    # BELOW GOES YOUR CODE\n",
    "    for computation in computations:\n",
    "        computations[computation] = int (computations[computation])\n",
    "    # ABOVE GOES YOUR CODE\n",
    "    return {\n",
    "        \"computations\": computations\n",
    "    }\n",
    "\n",
    "# Run the exercise\n",
    "exercise_72()"
   ],
   "outputs": [
    {
     "name": "stdout",
     "output_type": "stream",
     "text": [
      "✅ Great job! Exercise completed successfully.\n"
     ]
    }
   ],
   "execution_count": 94
  },
  {
   "cell_type": "code",
   "id": "6e5fedc2",
   "metadata": {
    "ExecuteTime": {
     "end_time": "2024-09-26T23:30:30.366086Z",
     "start_time": "2024-09-26T23:30:30.351644Z"
    }
   },
   "source": [
    "@check_exercise_73\n",
    "def exercise_73(x, y, z):\n",
    "    # This line is mandatory and should not be removed\n",
    "    ex_stat_init = True\n",
    "    \n",
    "    # create a dictionary called `comparisons` with the keys \"eq_x_y\", \"eq_x_z\", \"eq_y_z\", \"ne_x_y\", \"ne_x_z\", \"ne_y_z\", \"gt_x_y\", \"gt_x_z\", \"gt_y_z\", \"ge_x_y\", \"ge_x_z\", \"ge_y_z\", \"lt_x_y\", \"lt_x_z\", \"lt_y_z\", \"le_x_y\", \"le_x_z\", \"le_y_z\" and the values the results of the respective operations given the variables x, y, z;\n",
    "    # BELOW GOES YOUR COD2\n",
    "    comparisons = {\n",
    "        \"eq_x_y\": x == y,\n",
    "        \"eq_x_z\": x == z,\n",
    "        \"eq_y_z\": y == z,\n",
    "        \"ne_x_y\": x != y,\n",
    "        \"ne_x_z\": x != z,\n",
    "        \"ne_y_z\": y != z,\n",
    "        \"gt_x_y\": x > y,\n",
    "        \"gt_x_z\": x > z,\n",
    "        \"gt_y_z\": y > z,\n",
    "        \"ge_x_y\": x >= y,\n",
    "        \"ge_x_z\": x >= z,\n",
    "        \"ge_y_z\": y >= z,\n",
    "        \"lt_x_y\": x < y,\n",
    "        \"lt_x_z\": x < z,\n",
    "        \"lt_y_z\": y < z,\n",
    "        \"le_x_y\": x <= y,\n",
    "        \"le_x_z\": x <= z,\n",
    "        \"le_y_z\": y <= z,\n",
    "    }\n",
    "    # ABOVE GOES YOUR CODE\n",
    "    return {\n",
    "        \"comparisons\": comparisons\n",
    "    }\n",
    "\n",
    "# Run the exercise\n",
    "exercise_73()"
   ],
   "outputs": [
    {
     "name": "stdout",
     "output_type": "stream",
     "text": [
      "✅ Great job! Exercise completed successfully.\n"
     ]
    }
   ],
   "execution_count": 96
  },
  {
   "cell_type": "code",
   "id": "0e59395c",
   "metadata": {
    "ExecuteTime": {
     "end_time": "2024-09-26T23:35:15.492135Z",
     "start_time": "2024-09-26T23:35:15.483532Z"
    }
   },
   "source": [
    "@check_exercise_74\n",
    "def exercise_74(x, y, z):\n",
    "    # This line is mandatory and should not be removed\n",
    "    ex_stat_init = True\n",
    "    \n",
    "    # create a dictionary called `logicals` with the keys \"and_x_y\", \"and_x_z\", \"and_y_z\", \"or_x_y\", \"or_x_z\", \"or_y_z\", \"not_x\", \"not_y\", \"not_z\" and the values the results of the respective operations given the variables x, y, z;\n",
    "    # BELOW GOES YOUR CODE\n",
    "    logicals = {\n",
    "       \"and_x_y\": x and y,        \n",
    "       \"and_x_z\": x and z,       \n",
    "       \"and_y_z\": y and z,       \n",
    "       \"or_x_y\": x or y,          \n",
    "       \"or_x_z\": x or z,          \n",
    "       \"or_y_z\": y or z,          \n",
    "       \"not_x\": not x,            \n",
    "       \"not_y\": not y,            \n",
    "       \"not_z\": not z    \n",
    "    }\n",
    "    # ABOVE GOES YOUR CODE\n",
    "    return {\n",
    "        \"logicals\": logicals\n",
    "    }\n",
    "\n",
    "# Run the exercise\n",
    "exercise_74()"
   ],
   "outputs": [
    {
     "name": "stdout",
     "output_type": "stream",
     "text": [
      "✅ Great job! Exercise completed successfully.\n"
     ]
    }
   ],
   "execution_count": 98
  },
  {
   "cell_type": "code",
   "id": "efba3b7e",
   "metadata": {
    "ExecuteTime": {
     "end_time": "2024-09-27T17:07:39.733480Z",
     "start_time": "2024-09-27T17:07:39.726766Z"
    }
   },
   "source": [
    "@check_exercise_75\n",
    "def exercise_75(amazing_string):\n",
    "    # This line is mandatory and should not be removed\n",
    "    ex_stat_init = True\n",
    "    \n",
    "    # replace the word \"amazing!\" with \"amazing! Especially when is taught at Sigmoid\" in the variable `amazing_string`;\n",
    "    # BELOW GOES YOUR CODE\n",
    "    amazing_string = amazing_string.replace (\"amazing!\",\"amazing! Especially when is taught at Sigmoid\")\n",
    "    print (amazing_string)\n",
    "    # ABOVE GOES YOUR CODE\n",
    "\n",
    "# Run the exercise\n",
    "exercise_75()"
   ],
   "outputs": [
    {
     "name": "stdout",
     "output_type": "stream",
     "text": [
      "✅ Great job! Exercise completed successfully.\n"
     ]
    }
   ],
   "execution_count": 13
  }
 ],
 "metadata": {
  "kernelspec": {
   "display_name": "excalibur",
   "language": "python",
   "name": "python3"
  },
  "language_info": {
   "codemirror_mode": {
    "name": "ipython",
    "version": 3
   },
   "file_extension": ".py",
   "mimetype": "text/x-python",
   "name": "python",
   "nbconvert_exporter": "python",
   "pygments_lexer": "ipython3",
   "version": "3.12.5"
  }
 },
 "nbformat": 4,
 "nbformat_minor": 5
}
