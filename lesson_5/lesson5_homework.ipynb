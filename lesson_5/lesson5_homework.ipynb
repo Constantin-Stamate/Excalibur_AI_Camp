{
 "cells": [
  {
   "cell_type": "code",
   "metadata": {
    "ExecuteTime": {
     "end_time": "2024-11-13T09:13:53.924591Z",
     "start_time": "2024-11-13T09:13:53.908076Z"
    }
   },
   "source": [
    "import json\n",
    "import pandas as pd\n",
    "# make sure you have the latest version of sigmoid_check installed with !pip install sigmoid_check --upgrade\n",
    "from sigmoid_check.excalibur import *"
   ],
   "outputs": [],
   "execution_count": 2
  },
  {
   "cell_type": "code",
   "metadata": {
    "ExecuteTime": {
     "end_time": "2024-10-21T13:00:29.499949Z",
     "start_time": "2024-10-21T13:00:29.478646Z"
    }
   },
   "source": [
    "# Given a list of dictionaries `data`, create a pandas DataFrame named `df_from_dict`.\n",
    "@check_pandas_1\n",
    "def pandas_1(data):\n",
    "    # This line is mandatory and should not be removed.\n",
    "    ex_stat_init = True\n",
    "\n",
    "    # BELOW GOES YOUR CODE\n",
    "    df_from_dict = pd.DataFrame(data)\n",
    "    print(df_from_dict)\n",
    "    # ABOVE GOES YOUR CODE\n",
    "    return {\"df_from_dict\": df_from_dict}\n",
    "\n",
    "pandas_1()"
   ],
   "outputs": [
    {
     "name": "stdout",
     "output_type": "stream",
     "text": [
      "   A  B\n",
      "0  1  2\n",
      "1  3  4\n",
      "2  5  6\n",
      "✅ Great job! Exercise completed successfully.\n"
     ]
    }
   ],
   "execution_count": 35
  },
  {
   "cell_type": "code",
   "metadata": {
    "ExecuteTime": {
     "end_time": "2024-10-21T13:00:29.713707Z",
     "start_time": "2024-10-21T13:00:29.691563Z"
    }
   },
   "source": [
    "# Create a pandas Series named `series_from_list` from a list of floats `float_list`, with no index specified.\n",
    "@check_pandas_2\n",
    "def pandas_2(float_list):\n",
    "    # This line is mandatory and should not be removed.\n",
    "    ex_stat_init = True\n",
    "\n",
    "    # BELOW GOES YOUR CODE\n",
    "    series_from_list = pd.Series(float_list)\n",
    "    print(series_from_list)\n",
    "    # ABOVE GOES YOUR CODE\n",
    "    return {\"series_from_list\": series_from_list}\n",
    "\n",
    "pandas_2()"
   ],
   "outputs": [
    {
     "name": "stdout",
     "output_type": "stream",
     "text": [
      "0    1.1\n",
      "1    2.2\n",
      "2    3.3\n",
      "dtype: float64\n",
      "✅ Great job! Exercise completed successfully.\n"
     ]
    }
   ],
   "execution_count": 36
  },
  {
   "cell_type": "code",
   "metadata": {
    "ExecuteTime": {
     "end_time": "2024-10-21T13:00:29.838880Z",
     "start_time": "2024-10-21T13:00:29.819469Z"
    }
   },
   "source": [
    "# Given a dictionary `dict_data` containing country names as keys and populations as values, create a pandas Series named `country_population`, using the dictionary keys as index.\n",
    "@check_pandas_3\n",
    "def pandas_3(dict_data):\n",
    "    # This line is mandatory and should not be removed.\n",
    "    ex_stat_init = True\n",
    "\n",
    "    # BELOW GOES YOUR CODE\n",
    "    country_population = pd.Series(dict_data)\n",
    "    print(country_population)\n",
    "    # ABOVE GOES YOUR CODE\n",
    "    return {\"country_population\": country_population}\n",
    "\n",
    "pandas_3()"
   ],
   "outputs": [
    {
     "name": "stdout",
     "output_type": "stream",
     "text": [
      "USA       328200000\n",
      "China    1439323776\n",
      "India    1380004385\n",
      "dtype: int64\n",
      "✅ Great job! Exercise completed successfully.\n"
     ]
    }
   ],
   "execution_count": 37
  },
  {
   "cell_type": "code",
   "metadata": {
    "ExecuteTime": {
     "end_time": "2024-10-21T13:00:30.047364Z",
     "start_time": "2024-10-21T13:00:30.035420Z"
    }
   },
   "source": [
    "# From a pandas Series `series_population`, access the index and save it in a variable `population_index`.\n",
    "@check_pandas_4\n",
    "def pandas_4(series_population):\n",
    "    # This line is mandatory and should not be removed.\n",
    "    ex_stat_init = True\n",
    "\n",
    "    # BELOW GOES YOUR CODE\n",
    "    population_index = series_population.index\n",
    "    print(population_index)\n",
    "    # ABOVE GOES YOUR CODE\n",
    "    return {\"population_index\": population_index}\n",
    "\n",
    "pandas_4()"
   ],
   "outputs": [
    {
     "name": "stdout",
     "output_type": "stream",
     "text": [
      "Index(['USA', 'China', 'India'], dtype='object')\n",
      "✅ Great job! Exercise completed successfully.\n"
     ]
    }
   ],
   "execution_count": 38
  },
  {
   "cell_type": "code",
   "metadata": {
    "ExecuteTime": {
     "end_time": "2024-10-21T13:00:30.242226Z",
     "start_time": "2024-10-21T13:00:30.224361Z"
    }
   },
   "source": [
    "# Using a pandas Series `series_temperatures`, extract the values and store them in a variable `temperature_values`.\n",
    "@check_pandas_5\n",
    "def pandas_5(series_temperatures):\n",
    "    # This line is mandatory and should not be removed.\n",
    "    ex_stat_init = True\n",
    "\n",
    "    # BELOW GOES YOUR CODE\n",
    "    temperature_values = series_temperatures.values\n",
    "    print(temperature_values)\n",
    "    # ABOVE GOES YOUR CODE\n",
    "    return {\"temperature_values\": temperature_values}\n",
    "\n",
    "pandas_5()"
   ],
   "outputs": [
    {
     "name": "stdout",
     "output_type": "stream",
     "text": [
      "[25 30 35 40 45]\n",
      "✅ Great job! Exercise completed successfully.\n"
     ]
    }
   ],
   "execution_count": 39
  },
  {
   "cell_type": "code",
   "metadata": {
    "ExecuteTime": {
     "end_time": "2024-10-21T13:00:30.525610Z",
     "start_time": "2024-10-21T13:00:30.511733Z"
    }
   },
   "source": [
    "# For a pandas Series `series_ages`, get the data type of the elements in the series and store it in a variable `ages_dtype`.\n",
    "@check_pandas_6\n",
    "def pandas_6(series_ages):\n",
    "    # This line is mandatory and should not be removed.\n",
    "    ex_stat_init = True\n",
    "\n",
    "    # BELOW GOES YOUR CODE\n",
    "    ages_dtype = series_ages.dtype\n",
    "    print(ages_dtype)\n",
    "    # ABOVE GOES YOUR CODE\n",
    "    return {\"ages_dtype\": ages_dtype}\n",
    "\n",
    "pandas_6()"
   ],
   "outputs": [
    {
     "name": "stdout",
     "output_type": "stream",
     "text": [
      "int64\n",
      "✅ Great job! Exercise completed successfully.\n"
     ]
    }
   ],
   "execution_count": 40
  },
  {
   "cell_type": "code",
   "metadata": {
    "ExecuteTime": {
     "end_time": "2024-10-21T13:00:30.739408Z",
     "start_time": "2024-10-21T13:00:30.722360Z"
    }
   },
   "source": [
    "# From a Series `series_custom_index` with a custom index, access the element with index 'A' and store it in a variable `element_A`.\n",
    "@check_pandas_7\n",
    "def pandas_7(series_custom_index):\n",
    "    # This line is mandatory and should not be removed.\n",
    "    ex_stat_init = True\n",
    "\n",
    "    # BELOW GOES YOUR CODE\n",
    "    element_A = series_custom_index['A']\n",
    "    print(element_A)\n",
    "    # ABOVE GOES YOUR CODE\n",
    "    return {\"element_A\": element_A}\n",
    "\n",
    "pandas_7()"
   ],
   "outputs": [
    {
     "name": "stdout",
     "output_type": "stream",
     "text": [
      "10\n",
      "✅ Great job! Exercise completed successfully.\n"
     ]
    }
   ],
   "execution_count": 41
  },
  {
   "cell_type": "code",
   "metadata": {
    "ExecuteTime": {
     "end_time": "2024-10-21T13:00:30.838459Z",
     "start_time": "2024-10-21T13:00:30.812147Z"
    }
   },
   "source": [
    "# Using a pandas Series `series_items`, slice the series to contain elements with indices from 'b' to 'd', inclusive, and save it into `sliced_series`.\n",
    "@check_pandas_8\n",
    "def pandas_8(series_items):\n",
    "    # This line is mandatory and should not be removed.\n",
    "    ex_stat_init = True\n",
    "\n",
    "    # BELOW GOES YOUR CODE\n",
    "    sliced_series = series_items['b':'d']\n",
    "    print(sliced_series)\n",
    "    # ABOVE GOES YOUR CODE\n",
    "    return {\"sliced_series\": sliced_series}\n",
    "\n",
    "pandas_8()"
   ],
   "outputs": [
    {
     "name": "stdout",
     "output_type": "stream",
     "text": [
      "b    20\n",
      "c    30\n",
      "d    40\n",
      "dtype: int64\n",
      "✅ Great job! Exercise completed successfully.\n"
     ]
    }
   ],
   "execution_count": 42
  },
  {
   "cell_type": "code",
   "metadata": {
    "ExecuteTime": {
     "end_time": "2024-10-21T13:00:31.032389Z",
     "start_time": "2024-10-21T13:00:31.007550Z"
    }
   },
   "source": [
    "# From a Series `series_prices`, select elements with custom indices ['apple', 'banana', 'cherry'] and store them in `selected_prices`.\n",
    "@check_pandas_9\n",
    "def pandas_9(series_prices):\n",
    "    # This line is mandatory and should not be removed.\n",
    "    ex_stat_init = True\n",
    "\n",
    "    # BELOW GOES YOUR CODE\n",
    "    selected_prices = pd.Series(series_prices, index=['apple', 'banana', 'cherry'])\n",
    "    print(selected_prices)\n",
    "    # ABOVE GOES YOUR CODE\n",
    "    return {\"selected_prices\": selected_prices}\n",
    "\n",
    "pandas_9()"
   ],
   "outputs": [
    {
     "name": "stdout",
     "output_type": "stream",
     "text": [
      "apple     2.5\n",
      "banana    1.5\n",
      "cherry    3.0\n",
      "dtype: float64\n",
      "✅ Great job! Exercise completed successfully.\n"
     ]
    }
   ],
   "execution_count": 43
  },
  {
   "cell_type": "code",
   "metadata": {
    "ExecuteTime": {
     "end_time": "2024-10-21T13:00:31.207518Z",
     "start_time": "2024-10-21T13:00:31.182559Z"
    }
   },
   "source": [
    "# Create a DataFrame `df_custom` from a list of lists `list_of_lists_data`, ensuring to label the columns as 'A', 'B', 'C'.\n",
    "@check_pandas_10\n",
    "def pandas_10(list_of_lists_data):\n",
    "    # This line is mandatory and should not be removed.\n",
    "    ex_stat_init = True\n",
    "\n",
    "    # BELOW GOES YOUR CODE\n",
    "    df_custom = pd.DataFrame(list_of_lists_data, columns=['A', 'B', 'C'])\n",
    "    print(df_custom)\n",
    "    # ABOVE GOES YOUR CODE\n",
    "    return {\"df_custom\": df_custom}\n",
    "\n",
    "pandas_10()"
   ],
   "outputs": [
    {
     "name": "stdout",
     "output_type": "stream",
     "text": [
      "   A  B  C\n",
      "0  1  2  3\n",
      "1  4  5  6\n",
      "2  7  8  9\n",
      "✅ Great job! Exercise completed successfully.\n"
     ]
    }
   ],
   "execution_count": 44
  },
  {
   "cell_type": "code",
   "metadata": {
    "ExecuteTime": {
     "end_time": "2024-10-21T13:00:31.376516Z",
     "start_time": "2024-10-21T13:00:31.344120Z"
    }
   },
   "source": [
    "# Given a list of tuples `data_tuples`, create a DataFrame named `df_from_tuples` and rename its columns to 'X', 'Y', 'Z'.\n",
    "@check_pandas_11\n",
    "def pandas_11(data_tuples):\n",
    "    # This line is mandatory and should not be removed.\n",
    "    ex_stat_init = True\n",
    "\n",
    "    # BELOW GOES YOUR CODE\n",
    "    df_from_tuples = pd.DataFrame(data_tuples, columns=['X', 'Y', 'Z'])\n",
    "    print(df_from_tuples)\n",
    "    # ABOVE GOES YOUR CODE\n",
    "    return {\"df_from_tuples\": df_from_tuples}\n",
    "\n",
    "pandas_11()"
   ],
   "outputs": [
    {
     "name": "stdout",
     "output_type": "stream",
     "text": [
      "   X  Y  Z\n",
      "0  1  2  3\n",
      "1  4  5  6\n",
      "2  7  8  9\n",
      "✅ Great job! Exercise completed successfully.\n"
     ]
    }
   ],
   "execution_count": 45
  },
  {
   "cell_type": "code",
   "metadata": {
    "ExecuteTime": {
     "end_time": "2024-10-21T13:00:31.533932Z",
     "start_time": "2024-10-21T13:00:31.518667Z"
    }
   },
   "source": [
    "# Using DataFrame `df_sales`, access and store the column names in variable `sales_columns`.\n",
    "@check_pandas_12\n",
    "def pandas_12(df_sales):\n",
    "    # This line is mandatory and should not be removed.\n",
    "    ex_stat_init = True\n",
    "\n",
    "    # BELOW GOES YOUR CODE\n",
    "    sales_columns = df_sales.columns\n",
    "    print(sales_columns)\n",
    "    # ABOVE GOES YOUR CODE\n",
    "    return {\"sales_columns\": sales_columns}\n",
    "\n",
    "pandas_12()"
   ],
   "outputs": [
    {
     "name": "stdout",
     "output_type": "stream",
     "text": [
      "Index(['Product', 'Sales'], dtype='object')\n",
      "✅ Great job! Exercise completed successfully.\n"
     ]
    }
   ],
   "execution_count": 46
  },
  {
   "cell_type": "code",
   "metadata": {
    "ExecuteTime": {
     "end_time": "2024-10-21T13:00:31.703506Z",
     "start_time": "2024-10-21T13:00:31.686775Z"
    }
   },
   "source": [
    "# Store the index of the DataFrame `df_employees` in a variable `employees_index`.\n",
    "@check_pandas_13\n",
    "def pandas_13(df_employees):\n",
    "    # This line is mandatory and should not be removed.\n",
    "    ex_stat_init = True\n",
    "\n",
    "    # BELOW GOES YOUR CODE\n",
    "    employees_index = df_employees.index\n",
    "    print(employees_index)\n",
    "    # ABOVE GOES YOUR CODE\n",
    "    return {\"employees_index\": employees_index}\n",
    "\n",
    "pandas_13()"
   ],
   "outputs": [
    {
     "name": "stdout",
     "output_type": "stream",
     "text": [
      "Index(['A', 'B', 'C'], dtype='object')\n",
      "✅ Great job! Exercise completed successfully.\n"
     ]
    }
   ],
   "execution_count": 47
  },
  {
   "cell_type": "code",
   "metadata": {
    "ExecuteTime": {
     "end_time": "2024-10-21T13:00:31.908569Z",
     "start_time": "2024-10-21T13:00:31.883356Z"
    }
   },
   "source": [
    "# Retrieve the values from DataFrame `df_weather` and save them into `weather_values`.\n",
    "@check_pandas_14\n",
    "def pandas_14(df_weather):\n",
    "    # This line is mandatory and should not be removed.\n",
    "    ex_stat_init = True\n",
    "\n",
    "    # BELOW GOES YOUR CODE\n",
    "    weather_values = df_weather.values\n",
    "    print(weather_values)\n",
    "    # ABOVE GOES YOUR CODE\n",
    "    return {\"weather_values\": weather_values}\n",
    "\n",
    "pandas_14()"
   ],
   "outputs": [
    {
     "name": "stdout",
     "output_type": "stream",
     "text": [
      "[['New York' 25]\n",
      " ['Los Angeles' 30]\n",
      " ['Chicago' 20]]\n",
      "✅ Great job! Exercise completed successfully.\n"
     ]
    }
   ],
   "execution_count": 48
  },
  {
   "cell_type": "code",
   "metadata": {
    "ExecuteTime": {
     "end_time": "2024-10-21T13:00:32.082547Z",
     "start_time": "2024-10-21T13:00:32.072991Z"
    }
   },
   "source": [
    "# Determine the shape of the DataFrame `df_financials` and store it in a variable `financials_shape`.\n",
    "@check_pandas_15\n",
    "def pandas_15(df_financials):\n",
    "    # This line is mandatory and should not be removed.\n",
    "    ex_stat_init = True\n",
    "\n",
    "    # BELOW GOES YOUR CODE\n",
    "    financials_shape = df_financials.shape\n",
    "    print(financials_shape)\n",
    "    # ABOVE GOES YOUR CODE\n",
    "    return {\"financials_shape\": financials_shape}\n",
    "\n",
    "pandas_15()"
   ],
   "outputs": [
    {
     "name": "stdout",
     "output_type": "stream",
     "text": [
      "(3, 2)\n",
      "✅ Great job! Exercise completed successfully.\n"
     ]
    }
   ],
   "execution_count": 49
  },
  {
   "cell_type": "code",
   "metadata": {
    "ExecuteTime": {
     "end_time": "2024-10-21T13:00:32.256436Z",
     "start_time": "2024-10-21T13:00:32.249403Z"
    }
   },
   "source": [
    "# Get the data types of each column in DataFrame `df_customer_info` and store them in a variable `customer_info_dtypes`.\n",
    "@check_pandas_16\n",
    "def pandas_16(df_customer_info):\n",
    "    # This line is mandatory and should not be removed.\n",
    "    ex_stat_init = True\n",
    "\n",
    "    # BELOW GOES YOUR CODE\n",
    "    customer_info_dtypes = df_customer_info.dtypes\n",
    "    print(customer_info_dtypes)\n",
    "    # ABOVE GOES YOUR CODE\n",
    "    return {\"customer_info_dtypes\": customer_info_dtypes}\n",
    "\n",
    "pandas_16()"
   ],
   "outputs": [
    {
     "name": "stdout",
     "output_type": "stream",
     "text": [
      "Name    object\n",
      "Age      int64\n",
      "dtype: object\n",
      "✅ Great job! Exercise completed successfully.\n"
     ]
    }
   ],
   "execution_count": 50
  },
  {
   "cell_type": "code",
   "metadata": {
    "ExecuteTime": {
     "end_time": "2024-10-21T13:00:32.441541Z",
     "start_time": "2024-10-21T13:00:32.424121Z"
    }
   },
   "source": [
    "# Using the DataFrame `df_transactions`, get the first 5 rows and store them in `transactions_head`.\n",
    "@check_pandas_17\n",
    "def pandas_17(df_transactions):\n",
    "    # This line is mandatory and should not be removed.\n",
    "    ex_stat_init = True\n",
    "\n",
    "    # BELOW GOES YOUR CODE\n",
    "    transactions_head = df_transactions.head()\n",
    "    print(transactions_head)\n",
    "    # ABOVE GOES YOUR CODE\n",
    "    return {\"transactions_head\": transactions_head}\n",
    "\n",
    "pandas_17()"
   ],
   "outputs": [
    {
     "name": "stdout",
     "output_type": "stream",
     "text": [
      "   Transaction ID  Amount\n",
      "0               1     100\n",
      "1               2     200\n",
      "2               3     300\n",
      "3               4     400\n",
      "4               5     500\n",
      "✅ Great job! Exercise completed successfully.\n"
     ]
    }
   ],
   "execution_count": 51
  },
  {
   "cell_type": "code",
   "metadata": {
    "ExecuteTime": {
     "end_time": "2024-10-21T13:00:32.669631Z",
     "start_time": "2024-10-21T13:00:32.649919Z"
    }
   },
   "source": [
    "# Retrieve the last 3 rows from DataFrame `df_activities` and save them into `activities_tail`.\n",
    "@check_pandas_18\n",
    "def pandas_18(df_activities):\n",
    "    # This line is mandatory and should not be removed.\n",
    "    ex_stat_init = True\n",
    "\n",
    "    # BELOW GOES YOUR CODE\n",
    "    activities_tail = df_activities.tail(3)\n",
    "    print(activities_tail)\n",
    "    # ABOVE GOES YOUR CODE\n",
    "    return {\"activities_tail\": activities_tail}\n",
    "\n",
    "pandas_18()"
   ],
   "outputs": [
    {
     "name": "stdout",
     "output_type": "stream",
     "text": [
      "  Activity  Duration\n",
      "2        C        30\n",
      "3        D        40\n",
      "4        E        50\n",
      "✅ Great job! Exercise completed successfully.\n"
     ]
    }
   ],
   "execution_count": 52
  },
  {
   "cell_type": "code",
   "metadata": {
    "ExecuteTime": {
     "end_time": "2024-10-21T13:00:32.852888Z",
     "start_time": "2024-10-21T13:00:32.822622Z"
    }
   },
   "source": [
    "# Get a summary of information about DataFrame `df_inventory`, storing the result in a variable `inventory_info`.\n",
    "@check_pandas_19\n",
    "def pandas_19(df_inventory):\n",
    "    # This line is mandatory and should not be removed.\n",
    "    ex_stat_init = True\n",
    "\n",
    "    # BELOW GOES YOUR CODE\n",
    "    inventory_info = df_inventory.info()\n",
    "    print(inventory_info)\n",
    "    # ABOVE GOES YOUR CODE\n",
    "    return {\"inventory_info\": inventory_info}\n",
    "\n",
    "pandas_19()"
   ],
   "outputs": [
    {
     "name": "stdout",
     "output_type": "stream",
     "text": [
      "<class 'pandas.core.frame.DataFrame'>\n",
      "RangeIndex: 3 entries, 0 to 2\n",
      "Data columns (total 2 columns):\n",
      " #   Column    Non-Null Count  Dtype \n",
      "---  ------    --------------  ----- \n",
      " 0   Product   3 non-null      object\n",
      " 1   Quantity  3 non-null      int64 \n",
      "dtypes: int64(1), object(1)\n",
      "memory usage: 180.0+ bytes\n",
      "None\n",
      "✅ Great job! Exercise completed successfully.\n"
     ]
    }
   ],
   "execution_count": 53
  },
  {
   "cell_type": "code",
   "metadata": {
    "ExecuteTime": {
     "end_time": "2024-10-21T13:00:33.038570Z",
     "start_time": "2024-10-21T13:00:33.006177Z"
    }
   },
   "source": [
    "# For the DataFrame `df_scores`, generate descriptive statistics and store them in `scores_statistics`.\n",
    "@check_pandas_20\n",
    "def pandas_20(df_scores):\n",
    "    # This line is mandatory and should not be removed.\n",
    "    ex_stat_init = True\n",
    "\n",
    "    # BELOW GOES YOUR CODE\n",
    "    scores_statistics = df_scores.describe()\n",
    "    print(scores_statistics)\n",
    "    # ABOVE GOES YOUR CODE\n",
    "    return {\"scores_statistics\": scores_statistics}\n",
    "\n",
    "pandas_20()"
   ],
   "outputs": [
    {
     "name": "stdout",
     "output_type": "stream",
     "text": [
      "       Score\n",
      "count    3.0\n",
      "mean    85.0\n",
      "std      5.0\n",
      "min     80.0\n",
      "25%     82.5\n",
      "50%     85.0\n",
      "75%     87.5\n",
      "max     90.0\n",
      "✅ Great job! Exercise completed successfully.\n"
     ]
    }
   ],
   "execution_count": 54
  },
  {
   "cell_type": "code",
   "metadata": {
    "ExecuteTime": {
     "end_time": "2024-10-21T13:00:33.199134Z",
     "start_time": "2024-10-21T13:00:33.189966Z"
    }
   },
   "source": [
    "# Use DataFrame `df_orders` to create a boolean mask `orders_non_missing`, detecting non-missing values.\n",
    "@check_pandas_21\n",
    "def pandas_21(df_orders):\n",
    "    # This line is mandatory and should not be removed.\n",
    "    ex_stat_init = True\n",
    "\n",
    "    # BELOW GOES YOUR CODE\n",
    "    orders_non_missing = df_orders.notnull()\n",
    "    print(orders_non_missing)\n",
    "    # ABOVE GOES YOUR CODE\n",
    "    return {\"orders_non_missing\": orders_non_missing}\n",
    "\n",
    "pandas_21()"
   ],
   "outputs": [
    {
     "name": "stdout",
     "output_type": "stream",
     "text": [
      "   Order ID  Amount\n",
      "0      True    True\n",
      "1     False    True\n",
      "2      True   False\n",
      "✅ Great job! Exercise completed successfully.\n"
     ]
    }
   ],
   "execution_count": 55
  },
  {
   "cell_type": "code",
   "metadata": {
    "ExecuteTime": {
     "end_time": "2024-10-21T13:00:33.453909Z",
     "start_time": "2024-10-21T13:00:33.428892Z"
    }
   },
   "source": [
    "# Drop rows with missing values in DataFrame `df_stats` and save the result into `cleaned_stats`.\n",
    "@check_pandas_22\n",
    "def pandas_22(df_stats):\n",
    "    # This line is mandatory and should not be removed.\n",
    "    ex_stat_init = True\n",
    "\n",
    "    # BELOW GOES YOUR CODE\n",
    "    cleaned_stats = df_stats.dropna(axis=0)\n",
    "    print(cleaned_stats)\n",
    "    # ABOVE GOES YOUR CODE\n",
    "    return {\"cleaned_stats\": cleaned_stats}\n",
    "\n",
    "pandas_22()"
   ],
   "outputs": [
    {
     "name": "stdout",
     "output_type": "stream",
     "text": [
      "     A    B\n",
      "0  1.0  4.0\n",
      "✅ Great job! Exercise completed successfully.\n"
     ]
    }
   ],
   "execution_count": 56
  },
  {
   "cell_type": "code",
   "metadata": {
    "ExecuteTime": {
     "end_time": "2024-10-21T13:00:33.561402Z",
     "start_time": "2024-10-21T13:00:33.537732Z"
    }
   },
   "source": [
    "# From DataFrame `df_statistics`, drop columns with missing values and store the result into `statistics_cleaned`.\n",
    "@check_pandas_23\n",
    "def pandas_23(df_statistics):\n",
    "    # This line is mandatory and should not be removed.\n",
    "    ex_stat_init = True\n",
    "\n",
    "    # BELOW GOES YOUR CODE\n",
    "    statistics_cleaned = df_statistics.dropna(axis=1)\n",
    "    print(df_statistics)\n",
    "    print(statistics_cleaned)\n",
    "    # ABOVE GOES YOUR CODE\n",
    "    return {\"statistics_cleaned\": statistics_cleaned}\n",
    "\n",
    "pandas_23()"
   ],
   "outputs": [
    {
     "name": "stdout",
     "output_type": "stream",
     "text": [
      "     A    B\n",
      "0  1.0  4.0\n",
      "1  2.0  NaN\n",
      "2  NaN  6.0\n",
      "Empty DataFrame\n",
      "Columns: []\n",
      "Index: [0, 1, 2]\n",
      "✅ Great job! Exercise completed successfully.\n"
     ]
    }
   ],
   "execution_count": 57
  },
  {
   "cell_type": "code",
   "metadata": {
    "ExecuteTime": {
     "end_time": "2024-10-21T13:00:33.736006Z",
     "start_time": "2024-10-21T13:00:33.713006Z"
    }
   },
   "source": [
    "# Fill missing values in DataFrame `df_grades` with 0 and store the resultant DataFrame in `filled_grades`.\n",
    "@check_pandas_24\n",
    "def pandas_24(df_grades):\n",
    "    # This line is mandatory and should not be removed.\n",
    "    ex_stat_init = True\n",
    "\n",
    "    # BELOW GOES YOUR CODE\n",
    "    print(df_grades)\n",
    "    filled_grades = df_grades.fillna(0)\n",
    "    print(filled_grades)\n",
    "    # ABOVE GOES YOUR CODE\n",
    "    return {\"filled_grades\": filled_grades}\n",
    "\n",
    "pandas_24()"
   ],
   "outputs": [
    {
     "name": "stdout",
     "output_type": "stream",
     "text": [
      "     A    B\n",
      "0  1.0  4.0\n",
      "1  2.0  NaN\n",
      "2  NaN  6.0\n",
      "     A    B\n",
      "0  1.0  4.0\n",
      "1  2.0  0.0\n",
      "2  0.0  6.0\n",
      "✅ Great job! Exercise completed successfully.\n"
     ]
    }
   ],
   "execution_count": 58
  },
  {
   "cell_type": "code",
   "metadata": {
    "ExecuteTime": {
     "end_time": "2024-10-21T13:00:33.900989Z",
     "start_time": "2024-10-21T13:00:33.887708Z"
    }
   },
   "source": [
    "# Apply backward fill on DataFrame `df_sales_data` for missing values and save it into `filled_bfill_sales_data`.\n",
    "@check_pandas_25\n",
    "def pandas_25(df_sales_data):\n",
    "    # This line is mandatory and should not be removed.\n",
    "    ex_stat_init = True\n",
    "\n",
    "    # BELOW GOES YOUR CODE\n",
    "    print(df_sales_data)\n",
    "    filled_bfill_sales_data = df_sales_data.bfill()\n",
    "    print(filled_bfill_sales_data)\n",
    "    # ABOVE GOES YOUR CODE\n",
    "    return {\"filled_bfill_sales_data\": filled_bfill_sales_data}\n",
    "\n",
    "pandas_25()"
   ],
   "outputs": [
    {
     "name": "stdout",
     "output_type": "stream",
     "text": [
      "     A    B\n",
      "0  1.0  4.0\n",
      "1  2.0  NaN\n",
      "2  NaN  6.0\n",
      "     A    B\n",
      "0  1.0  4.0\n",
      "1  2.0  6.0\n",
      "2  NaN  6.0\n",
      "✅ Great job! Exercise completed successfully.\n"
     ]
    }
   ],
   "execution_count": 59
  },
  {
   "cell_type": "code",
   "metadata": {
    "ExecuteTime": {
     "end_time": "2024-10-21T13:00:34.146486Z",
     "start_time": "2024-10-21T13:00:34.128905Z"
    }
   },
   "source": [
    "# Apply forward fill on DataFrame `df_attendance` and store the results in `filled_ffill_attendance`.\n",
    "@check_pandas_26\n",
    "def pandas_26(df_attendance):\n",
    "    # This line is mandatory and should not be removed.\n",
    "    ex_stat_init = True\n",
    "\n",
    "    # BELOW GOES YOUR CODE\n",
    "    print(df_attendance)\n",
    "    filled_ffill_attendance = df_attendance.ffill()\n",
    "    print(filled_ffill_attendance)\n",
    "    # ABOVE GOES YOUR CODE\n",
    "    return {\"filled_ffill_attendance\": filled_ffill_attendance}\n",
    "\n",
    "pandas_26()"
   ],
   "outputs": [
    {
     "name": "stdout",
     "output_type": "stream",
     "text": [
      "     A    B\n",
      "0  1.0  4.0\n",
      "1  2.0  NaN\n",
      "2  NaN  6.0\n",
      "     A    B\n",
      "0  1.0  4.0\n",
      "1  2.0  4.0\n",
      "2  2.0  6.0\n",
      "✅ Great job! Exercise completed successfully.\n"
     ]
    }
   ],
   "execution_count": 60
  },
  {
   "cell_type": "code",
   "metadata": {
    "ExecuteTime": {
     "end_time": "2024-10-21T13:13:32.518273Z",
     "start_time": "2024-10-21T13:13:32.497789Z"
    }
   },
   "source": [
    "# Set 'OrderID' as the index of DataFrame `df_orders_list` and save the updated DataFrame as `orders_indexed`.\n",
    "@check_pandas_27\n",
    "def pandas_27(df_orders_list):\n",
    "    # This line is mandatory and should not be removed.\n",
    "    ex_stat_init = True\n",
    "\n",
    "    # BELOW GOES YOUR CODE\n",
    "    print(df_orders_list)\n",
    "    df_orders_list.set_index('OrderID', inplace=True) \n",
    "    orders_indexed = df_orders_list\n",
    "    print(orders_indexed)\n",
    "    # ABOVE GOES YOUR CODE\n",
    "    return {\"orders_indexed\": orders_indexed}\n",
    "\n",
    "pandas_27()"
   ],
   "outputs": [
    {
     "name": "stdout",
     "output_type": "stream",
     "text": [
      "   OrderID  Amount\n",
      "0        1     100\n",
      "1        2     200\n",
      "2        3     300\n",
      "         Amount\n",
      "OrderID        \n",
      "1           100\n",
      "2           200\n",
      "3           300\n",
      "✅ Great job! Exercise completed successfully.\n"
     ]
    }
   ],
   "execution_count": 3
  },
  {
   "cell_type": "code",
   "metadata": {
    "ExecuteTime": {
     "end_time": "2024-10-21T13:13:46.434665Z",
     "start_time": "2024-10-21T13:13:46.421924Z"
    }
   },
   "source": [
    "# Reset the index of a DataFrame `df_indexed_data` and store it in `df_reset_index`.\n",
    "@check_pandas_28\n",
    "def pandas_28(df_indexed_data):\n",
    "    # This line is mandatory and should not be removed.\n",
    "    ex_stat_init = True\n",
    "\n",
    "    # BELOW GOES YOUR CODE\n",
    "    print(df_indexed_data)\n",
    "    df_indexed_data.reset_index(inplace=True)\n",
    "    df_reset_index = df_indexed_data\n",
    "    print(df_reset_index)\n",
    "    # ABOVE GOES YOUR CODE\n",
    "    return {\"df_reset_index\": df_reset_index}\n",
    "\n",
    "pandas_28()"
   ],
   "outputs": [
    {
     "name": "stdout",
     "output_type": "stream",
     "text": [
      "    A  B\n",
      "2   1  4\n",
      "4   2  5\n",
      "19  3  6\n",
      "   index  A  B\n",
      "0      2  1  4\n",
      "1      4  2  5\n",
      "2     19  3  6\n",
      "✅ Great job! Exercise completed successfully.\n"
     ]
    }
   ],
   "execution_count": 4
  },
  {
   "cell_type": "code",
   "metadata": {
    "ExecuteTime": {
     "end_time": "2024-10-21T13:16:19.669479Z",
     "start_time": "2024-10-21T13:16:19.655681Z"
    }
   },
   "source": [
    "# Create a DataFrame `df_multiindex` with hierarchical indexing from `multiindex_data_list` using levels 'Region' and 'Category'.\n",
    "@check_pandas_29\n",
    "def pandas_29(multiindex_data_list):\n",
    "    # This line is mandatory and should not be removed.\n",
    "    ex_stat_init = True\n",
    "\n",
    "    # BELOW GOES YOUR CODE\n",
    "    print(multiindex_data_list)\n",
    "    df_multiindex = pd.DataFrame(multiindex_data_list)\n",
    "    df_multiindex.set_index(['Region', 'Category'],inplace=True)\n",
    "    print(df_multiindex)\n",
    "    # ABOVE GOES YOUR CODE\n",
    "    return {\"df_multiindex\": df_multiindex}\n",
    "\n",
    "pandas_29()"
   ],
   "outputs": [
    {
     "name": "stdout",
     "output_type": "stream",
     "text": [
      "{'Region': ['East', 'East', 'West', 'West'], 'Category': ['A', 'B', 'A', 'B'], 'Sales': [100, 200, 300, 400]}\n",
      "                 Sales\n",
      "Region Category       \n",
      "East   A           100\n",
      "       B           200\n",
      "West   A           300\n",
      "       B           400\n",
      "✅ Great job! Exercise completed successfully.\n"
     ]
    }
   ],
   "execution_count": 6
  },
  {
   "cell_type": "code",
   "metadata": {
    "ExecuteTime": {
     "end_time": "2024-10-21T13:21:32.480868Z",
     "start_time": "2024-10-21T13:21:32.454572Z"
    }
   },
   "source": [
    "# Use DataFrame `df_exams` to filter rows with Score > 80 using boolean indexing and save it in `high_score_exams`.\n",
    "@check_pandas_30\n",
    "def pandas_30(df_exams):\n",
    "    # This line is mandatory and should not be removed.\n",
    "    ex_stat_init = True\n",
    "\n",
    "    # BELOW GOES YOUR CODE\n",
    "    print(df_exams)\n",
    "    high_score_exams = df_exams[df_exams['Score'] > 80]\n",
    "    print(high_score_exams) \n",
    "    # ABOVE GOES YOUR CODE\n",
    "    return {\"high_score_exams\": high_score_exams}\n",
    "\n",
    "pandas_30()"
   ],
   "outputs": [
    {
     "name": "stdout",
     "output_type": "stream",
     "text": [
      "   Student  Score\n",
      "0    Alice     80\n",
      "1      Bob     90\n",
      "2  Charlie     85\n",
      "   Student  Score\n",
      "1      Bob     90\n",
      "2  Charlie     85\n",
      "✅ Great job! Exercise completed successfully.\n"
     ]
    }
   ],
   "execution_count": 8
  },
  {
   "cell_type": "code",
   "metadata": {
    "ExecuteTime": {
     "end_time": "2024-10-21T13:25:35.717554Z",
     "start_time": "2024-10-21T13:25:35.700337Z"
    }
   },
   "source": [
    "# From DataFrame `df_transactions`, select the row with label 'TX005' and store it in `transaction_TX005`.\n",
    "@check_pandas_31\n",
    "def pandas_31(df_transactions):\n",
    "    # This line is mandatory and should not be removed.\n",
    "    ex_stat_init = True\n",
    "\n",
    "    # BELOW GOES YOUR CODE\n",
    "    print(df_transactions)\n",
    "    transaction_TX005 = df_transactions.loc['TX005']\n",
    "    print(transaction_TX005)\n",
    "    # ABOVE GOES YOUR CODE\n",
    "    return {\"transaction_TX005\": transaction_TX005}\n",
    "\n",
    "pandas_31()"
   ],
   "outputs": [
    {
     "name": "stdout",
     "output_type": "stream",
     "text": [
      "       Amount        Date\n",
      "TX001     100  2021-01-01\n",
      "TX005     200  2021-01-02\n",
      "TX003     300  2021-01-03\n",
      "Amount           200\n",
      "Date      2021-01-02\n",
      "Name: TX005, dtype: object\n",
      "✅ Great job! Exercise completed successfully.\n"
     ]
    }
   ],
   "execution_count": 11
  },
  {
   "cell_type": "code",
   "metadata": {
    "ExecuteTime": {
     "end_time": "2024-10-21T13:42:27.024325Z",
     "start_time": "2024-10-21T13:42:27.004498Z"
    }
   },
   "source": [
    "# Use DataFrame `df_sports` to select rows labeled ['Basketball', 'Football'] and columns labeled ['Wins', 'Losses'], storing the result in `selected_sports`.\n",
    "@check_pandas_32\n",
    "def pandas_32(df_sports):\n",
    "    # This line is mandatory and should not be removed.\n",
    "    ex_stat_init = True\n",
    "\n",
    "    # BELOW GOES YOUR CODE\n",
    "    print(df_sports)\n",
    "    selected_sports = df_sports.loc[['Basketball', 'Football'], ['Wins', 'Losses']]\n",
    "    print(selected_sports)\n",
    "    # ABOVE GOES YOUR CODE\n",
    "    return {\"selected_sports\": selected_sports}\n",
    "\n",
    "pandas_32()"
   ],
   "outputs": [
    {
     "name": "stdout",
     "output_type": "stream",
     "text": [
      "            Wins  Losses\n",
      "Basketball    10       5\n",
      "Football      20      10\n",
      "Soccer        30      15\n",
      "            Wins  Losses\n",
      "Basketball    10       5\n",
      "Football      20      10\n",
      "✅ Great job! Exercise completed successfully.\n"
     ]
    }
   ],
   "execution_count": 11
  },
  {
   "cell_type": "code",
   "metadata": {
    "ExecuteTime": {
     "end_time": "2024-10-21T13:51:35.886689Z",
     "start_time": "2024-10-21T13:51:35.847363Z"
    }
   },
   "source": [
    "# From DataFrame `df_catalog`, select rows where 'Category' is 'Electronics' and save them to `electronics_catalog`.\n",
    "@check_pandas_33\n",
    "def pandas_33(df_catalog):\n",
    "    # This line is mandatory and should not be removed.\n",
    "    ex_stat_init = True\n",
    "\n",
    "    # BELOW GOES YOUR CODE\n",
    "    print(df_catalog)\n",
    "    electronics_catalog = df_catalog[df_catalog['Category'] == 'Electronics']\n",
    "    print(electronics_catalog)\n",
    "    # ABOVE GOES YOUR CODE\n",
    "    return {\"electronics_catalog\": electronics_catalog}\n",
    "\n",
    "pandas_33()"
   ],
   "outputs": [
    {
     "name": "stdout",
     "output_type": "stream",
     "text": [
      "  Product     Category\n",
      "0  Laptop  Electronics\n",
      "1   Phone     Clothing\n",
      "2  Tablet  Electronics\n",
      "  Product     Category\n",
      "0  Laptop  Electronics\n",
      "2  Tablet  Electronics\n",
      "  Product     Category\n",
      "0  Laptop  Electronics\n",
      "1   Phone  Electronics\n",
      "2  Tablet  Electronics\n",
      "  Product     Category\n",
      "0  Laptop  Electronics\n",
      "1   Phone  Electronics\n",
      "2  Tablet  Electronics\n",
      "  Product  Category\n",
      "0  Laptop  Clothing\n",
      "1   Phone  Clothing\n",
      "2  Tablet  Clothing\n",
      "Empty DataFrame\n",
      "Columns: [Product, Category]\n",
      "Index: []\n",
      "✅ Great job! Exercise completed successfully.\n"
     ]
    }
   ],
   "execution_count": 17
  },
  {
   "cell_type": "code",
   "metadata": {
    "ExecuteTime": {
     "end_time": "2024-10-21T14:00:00.768764Z",
     "start_time": "2024-10-21T14:00:00.725852Z"
    }
   },
   "source": [
    "# For DataFrame `df_movies`, perform boolean selection where 'Genre' is 'Action' and 'Budget' > 500000, then select 'Title' and 'Revenue' columns, storing result in `selected_movies`.\n",
    "@check_pandas_34\n",
    "def pandas_34(df_movies):\n",
    "    # This line is mandatory and should not be removed.\n",
    "    ex_stat_init = True\n",
    "\n",
    "    # BELOW GOES YOUR CODE\n",
    "    print(df_movies)\n",
    "    mask = (df_movies['Genre'] == 'Action') & (df_movies['Budget'] > 500000)\n",
    "    selected_movies = df_movies.loc[mask, ['Title', 'Revenue']]\n",
    "    print(selected_movies)\n",
    "    # ABOVE GOES YOUR CODE\n",
    "    return {\"selected_movies\": selected_movies}\n",
    "\n",
    "pandas_34()"
   ],
   "outputs": [
    {
     "name": "stdout",
     "output_type": "stream",
     "text": [
      "  Title   Genre  Budget  Revenue\n",
      "0     A  Action  100000   200000\n",
      "1     B   Drama  200000   300000\n",
      "2     C  Action  600000   700000\n",
      "  Title  Revenue\n",
      "2     C   700000\n",
      "  Title   Genre  Budget  Revenue\n",
      "0     A  Action  100000   200000\n",
      "1     B   Drama  200000   300000\n",
      "2     C  Action  400000   500000\n",
      "Empty DataFrame\n",
      "Columns: [Title, Revenue]\n",
      "Index: []\n",
      "  Title  Genre  Budget  Revenue\n",
      "0     A  Drama  100000   200000\n",
      "1     B  Drama  200000   300000\n",
      "2     C  Drama  600000   700000\n",
      "Empty DataFrame\n",
      "Columns: [Title, Revenue]\n",
      "Index: []\n",
      "✅ Great job! Exercise completed successfully.\n"
     ]
    }
   ],
   "execution_count": 22
  },
  {
   "cell_type": "code",
   "metadata": {
    "ExecuteTime": {
     "end_time": "2024-11-10T21:57:45.157950Z",
     "start_time": "2024-11-10T21:57:45.148557Z"
    }
   },
   "source": [
    "from sigmoid_check.excalibur import *"
   ],
   "outputs": [],
   "execution_count": 2
  },
  {
   "cell_type": "code",
   "metadata": {
    "ExecuteTime": {
     "end_time": "2024-10-21T14:03:29.393806Z",
     "start_time": "2024-10-21T14:03:29.355300Z"
    }
   },
   "source": [
    "# Using .loc, slice DataFrame `df_plants` to include rows 'Rose' through 'Tulip' and store it in `flower_slice`.\n",
    "@check_pandas_35\n",
    "def pandas_35(df_plants):\n",
    "    # This line is mandatory and should not be removed.\n",
    "    ex_stat_init = True\n",
    "\n",
    "    # BELOW GOES YOUR CODE\n",
    "    print(df_plants)\n",
    "    flower_slice = df_plants.loc['Rose' : 'Tulip']\n",
    "    print(flower_slice)\n",
    "    # ABOVE GOES YOUR CODE\n",
    "    return {\"flower_slice\": flower_slice}\n",
    "\n",
    "pandas_35()"
   ],
   "outputs": [
    {
     "name": "stdout",
     "output_type": "stream",
     "text": [
      "         Color    Type\n",
      "Rose       Red    Rose\n",
      "Lily      Blue    Lily\n",
      "Daisy   Yellow   Daisy\n",
      "Tulip     Pink   Tulip\n",
      "Orchid  Purple  Orchid\n",
      "        Color   Type\n",
      "Rose      Red   Rose\n",
      "Lily     Blue   Lily\n",
      "Daisy  Yellow  Daisy\n",
      "Tulip    Pink  Tulip\n",
      "✅ Great job! Exercise completed successfully.\n"
     ]
    }
   ],
   "execution_count": 26
  },
  {
   "cell_type": "code",
   "metadata": {
    "ExecuteTime": {
     "end_time": "2024-10-21T14:13:41.966569Z",
     "start_time": "2024-10-21T14:13:41.945475Z"
    }
   },
   "source": [
    "# Use .iloc to slice DataFrame `df_students` to include the first three rows and the first two columns, saving them in `student_slice`.\n",
    "@check_pandas_36\n",
    "def pandas_36(df_students):\n",
    "    # This line is mandatory and should not be removed.\n",
    "    ex_stat_init = True\n",
    "\n",
    "    # BELOW GOES YOUR CODE\n",
    "    print(df_students)\n",
    "    student_slice = df_students.iloc[0:3, 0:2]\n",
    "    print(student_slice)\n",
    "    # ABOVE GOES YOUR CODE\n",
    "    return {\"student_slice\": student_slice}\n",
    "\n",
    "pandas_36()"
   ],
   "outputs": [
    {
     "name": "stdout",
     "output_type": "stream",
     "text": [
      "      Name  Age  Grade\n",
      "0    Alice   25     80\n",
      "1      Bob   30     90\n",
      "2  Charlie   35     85\n",
      "3    David   40     95\n",
      "      Name  Age\n",
      "0    Alice   25\n",
      "1      Bob   30\n",
      "2  Charlie   35\n",
      "✅ Great job! Exercise completed successfully.\n"
     ]
    }
   ],
   "execution_count": 33
  },
  {
   "cell_type": "code",
   "metadata": {
    "ExecuteTime": {
     "end_time": "2024-10-21T14:29:06.668467Z",
     "start_time": "2024-10-21T14:29:06.654062Z"
    }
   },
   "source": [
    "# From DataFrame `df_reports`, use a combination of .loc and .iloc to select rows 'R102' and 'R103' and the first three columns, storing it as `report_selection`.\n",
    "@check_pandas_37\n",
    "def pandas_37(df_reports):\n",
    "    # This line is mandatory and should not be removed.\n",
    "    ex_stat_init = True\n",
    "\n",
    "    # BELOW GOES YOUR CODE\n",
    "    print(df_reports)\n",
    "    report_selection = df_reports.loc[['R102', 'R103'], df_reports.columns[0:3]]\n",
    "    print(report_selection)\n",
    "    # ABOVE GOES YOUR CODE\n",
    "    return {\"report_selection\": report_selection}\n",
    "\n",
    "pandas_37()"
   ],
   "outputs": [
    {
     "name": "stdout",
     "output_type": "stream",
     "text": [
      "            Date  Sales  Expenses  Profit\n",
      "R101  2021-01-01    100        50      50\n",
      "R102  2021-01-02    200       100     100\n",
      "R103  2021-01-03    300       150     150\n",
      "            Date  Sales  Expenses\n",
      "R102  2021-01-02    200       100\n",
      "R103  2021-01-03    300       150\n",
      "✅ Great job! Exercise completed successfully.\n"
     ]
    }
   ],
   "execution_count": 42
  },
  {
   "cell_type": "code",
   "metadata": {
    "ExecuteTime": {
     "end_time": "2024-10-21T18:28:59.276615Z",
     "start_time": "2024-10-21T18:28:59.191766Z"
    }
   },
   "source": [
    "# Modify DataFrame `df_inventory` by setting all 'Quantity' to 50 for rows labeled 'InStock' and store the modified DataFrame as `inventory_modified`.\n",
    "@check_pandas_38\n",
    "def pandas_38(df_inventory):\n",
    "    # This line is mandatory and should not be removed.\n",
    "    ex_stat_init = True\n",
    "\n",
    "    # BELOW GOES YOUR CODE\n",
    "    print(df_inventory)\n",
    "    mask = df_inventory.index == 'InStock'\n",
    "    df_inventory.loc[mask,'Quantity'] = 50\n",
    "    inventory_modified = df_inventory\n",
    "    print(inventory_modified)\n",
    "    # ABOVE GOES YOUR CODE\n",
    "    return {\"inventory_modified\": inventory_modified}\n",
    "\n",
    "pandas_38()"
   ],
   "outputs": [
    {
     "name": "stdout",
     "output_type": "stream",
     "text": [
      "         Product  Quantity\n",
      "InStock        A       100\n",
      "OutStock       B       200\n",
      "InStock        C       300\n",
      "         Product  Quantity\n",
      "InStock        A        50\n",
      "OutStock       B       200\n",
      "InStock        C        50\n",
      "✅ Great job! Exercise completed successfully.\n"
     ]
    }
   ],
   "execution_count": 6
  },
  {
   "cell_type": "code",
   "metadata": {
    "ExecuteTime": {
     "end_time": "2024-10-21T18:37:45.090759Z",
     "start_time": "2024-10-21T18:37:44.839037Z"
    }
   },
   "source": [
    "# Combine .loc and .iloc to modify rows 'R101' to 'R105' in 'df_revenue' setting the first column's value to 1000, storing it in `revenue_updated`.\n",
    "@check_pandas_39\n",
    "def pandas_39(df_revenue):\n",
    "    # This line is mandatory and should not be removed.\n",
    "    ex_stat_init = True\n",
    "\n",
    "    # BELOW GOES YOUR CODE\n",
    "    print(df_revenue)\n",
    "    df_revenue.loc['R101':'R105', df_revenue.columns[0]] = 1000\n",
    "    revenue_updated = df_revenue\n",
    "    print(revenue_updated)\n",
    "    # ABOVE GOES YOUR CODE\n",
    "    return {\"revenue_updated\": revenue_updated}\n",
    "\n",
    "pandas_39()"
   ],
   "outputs": [
    {
     "name": "stdout",
     "output_type": "stream",
     "text": [
      "            Date  Sales\n",
      "R101  2021-01-01    100\n",
      "R102  2021-01-02    200\n",
      "R103  2021-01-03    300\n",
      "R104  2021-01-04    400\n",
      "R105  2021-01-05    500\n",
      "      Date  Sales\n",
      "R101  1000    100\n",
      "R102  1000    200\n",
      "R103  1000    300\n",
      "R104  1000    400\n",
      "R105  1000    500\n",
      "✅ Great job! Exercise completed successfully.\n"
     ]
    }
   ],
   "execution_count": 8
  },
  {
   "cell_type": "code",
   "metadata": {
    "ExecuteTime": {
     "end_time": "2024-10-21T18:42:48.501524Z",
     "start_time": "2024-10-21T18:42:48.405921Z"
    }
   },
   "source": [
    "# Using DataFrame `df_hierarchical_example`, demonstrate the use of .loc and .iloc on a DataFrame with a multiindex, saving the selection as `multiindex_selected`, selecting the row with index ('North', 'A') and column 'X'.\n",
    "@check_pandas_40\n",
    "def pandas_40(df_hierarchical_example):\n",
    "    # This line is mandatory and should not be removed.\n",
    "    ex_stat_init = True\n",
    "\n",
    "    # BELOW GOES YOUR CODE\n",
    "    print(df_hierarchical_example)\n",
    "    multiindex_selected = df_hierarchical_example.loc[('North', 'A'), 'X']\n",
    "    print(multiindex_selected)\n",
    "    # ABOVE GOES YOUR CODE\n",
    "    return {\"multiindex_selected\": multiindex_selected}\n",
    "\n",
    "pandas_40()"
   ],
   "outputs": [
    {
     "name": "stdout",
     "output_type": "stream",
     "text": [
      "                   X  Expenses\n",
      "Region Category               \n",
      "East   A         100        50\n",
      "       B         200       100\n",
      "West   A         300       150\n",
      "       B         400       200\n",
      "North  A         500       250\n",
      "500\n",
      "✅ Great job! Exercise completed successfully.\n"
     ]
    }
   ],
   "execution_count": 11
  },
  {
   "cell_type": "code",
   "metadata": {
    "ExecuteTime": {
     "end_time": "2024-10-21T18:46:07.977988Z",
     "start_time": "2024-10-21T18:46:07.841179Z"
    }
   },
   "source": [
    "# Concatenate DataFrames `df1` and `df2` horizontally and save the result as `concatenated_df_horizontal`.\n",
    "@check_pandas_41\n",
    "def pandas_41(df1, df2):\n",
    "    # This line is mandatory and should not be removed.\n",
    "    ex_stat_init = True\n",
    "\n",
    "    # BELOW GOES YOUR CODE\n",
    "    print(df1)\n",
    "    print(df2)\n",
    "    concatenated_df_horizontal = pd.concat([df1, df2], axis=1)\n",
    "    print(concatenated_df_horizontal)\n",
    "    # ABOVE GOES YOUR CODE\n",
    "    return {\"concatenated_df_horizontal\": concatenated_df_horizontal}\n",
    "\n",
    "pandas_41()"
   ],
   "outputs": [
    {
     "name": "stdout",
     "output_type": "stream",
     "text": [
      "   A  B\n",
      "0  1  4\n",
      "1  2  5\n",
      "2  3  6\n",
      "   C   D\n",
      "0  7  10\n",
      "1  8  11\n",
      "2  9  12\n",
      "   A  B  C   D\n",
      "0  1  4  7  10\n",
      "1  2  5  8  11\n",
      "2  3  6  9  12\n",
      "✅ Great job! Exercise completed successfully.\n"
     ]
    }
   ],
   "execution_count": 14
  },
  {
   "cell_type": "code",
   "metadata": {
    "ExecuteTime": {
     "end_time": "2024-10-21T18:47:40.165857Z",
     "start_time": "2024-10-21T18:47:40.138620Z"
    }
   },
   "source": [
    "# Concatenate DataFrames `df_a` and `df_b` vertically, aligning by columns, and store the result in `concatenated_df_vertical`.\n",
    "@check_pandas_42\n",
    "def pandas_42(df_a, df_b):\n",
    "    # This line is mandatory and should not be removed.\n",
    "    ex_stat_init = True\n",
    "\n",
    "    # BELOW GOES YOUR CODE\n",
    "    print(df_a)\n",
    "    print(df_b)\n",
    "    concatenated_df_vertical = pd.concat([df_a, df_b], axis=0)\n",
    "    print(concatenated_df_vertical)\n",
    "    # ABOVE GOES YOUR CODE\n",
    "    return {\"concatenated_df_vertical\": concatenated_df_vertical}\n",
    "\n",
    "pandas_42()"
   ],
   "outputs": [
    {
     "name": "stdout",
     "output_type": "stream",
     "text": [
      "   A  B\n",
      "0  1  4\n",
      "1  2  5\n",
      "2  3  6\n",
      "   A   B\n",
      "0  7  10\n",
      "1  8  11\n",
      "2  9  12\n",
      "   A   B\n",
      "0  1   4\n",
      "1  2   5\n",
      "2  3   6\n",
      "0  7  10\n",
      "1  8  11\n",
      "2  9  12\n",
      "✅ Great job! Exercise completed successfully.\n"
     ]
    }
   ],
   "execution_count": 17
  },
  {
   "cell_type": "code",
   "metadata": {
    "ExecuteTime": {
     "end_time": "2024-10-21T18:53:10.007239Z",
     "start_time": "2024-10-21T18:53:09.770772Z"
    }
   },
   "source": [
    "# Merge DataFrames `df_left` and `df_right` on key 'ID', using outer method and store result in `merged_outer`.\n",
    "@check_pandas_43\n",
    "def pandas_43(df_left, df_right):\n",
    "    # This line is mandatory and should not be removed.\n",
    "    ex_stat_init = True\n",
    "\n",
    "    # BELOW GOES YOUR CODE\n",
    "    print(df_left)\n",
    "    print(df_right)\n",
    "    merged_outer = pd.merge(df_left, df_right, on='ID', how='outer')\n",
    "    print(merged_outer)\n",
    "    # ABOVE GOES YOUR CODE\n",
    "    return {\"merged_outer\": merged_outer}\n",
    "\n",
    "pandas_43()"
   ],
   "outputs": [
    {
     "name": "stdout",
     "output_type": "stream",
     "text": [
      "   ID     Name\n",
      "0   1    Alice\n",
      "1   2      Bob\n",
      "2   3  Charlie\n",
      "   ID  Age\n",
      "0   2   25\n",
      "1   3   30\n",
      "2   4   35\n",
      "   ID     Name   Age\n",
      "0   1    Alice   NaN\n",
      "1   2      Bob  25.0\n",
      "2   3  Charlie  30.0\n",
      "3   4      NaN  35.0\n",
      "✅ Great job! Exercise completed successfully.\n"
     ]
    }
   ],
   "execution_count": 21
  },
  {
   "cell_type": "code",
   "metadata": {
    "ExecuteTime": {
     "end_time": "2024-10-21T18:55:10.003683Z",
     "start_time": "2024-10-21T18:55:09.702811Z"
    }
   },
   "source": [
    "# Perform a right merge on DataFrames `df_personal` and `df_contact` based on the key 'ContactID', saving it as `merged_right`.\n",
    "@check_pandas_44\n",
    "def pandas_44(df_personal, df_contact):\n",
    "    # This line is mandatory and should not be removed.\n",
    "    ex_stat_init = True\n",
    "\n",
    "    # BELOW GOES YOUR CODE\n",
    "    print(df_personal)\n",
    "    print(df_contact)\n",
    "    merged_right = pd.merge(df_personal, df_contact, on='ContactID', how='right')\n",
    "    print(merged_right)\n",
    "    # ABOVE GOES YOUR CODE\n",
    "    return {\"merged_right\": merged_right}\n",
    "\n",
    "pandas_44()"
   ],
   "outputs": [
    {
     "name": "stdout",
     "output_type": "stream",
     "text": [
      "   ContactID     Name\n",
      "0          1    Alice\n",
      "1          2      Bob\n",
      "2          3  Charlie\n",
      "   ContactID Phone\n",
      "0          2   123\n",
      "1          3   456\n",
      "2          4   789\n",
      "   ContactID     Name Phone\n",
      "0          2      Bob   123\n",
      "1          3  Charlie   456\n",
      "2          4      NaN   789\n",
      "✅ Great job! Exercise completed successfully.\n"
     ]
    }
   ],
   "execution_count": 22
  },
  {
   "cell_type": "code",
   "metadata": {
    "ExecuteTime": {
     "end_time": "2024-10-21T19:01:16.833573Z",
     "start_time": "2024-10-21T19:01:16.686106Z"
    }
   },
   "source": [
    "# Join DataFrames `df_main` and `df_additional` using an inner join, saving the result in `joined_inner`.\n",
    "@check_pandas_45\n",
    "def pandas_45(df_main, df_additional):\n",
    "    # This line is mandatory and should not be removed.\n",
    "    ex_stat_init = True\n",
    "\n",
    "    # BELOW GOES YOUR CODE\n",
    "    print(df_main)\n",
    "    print(df_additional)\n",
    "    joined_inner = df_main.join(df_additional, how='inner')\n",
    "    print(joined_inner)\n",
    "    # ABOVE GOES YOUR CODE\n",
    "    return {\"joined_inner\": joined_inner}\n",
    "\n",
    "pandas_45()"
   ],
   "outputs": [
    {
     "name": "stdout",
     "output_type": "stream",
     "text": [
      "      Name\n",
      "1    Alice\n",
      "2      Bob\n",
      "3  Charlie\n",
      "   Age\n",
      "2   25\n",
      "3   30\n",
      "4   35\n",
      "      Name  Age\n",
      "2      Bob   25\n",
      "3  Charlie   30\n",
      "✅ Great job! Exercise completed successfully.\n"
     ]
    }
   ],
   "execution_count": 26
  },
  {
   "cell_type": "code",
   "metadata": {
    "ExecuteTime": {
     "end_time": "2024-10-21T19:03:27.585170Z",
     "start_time": "2024-10-21T19:03:27.469184Z"
    }
   },
   "source": [
    "# Conduct a left join on DataFrames `df_sales_main` and `df_sales_region` on 'RegionID', storing it as `joined_left`.\n",
    "@check_pandas_46\n",
    "def pandas_46(df_sales_main, df_sales_region):\n",
    "    # This line is mandatory and should not be removed.\n",
    "    ex_stat_init = True\n",
    "\n",
    "    # BELOW GOES YOUR CODE\n",
    "    print(df_sales_main)\n",
    "    print(df_sales_region)\n",
    "    joined_left = df_sales_main.join(df_sales_region, how='left')\n",
    "    print(joined_left)\n",
    "    # ABOVE GOES YOUR CODE\n",
    "    return {\"joined_left\": joined_left}\n",
    "\n",
    "pandas_46()"
   ],
   "outputs": [
    {
     "name": "stdout",
     "output_type": "stream",
     "text": [
      "          Sales\n",
      "RegionID       \n",
      "1           100\n",
      "2           200\n",
      "3           300\n",
      "         Region\n",
      "RegionID       \n",
      "2          East\n",
      "3          West\n",
      "4         North\n",
      "          Sales Region\n",
      "RegionID              \n",
      "1           100    NaN\n",
      "2           200   East\n",
      "3           300   West\n",
      "✅ Great job! Exercise completed successfully.\n"
     ]
    }
   ],
   "execution_count": 28
  },
  {
   "cell_type": "code",
   "metadata": {
    "ExecuteTime": {
     "end_time": "2024-10-21T19:17:11.177226Z",
     "start_time": "2024-10-21T19:17:11.122953Z"
    }
   },
   "source": [
    "# Group DataFrame `df_employee` by 'Department', calculating the average 'Salary' for each group and saving it as `avg_salary_by_department`.\n",
    "@check_pandas_47\n",
    "def pandas_47(df_employee):\n",
    "    # This line is mandatory and should not be removed.\n",
    "    ex_stat_init = True\n",
    "\n",
    "    # BELOW GOES YOUR CODE\n",
    "    print(df_employee) \n",
    "    avg_salary_by_department = df_employee.groupby('Department')['Salary'].mean()\n",
    "    print(avg_salary_by_department)\n",
    "    # ABOVE GOES YOUR CODE\n",
    "    return {\"avg_salary_by_department\": avg_salary_by_department}\n",
    "\n",
    "pandas_47()"
   ],
   "outputs": [
    {
     "name": "stdout",
     "output_type": "stream",
     "text": [
      "  Department  Salary\n",
      "0         HR   50000\n",
      "1    Finance   60000\n",
      "2         HR   70000\n",
      "3    Finance   80000\n",
      "Department\n",
      "Finance    70000.0\n",
      "HR         60000.0\n",
      "Name: Salary, dtype: float64\n",
      "✅ Great job! Exercise completed successfully.\n"
     ]
    }
   ],
   "execution_count": 32
  },
  {
   "cell_type": "code",
   "metadata": {
    "ExecuteTime": {
     "end_time": "2024-10-21T19:37:32.407204Z",
     "start_time": "2024-10-21T19:37:31.972921Z"
    }
   },
   "source": [
    "# Pivot DataFrame `df_orders` with 'OrderID' as index, 'Category' as columns, and 'Amount' as values, resulting in `pivoted_orders`.\n",
    "@check_pandas_48\n",
    "def pandas_48(df_orders):\n",
    "    # This line is mandatory and should not be removed.\n",
    "    ex_stat_init = True\n",
    "\n",
    "    # BELOW GOES YOUR CODE\n",
    "    print(df_orders)\n",
    "    pivoted_orders = df_orders.pivot_table(index='OrderID', columns='Category', values='Amount')\n",
    "    print(pivoted_orders)\n",
    "    # ABOVE GOES YOUR CODE\n",
    "    return {\"pivoted_orders\": pivoted_orders}\n",
    "\n",
    "pandas_48()"
   ],
   "outputs": [
    {
     "name": "stdout",
     "output_type": "stream",
     "text": [
      "   OrderID Category  Amount\n",
      "0        1        A     100\n",
      "1        2        B     200\n",
      "2        3        A     300\n",
      "3        4        B     400\n",
      "Category      A      B\n",
      "OrderID               \n",
      "1         100.0    NaN\n",
      "2           NaN  200.0\n",
      "3         300.0    NaN\n",
      "4           NaN  400.0\n",
      "✅ Great job! Exercise completed successfully.\n"
     ]
    }
   ],
   "execution_count": 34
  },
  {
   "cell_type": "code",
   "metadata": {
    "ExecuteTime": {
     "end_time": "2024-10-21T19:45:47.201768Z",
     "start_time": "2024-10-21T19:45:46.935894Z"
    }
   },
   "source": [
    "# Utilize crosstab to get a frequency table of 'Region' and 'ProductType' categories from `df_business`, storing the result as `region_product_crosstab`.\n",
    "@check_pandas_49\n",
    "def pandas_49(df_business):\n",
    "    # This line is mandatory and should not be removed.\n",
    "    ex_stat_init = True\n",
    "\n",
    "    # BELOW GOES YOUR CODE\n",
    "    print(df_business)\n",
    "    region_product_crosstab = pd.crosstab(df_business['Region'], df_business['ProductType'])\n",
    "    print(region_product_crosstab)\n",
    "    # ABOVE GOES YOUR CODE\n",
    "    return {\"region_product_crosstab\": region_product_crosstab}\n",
    "\n",
    "pandas_49()"
   ],
   "outputs": [
    {
     "name": "stdout",
     "output_type": "stream",
     "text": [
      "  Region ProductType\n",
      "0   East           A\n",
      "1   West           B\n",
      "2   East           A\n",
      "3   West           B\n",
      "ProductType  A  B\n",
      "Region           \n",
      "East         2  0\n",
      "West         0  2\n",
      "✅ Great job! Exercise completed successfully.\n"
     ]
    }
   ],
   "execution_count": 37
  },
  {
   "cell_type": "code",
   "metadata": {
    "ExecuteTime": {
     "end_time": "2024-11-13T09:15:18.605571Z",
     "start_time": "2024-11-13T09:15:17.586064Z"
    }
   },
   "source": [
    "# Reshape DataFrame `df_energy` from wide to long format using melt, and store the result in `melted_energy`.\n",
    "@check_pandas_50\n",
    "def pandas_50(df_energy):\n",
    "    # This line is mandatory and should not be removed.\n",
    "    ex_stat_init = True\n",
    "\n",
    "    # BELOW GOES YOUR CODE\n",
    "    print(df_energy)\n",
    "    melted_energy = pd.melt(df_energy, id_vars=['Year'],  value_vars=['Coal', 'Oil'], var_name='EnergyType', value_name='Consumption')\n",
    "    print(melted_energy)\n",
    "    # ABOVE GOES YOUR CODE\n",
    "    return {\"melted_energy\": melted_energy}\n",
    "\n",
    "pandas_50()"
   ],
   "outputs": [
    {
     "name": "stdout",
     "output_type": "stream",
     "text": [
      "   Year  Coal  Oil\n",
      "0  2020   100  300\n",
      "1  2021   200  400\n",
      "   Year EnergyType  Consumption\n",
      "0  2020       Coal          100\n",
      "1  2021       Coal          200\n",
      "2  2020        Oil          300\n",
      "3  2021        Oil          400\n",
      "✅ Great job! Exercise completed successfully.\n"
     ]
    }
   ],
   "execution_count": 3
  },
  {
   "cell_type": "code",
   "metadata": {
    "ExecuteTime": {
     "end_time": "2024-10-22T10:56:26.967575Z",
     "start_time": "2024-10-22T10:56:26.105966Z"
    }
   },
   "source": [
    "# Using DataFrame `df_product_sales`, change its structure by applying a pivot operation with 'ProductID' being the index, columns as 'Month', and 'Sales' as values, storing the result in `pivoted_sales`.\n",
    "@check_pandas_51\n",
    "def pandas_51(df_product_sales):\n",
    "    # This line is mandatory and should not be removed.\n",
    "    ex_stat_init = True\n",
    "\n",
    "    # BELOW GOES YOUR CODE\n",
    "    print(df_product_sales)\n",
    "    pivoted_sales = pd.pivot_table(df_product_sales, index='ProductID', columns='Month', values='Sales')\n",
    "    print(pivoted_sales)\n",
    "    # ABOVE GOES YOUR CODE\n",
    "    return {\"pivoted_sales\": pivoted_sales}\n",
    "\n",
    "pandas_51()"
   ],
   "outputs": [
    {
     "name": "stdout",
     "output_type": "stream",
     "text": [
      "   ProductID  Sales Month\n",
      "0          1    100     A\n",
      "1          2    200     B\n",
      "2          3    300     A\n",
      "Month          A      B\n",
      "ProductID              \n",
      "1          100.0    NaN\n",
      "2            NaN  200.0\n",
      "3          300.0    NaN\n",
      "✅ Great job! Exercise completed successfully.\n"
     ]
    }
   ],
   "execution_count": 5
  },
  {
   "cell_type": "code",
   "metadata": {
    "ExecuteTime": {
     "end_time": "2024-10-22T20:01:17.563843Z",
     "start_time": "2024-10-22T20:01:17.365495Z"
    }
   },
   "source": [
    "# Create a pandas DataFrame `df_date_range` using a date range starting from '2022-01-01' to '2023-01-01', frequency of 'MS', with columns ['Sales', 'Profit'] filled with zeros.\n",
    "@check_pandas_52\n",
    "def pandas_52():\n",
    "    # This line is mandatory and should not be removed.\n",
    "    ex_stat_init = True\n",
    "\n",
    "    # BELOW GOES YOUR CODE\n",
    "    df_date_range = pd.date_range(start='2022-01-01', end='2023-01-01', freq='MS')\n",
    "    df_date_range = pd.DataFrame(0, index=df_date_range, columns=['Sales', 'Profit'])\n",
    "    print(df_date_range)\n",
    "    # ABOVE GOES YOUR CODE\n",
    "    return {\"df_date_range\": df_date_range}\n",
    "\n",
    "pandas_52()"
   ],
   "outputs": [
    {
     "name": "stdout",
     "output_type": "stream",
     "text": [
      "            Sales  Profit\n",
      "2022-01-01      0       0\n",
      "2022-02-01      0       0\n",
      "2022-03-01      0       0\n",
      "2022-04-01      0       0\n",
      "2022-05-01      0       0\n",
      "2022-06-01      0       0\n",
      "2022-07-01      0       0\n",
      "2022-08-01      0       0\n",
      "2022-09-01      0       0\n",
      "2022-10-01      0       0\n",
      "2022-11-01      0       0\n",
      "2022-12-01      0       0\n",
      "2023-01-01      0       0\n",
      "✅ Great job! Exercise completed successfully.\n"
     ]
    }
   ],
   "execution_count": 3
  },
  {
   "cell_type": "code",
   "metadata": {
    "ExecuteTime": {
     "end_time": "2024-10-22T20:04:34.466441Z",
     "start_time": "2024-10-22T20:04:34.439126Z"
    }
   },
   "source": [
    "# Extract the year and month for each entry in DataFrame `df_date_series` with a DateTimeIndex, storing them in `years` and `months` respectively.\n",
    "@check_pandas_53\n",
    "def pandas_53(df_date_series):\n",
    "    # This line is mandatory and should not be removed.\n",
    "    ex_stat_init = True\n",
    "\n",
    "    # BELOW GOES YOUR CODE\n",
    "    print(df_date_series)\n",
    "    years = df_date_series.index.year\n",
    "    print(years)\n",
    "    months = df_date_series.index.month\n",
    "    print(months)\n",
    "    # ABOVE GOES YOUR CODE\n",
    "    return {\"years\": years, \"months\": months}\n",
    "\n",
    "pandas_53()"
   ],
   "outputs": [
    {
     "name": "stdout",
     "output_type": "stream",
     "text": [
      "            Sales  Profit\n",
      "2022-01-01    100      50\n",
      "2022-02-01    200     100\n",
      "2022-03-01    300     150\n",
      "Index([2022, 2022, 2022], dtype='int32')\n",
      "Index([1, 2, 3], dtype='int32')\n",
      "✅ Great job! Exercise completed successfully.\n"
     ]
    }
   ],
   "execution_count": 5
  },
  {
   "cell_type": "code",
   "metadata": {
    "ExecuteTime": {
     "end_time": "2024-10-22T20:20:15.478823Z",
     "start_time": "2024-10-22T20:20:15.461966Z"
    }
   },
   "source": [
    "# Resample DataFrame `df_time_series` to quarterly frequency, taking the sum, and store the resulting series in `quarterly_series`.\n",
    "@check_pandas_54\n",
    "def pandas_54(df_time_series):\n",
    "    # This line is mandatory and should not be removed.\n",
    "    ex_stat_init = True\n",
    "\n",
    "    # BELOW GOES YOUR CODE\n",
    "    print(df_time_series)\n",
    "    quarterly_series = df_time_series.resample('QE').sum()\n",
    "    print(quarterly_series)\n",
    "    # ABOVE GOES YOUR CODE\n",
    "    return {\"quarterly_series\": quarterly_series}\n",
    "\n",
    "pandas_54()"
   ],
   "outputs": [
    {
     "name": "stdout",
     "output_type": "stream",
     "text": [
      "            Sales  Profit\n",
      "2022-01-01    100      50\n",
      "2022-02-01    200     100\n",
      "2022-03-01    300     150\n",
      "2022-04-01    400     200\n",
      "2022-05-01    500     250\n",
      "            Sales  Profit\n",
      "2022-03-31    600     300\n",
      "2022-06-30    900     450\n",
      "✅ Great job! Exercise completed successfully.\n"
     ]
    }
   ],
   "execution_count": 10
  },
  {
   "cell_type": "code",
   "metadata": {
    "ExecuteTime": {
     "end_time": "2024-10-22T20:24:53.890832Z",
     "start_time": "2024-10-22T20:24:53.833622Z"
    }
   },
   "source": [
    "# Apply a rolling window of 7 days for the DataFrame `df_metrics`, and calculate the mean, storing it in `rolling_mean_metrics`.\n",
    "@check_pandas_55\n",
    "def pandas_55(df_metrics):\n",
    "    # This line is mandatory and should not be removed.\n",
    "    ex_stat_init = True\n",
    "\n",
    "    # BELOW GOES YOUR CODE\n",
    "    print(df_metrics)\n",
    "    rolling_mean_metrics = df_metrics.rolling(window=7).mean()\n",
    "    print(rolling_mean_metrics)\n",
    "    # ABOVE GOES YOUR CODE\n",
    "    return {\"rolling_mean_metrics\": rolling_mean_metrics}\n",
    "\n",
    "pandas_55()"
   ],
   "outputs": [
    {
     "name": "stdout",
     "output_type": "stream",
     "text": [
      "            Sales\n",
      "2022-01-01    100\n",
      "2022-01-02    200\n",
      "2022-01-03    300\n",
      "2022-01-04    400\n",
      "2022-01-05    500\n",
      "2022-01-06    600\n",
      "2022-01-07    700\n",
      "2022-01-08    800\n",
      "2022-01-09    900\n",
      "2022-01-10   1000\n",
      "            Sales\n",
      "2022-01-01    NaN\n",
      "2022-01-02    NaN\n",
      "2022-01-03    NaN\n",
      "2022-01-04    NaN\n",
      "2022-01-05    NaN\n",
      "2022-01-06    NaN\n",
      "2022-01-07  400.0\n",
      "2022-01-08  500.0\n",
      "2022-01-09  600.0\n",
      "2022-01-10  700.0\n",
      "✅ Great job! Exercise completed successfully.\n"
     ]
    }
   ],
   "execution_count": 12
  },
  {
   "cell_type": "code",
   "metadata": {
    "ExecuteTime": {
     "end_time": "2024-11-01T06:54:08.883526Z",
     "start_time": "2024-11-01T06:54:08.866302Z"
    }
   },
   "source": [
    "# Apply the function `np.log1p` to the column 'Revenue' in DataFrame `df_financial_data`, storing the updated data in `logged_df`.\n",
    "@check_pandas_56\n",
    "def pandas_56(df_financial_data):\n",
    "    # This line is mandatory and should not be removed.\n",
    "    ex_stat_init = True\n",
    "\n",
    "    # BELOW GOES YOUR CODE\n",
    "    print(df_financial_data)\n",
    "    df_financial_data['Revenue'] = np.log1p(df_financial_data['Revenue'])\n",
    "    logged_df = df_financial_data\n",
    "    print(logged_df)\n",
    "    # ABOVE GOES YOUR CODE\n",
    "    return {\"logged_df\": logged_df}\n",
    "\n",
    "pandas_56()"
   ],
   "outputs": [
    {
     "name": "stdout",
     "output_type": "stream",
     "text": [
      "   Revenue\n",
      "0      100\n",
      "1      200\n",
      "2      300\n",
      "3      400\n",
      "4      500\n",
      "    Revenue\n",
      "0  4.615121\n",
      "1  5.303305\n",
      "2  5.707110\n",
      "3  5.993961\n",
      "4  6.216606\n",
      "✅ Great job! Exercise completed successfully.\n"
     ]
    }
   ],
   "execution_count": 5
  },
  {
   "cell_type": "code",
   "metadata": {
    "ExecuteTime": {
     "end_time": "2024-11-01T06:58:41.812018Z",
     "start_time": "2024-11-01T06:58:41.798557Z"
    }
   },
   "source": [
    "# Optimize memory usage of DataFrame `df_large` by converting column 'ID' to int32 and store as `optimized_df`.\n",
    "@check_pandas_57\n",
    "def pandas_57(df_large):\n",
    "    # This line is mandatory and should not be removed.\n",
    "    ex_stat_init = True\n",
    "\n",
    "    # BELOW GOES YOUR CODE\n",
    "    print(df_large)\n",
    "    df_large['ID'] = df_large['ID'].astype('int32')\n",
    "    optimized_df = df_large.copy()\n",
    "    print(optimized_df)\n",
    "    # ABOVE GOES YOUR CODE\n",
    "    return {\"optimized_df\": optimized_df}\n",
    "\n",
    "pandas_57()"
   ],
   "outputs": [
    {
     "name": "stdout",
     "output_type": "stream",
     "text": [
      "   ID  Sales\n",
      "0   1    100\n",
      "1   2    200\n",
      "2   3    300\n",
      "3   4    400\n",
      "4   5    500\n",
      "   ID  Sales\n",
      "0   1    100\n",
      "1   2    200\n",
      "2   3    300\n",
      "3   4    400\n",
      "4   5    500\n",
      "✅ Great job! Exercise completed successfully.\n"
     ]
    }
   ],
   "execution_count": 10
  },
  {
   "cell_type": "code",
   "metadata": {
    "ExecuteTime": {
     "end_time": "2024-11-01T07:00:45.424988Z",
     "start_time": "2024-11-01T07:00:45.390050Z"
    }
   },
   "source": [
    "# Convert data types of 'Price' in DataFrame `df_items` from float64 to float32 for memory efficiency, saving the result as `optimized_items`.\n",
    "@check_pandas_58\n",
    "def pandas_58(df_items):\n",
    "    # This line is mandatory and should not be removed.\n",
    "    ex_stat_init = True\n",
    "\n",
    "    # BELOW GOES YOUR CODE\n",
    "    print(df_items)\n",
    "    df_items['Price'] = df_items['Price'].astype('float32')\n",
    "    optimized_items = df_items.copy()\n",
    "    print(optimized_items)\n",
    "    # ABOVE GOES YOUR CODE\n",
    "    return {\"optimized_items\": optimized_items}\n",
    "\n",
    "pandas_58()"
   ],
   "outputs": [
    {
     "name": "stdout",
     "output_type": "stream",
     "text": [
      "  Item  Price\n",
      "0    A  100.0\n",
      "1    B  200.0\n",
      "2    C  300.0\n",
      "  Item  Price\n",
      "0    A  100.0\n",
      "1    B  200.0\n",
      "2    C  300.0\n",
      "✅ Great job! Exercise completed successfully.\n"
     ]
    }
   ],
   "execution_count": 13
  },
  {
   "cell_type": "code",
   "metadata": {
    "ExecuteTime": {
     "end_time": "2024-11-01T07:07:33.584114Z",
     "start_time": "2024-11-01T07:07:33.552680Z"
    }
   },
   "source": [
    "# Remove duplicate entries from DataFrame `df_database` and store the cleaned DataFrame as `unique_database`.\n",
    "@check_pandas_59\n",
    "def pandas_59(df_database):\n",
    "    # This line is mandatory and should not be removed.\n",
    "    ex_stat_init = True\n",
    "\n",
    "    # BELOW GOES YOUR CODE\n",
    "    print(df_database)\n",
    "    unique_database = df_database.drop_duplicates()\n",
    "    print(unique_database)\n",
    "    # ABOVE GOES YOUR CODE\n",
    "    return {\"unique_database\": unique_database}\n",
    "\n",
    "pandas_59()"
   ],
   "outputs": [
    {
     "name": "stdout",
     "output_type": "stream",
     "text": [
      "   ID     Name\n",
      "0   1    Alice\n",
      "1   2      Bob\n",
      "2   3  Charlie\n",
      "3   4    David\n",
      "4   4    David\n",
      "   ID     Name\n",
      "0   1    Alice\n",
      "1   2      Bob\n",
      "2   3  Charlie\n",
      "3   4    David\n",
      "✅ Great job! Exercise completed successfully.\n"
     ]
    }
   ],
   "execution_count": 19
  },
  {
   "cell_type": "code",
   "metadata": {
    "ExecuteTime": {
     "end_time": "2024-11-01T07:12:11.260804Z",
     "start_time": "2024-11-01T07:12:11.232647Z"
    }
   },
   "source": [
    "# Perform string operation by converting all entries in the 'Names' column of `df_attendees` to uppercase, storing the resulting DataFrame as `uppercase_attendees`.\n",
    "@check_pandas_60\n",
    "def pandas_60(df_attendees):\n",
    "    # This line is mandatory and should not be removed.\n",
    "    ex_stat_init = True\n",
    "\n",
    "    # BELOW GOES YOUR CODE\n",
    "    print(df_attendees)\n",
    "    df_attendees['Names'] = df_attendees['Names'].str.upper()\n",
    "    uppercase_attendees = df_attendees.copy()\n",
    "    print(uppercase_attendees)\n",
    "    # ABOVE GOES YOUR CODE\n",
    "    return {\"uppercase_attendees\": uppercase_attendees}\n",
    "\n",
    "pandas_60()"
   ],
   "outputs": [
    {
     "name": "stdout",
     "output_type": "stream",
     "text": [
      "     Names\n",
      "0    Alice\n",
      "1      Bob\n",
      "2  Charlie\n",
      "     Names\n",
      "0    ALICE\n",
      "1      BOB\n",
      "2  CHARLIE\n",
      "✅ Great job! Exercise completed successfully.\n"
     ]
    }
   ],
   "execution_count": 22
  },
  {
   "cell_type": "code",
   "metadata": {
    "ExecuteTime": {
     "end_time": "2024-11-01T07:16:00.150224Z",
     "start_time": "2024-11-01T07:16:00.130163Z"
    }
   },
   "source": [
    "# Select rows from DataFrame `df_students` using the query method to find students with 'Score' greater than 85, storing the result as `high_scorers`.\n",
    "@check_pandas_61\n",
    "def pandas_61(df_students):\n",
    "    # This line is mandatory and should not be removed.\n",
    "    ex_stat_init = True\n",
    "\n",
    "    # BELOW GOES YOUR CODE\n",
    "    print(df_students)\n",
    "    high_scorers = df_students.query('Score > 85')\n",
    "    print(high_scorers)\n",
    "    # ABOVE GOES YOUR CODE\n",
    "    return {\"high_scorers\": high_scorers}\n",
    "\n",
    "pandas_61()"
   ],
   "outputs": [
    {
     "name": "stdout",
     "output_type": "stream",
     "text": [
      "      Name  Score\n",
      "0    Alice     80\n",
      "1      Bob     90\n",
      "2  Charlie     85\n",
      "  Name  Score\n",
      "1  Bob     90\n",
      "✅ Great job! Exercise completed successfully.\n"
     ]
    }
   ],
   "execution_count": 25
  },
  {
   "cell_type": "code",
   "metadata": {
    "ExecuteTime": {
     "end_time": "2024-11-13T09:29:10.043974Z",
     "start_time": "2024-11-13T09:29:08.781617Z"
    }
   },
   "source": [
    "# In DataFrame `df_results`, group by 'Team', apply custom function to rank 'Score' in descending order, and store the result in `ranked_teams`.\n",
    "@check_pandas_62\n",
    "def pandas_62(df_results):\n",
    "    # This line is mandatory and should not be removed.\n",
    "    ex_stat_init = True\n",
    "\n",
    "    # BELOW GOES YOUR CODE\n",
    "    print(df_results)\n",
    "    ranked_teams = df_results.groupby('Team').apply(lambda x : x.assign(Rank=x['Score'].rank(ascending=False)))\n",
    "    print(ranked_teams)\n",
    "    # ABOVE GOES YOUR CODE\n",
    "    return {\"ranked_teams\": ranked_teams}\n",
    "\n",
    "pandas_62()"
   ],
   "outputs": [
    {
     "name": "stdout",
     "output_type": "stream",
     "text": [
      "  Team  Score\n",
      "0    A    100\n",
      "1    B    200\n",
      "2    A    300\n",
      "3    B    400\n",
      "       Team  Score  Rank\n",
      "Team                    \n",
      "A    0    A    100   2.0\n",
      "     2    A    300   1.0\n",
      "B    1    B    200   2.0\n",
      "     3    B    400   1.0\n",
      "✅ Great job! Exercise completed successfully.\n"
     ]
    },
    {
     "name": "stderr",
     "output_type": "stream",
     "text": [
      "C:\\Users\\Costea\\AppData\\Local\\Temp\\ipykernel_3347492\\1457097305.py:9: DeprecationWarning: DataFrameGroupBy.apply operated on the grouping columns. This behavior is deprecated, and in a future version of pandas the grouping columns will be excluded from the operation. Either pass `include_groups=False` to exclude the groupings or explicitly select the grouping columns after groupby to silence this warning.\n",
      "  ranked_teams = df_results.groupby('Team').apply(lambda x : x.assign(Rank=x['Score'].rank(ascending=False)))\n"
     ]
    }
   ],
   "execution_count": 4
  },
  {
   "cell_type": "code",
   "metadata": {
    "ExecuteTime": {
     "end_time": "2024-11-01T07:38:11.083937Z",
     "start_time": "2024-11-01T07:38:11.066437Z"
    }
   },
   "source": [
    "# Perform a aggregation on DataFrame `df_data_group` for 'City' using a custom function that finds the range of 'Temperature', storing as `temperature_range`.\n",
    "@check_pandas_63\n",
    "def pandas_63(df_data_group):\n",
    "    # This line is mandatory and should not be removed.\n",
    "    ex_stat_init = True\n",
    "\n",
    "    # BELOW GOES YOUR CODE\n",
    "    print(df_data_group)\n",
    "    def temperature_range(group):\n",
    "        return group['Temperature'].max() - group['Temperature'].min()\n",
    "    \n",
    "    temperature_range = df_data_group.groupby('City').apply(temperature_range, include_groups=False)\n",
    "    print(temperature_range)\n",
    "    # ABOVE GOES YOUR CODE\n",
    "    return {\"temperature_range\": temperature_range}\n",
    "\n",
    "pandas_63()"
   ],
   "outputs": [
    {
     "name": "stdout",
     "output_type": "stream",
     "text": [
      "  City  Temperature\n",
      "0    A           10\n",
      "1    B           20\n",
      "2    A           30\n",
      "3    B           40\n",
      "City\n",
      "A    20\n",
      "B    20\n",
      "dtype: int64\n",
      "✅ Great job! Exercise completed successfully.\n"
     ]
    }
   ],
   "execution_count": 40
  },
  {
   "cell_type": "code",
   "metadata": {
    "ExecuteTime": {
     "end_time": "2024-11-01T07:44:18.369014Z",
     "start_time": "2024-11-01T07:44:18.337836Z"
    }
   },
   "source": [
    "# Use vectorized operations to add 10 to every element in DataFrame `df_numeric`, saving the result as `adjusted_numeric`.\n",
    "@check_pandas_64\n",
    "def pandas_64(df_numeric):\n",
    "    # This line is mandatory and should not be removed.\n",
    "    ex_stat_init = True\n",
    "\n",
    "    # BELOW GOES YOUR CODE\n",
    "    print(df_numeric)\n",
    "    adjusted_numeric = df_numeric + 10 \n",
    "    print(adjusted_numeric)\n",
    "    # ABOVE GOES YOUR CODE\n",
    "    return {\"adjusted_numeric\": adjusted_numeric}\n",
    "\n",
    "pandas_64()"
   ],
   "outputs": [
    {
     "name": "stdout",
     "output_type": "stream",
     "text": [
      "   A  B\n",
      "0  1  4\n",
      "1  2  5\n",
      "2  3  6\n",
      "    A   B\n",
      "0  11  14\n",
      "1  12  15\n",
      "2  13  16\n",
      "✅ Great job! Exercise completed successfully.\n"
     ]
    }
   ],
   "execution_count": 47
  },
  {
   "cell_type": "code",
   "metadata": {
    "ExecuteTime": {
     "end_time": "2024-11-01T07:50:34.668591Z",
     "start_time": "2024-11-01T07:50:34.650029Z"
    }
   },
   "source": [
    "# Process DataFrame `df_sales_timezones` to convert the 'Timestamp' to a timezone-aware datetime, setting the timezone to 'UTC', and save as `timezone_aware_sales`.\n",
    "@check_pandas_65\n",
    "def pandas_65(df_sales_timezones):\n",
    "    # This line is mandatory and should not be removed.\n",
    "    ex_stat_init = True\n",
    "\n",
    "    # BELOW GOES YOUR CODE\n",
    "    print(df_sales_timezones)\n",
    "    timezone_aware_sales = df_sales_timezones.copy()\n",
    "    timezone_aware_sales['Timestamp'] = timezone_aware_sales['Timestamp'].dt.tz_localize('UTC')\n",
    "    print(timezone_aware_sales)\n",
    "    # ABOVE GOES YOUR CODE\n",
    "    return {\"timezone_aware_sales\": timezone_aware_sales}\n",
    "\n",
    "pandas_65()"
   ],
   "outputs": [
    {
     "name": "stdout",
     "output_type": "stream",
     "text": [
      "   Timestamp  Sales\n",
      "0 2022-01-01    100\n",
      "1 2022-01-02    200\n",
      "                  Timestamp  Sales\n",
      "0 2022-01-01 00:00:00+00:00    100\n",
      "1 2022-01-02 00:00:00+00:00    200\n",
      "✅ Great job! Exercise completed successfully.\n"
     ]
    }
   ],
   "execution_count": 50
  },
  {
   "cell_type": "code",
   "metadata": {
    "ExecuteTime": {
     "end_time": "2024-11-01T08:00:15.446965Z",
     "start_time": "2024-11-01T08:00:15.429775Z"
    }
   },
   "source": [
    "# Create a pandas DataFrame `df_customer_reviews` from a JSON string `json_input_string`.\n",
    "@check_pandas_66\n",
    "def pandas_66(json_input_string):\n",
    "    # This line is mandatory and should not be removed.\n",
    "    ex_stat_init = True\n",
    "\n",
    "    # BELOW GOES YOUR CODE\n",
    "    print(json_input_string)\n",
    "    data = json.loads(json_input_string)\n",
    "    df_customer_reviews = pd.DataFrame(data)\n",
    "    print(df_customer_reviews)\n",
    "    # ABOVE GOES YOUR CODE\n",
    "    return {\"df_customer_reviews\": df_customer_reviews}\n",
    "\n",
    "pandas_66()"
   ],
   "outputs": [
    {
     "name": "stdout",
     "output_type": "stream",
     "text": [
      "[{\"Name\": \"Alice\", \"Rating\": 5}, {\"Name\": \"Bob\", \"Rating\": 4}]\n",
      "    Name  Rating\n",
      "0  Alice       5\n",
      "1    Bob       4\n",
      "✅ Great job! Exercise completed successfully.\n"
     ]
    }
   ],
   "execution_count": 2
  },
  {
   "cell_type": "code",
   "metadata": {
    "ExecuteTime": {
     "end_time": "2024-11-01T08:03:50.970280Z",
     "start_time": "2024-11-01T08:03:50.953455Z"
    }
   },
   "source": [
    "# Given a pandas Series `series_temp_investments`, access specific elements from custom indices ['A1', 'B2', 'C3'] and save them to `selected_investments`.\n",
    "@check_pandas_67\n",
    "def pandas_67(series_temp_investments):\n",
    "    # This line is mandatory and should not be removed.\n",
    "    ex_stat_init = True\n",
    "\n",
    "    # BELOW GOES YOUR CODE\n",
    "    print(series_temp_investments)\n",
    "    index = ['A1', 'B2', 'C3']\n",
    "    selected_investments = pd.Series(series_temp_investments, index=index)\n",
    "    print(selected_investments)\n",
    "    # ABOVE GOES YOUR CODE\n",
    "    return {\"selected_investments\": selected_investments}\n",
    "\n",
    "pandas_67()"
   ],
   "outputs": [
    {
     "name": "stdout",
     "output_type": "stream",
     "text": [
      "A1    100\n",
      "B2    200\n",
      "C3    300\n",
      "dtype: int64\n",
      "A1    100\n",
      "B2    200\n",
      "C3    300\n",
      "dtype: int64\n",
      "✅ Great job! Exercise completed successfully.\n"
     ]
    }
   ],
   "execution_count": 6
  },
  {
   "cell_type": "code",
   "metadata": {
    "ExecuteTime": {
     "end_time": "2024-11-01T08:08:40.539755Z",
     "start_time": "2024-11-01T08:08:40.532433Z"
    }
   },
   "source": [
    "# Slice pandas Series `series_temp_readings` to return every second element, storing the result in `temp_slice_even`.\n",
    "@check_pandas_68\n",
    "def pandas_68(series_temp_readings):\n",
    "    # This line is mandatory and should not be removed.\n",
    "    ex_stat_init = True\n",
    "\n",
    "    # BELOW GOES YOUR CODE\n",
    "    print(series_temp_readings)\n",
    "    temp_slice_even = series_temp_readings[0:series_temp_readings.size:2]\n",
    "    print(temp_slice_even)\n",
    "    # ABOVE GOES YOUR CODE\n",
    "    return {\"temp_slice_even\": temp_slice_even}\n",
    "\n",
    "pandas_68()"
   ],
   "outputs": [
    {
     "name": "stdout",
     "output_type": "stream",
     "text": [
      "0    10\n",
      "1    20\n",
      "2    30\n",
      "3    40\n",
      "4    50\n",
      "dtype: int64\n",
      "0    10\n",
      "2    30\n",
      "4    50\n",
      "dtype: int64\n",
      "✅ Great job! Exercise completed successfully.\n"
     ]
    }
   ],
   "execution_count": 8
  },
  {
   "cell_type": "code",
   "metadata": {
    "ExecuteTime": {
     "end_time": "2024-11-01T08:12:29.817599Z",
     "start_time": "2024-11-01T08:12:29.809104Z"
    }
   },
   "source": [
    "# From a list of dictionaries `sensor_data_list`, create a DataFrame named `df_sensor_readings` with custom column names ['SensorID', 'Temperature', 'Humidity'].\n",
    "@check_pandas_69\n",
    "def pandas_69(sensor_data_list):\n",
    "    # This line is mandatory and should not be removed.\n",
    "    ex_stat_init = True\n",
    "\n",
    "    # BELOW GOES YOUR CODE\n",
    "    print(sensor_data_list)\n",
    "    df_sensor_readings = pd.DataFrame(sensor_data_list, columns=['SensorID', 'Temperature', 'Humidity'])\n",
    "    print(df_sensor_readings)\n",
    "    # ABOVE GOES YOUR CODE\n",
    "    return {\"df_sensor_readings\": df_sensor_readings}\n",
    "\n",
    "pandas_69()"
   ],
   "outputs": [
    {
     "name": "stdout",
     "output_type": "stream",
     "text": [
      "[{'SensorID': 1, 'Temperature': 20, 'Humidity': 50}, {'SensorID': 2, 'Temperature': 25, 'Humidity': 60}]\n",
      "   SensorID  Temperature  Humidity\n",
      "0         1           20        50\n",
      "1         2           25        60\n",
      "✅ Great job! Exercise completed successfully.\n"
     ]
    }
   ],
   "execution_count": 11
  },
  {
   "cell_type": "code",
   "metadata": {
    "ExecuteTime": {
     "end_time": "2024-11-01T08:13:59.024197Z",
     "start_time": "2024-11-01T08:13:59.016353Z"
    }
   },
   "source": [
    "# Access and display the first 10 elements of Series `series_large_dataset`, storing them in `top_ten_elements`.\n",
    "@check_pandas_70\n",
    "def pandas_70(series_large_dataset):\n",
    "    # This line is mandatory and should not be removed.\n",
    "    ex_stat_init = True\n",
    "\n",
    "    # BELOW GOES YOUR CODE\n",
    "    print(series_large_dataset)\n",
    "    top_ten_elements =series_large_dataset.head(10)\n",
    "    print(top_ten_elements)\n",
    "    # ABOVE GOES YOUR CODE\n",
    "    return {\"top_ten_elements\": top_ten_elements}\n",
    "\n",
    "pandas_70()"
   ],
   "outputs": [
    {
     "name": "stdout",
     "output_type": "stream",
     "text": [
      "0      0\n",
      "1      1\n",
      "2      2\n",
      "3      3\n",
      "4      4\n",
      "      ..\n",
      "95    95\n",
      "96    96\n",
      "97    97\n",
      "98    98\n",
      "99    99\n",
      "Length: 100, dtype: int64\n",
      "0    0\n",
      "1    1\n",
      "2    2\n",
      "3    3\n",
      "4    4\n",
      "5    5\n",
      "6    6\n",
      "7    7\n",
      "8    8\n",
      "9    9\n",
      "dtype: int64\n",
      "✅ Great job! Exercise completed successfully.\n"
     ]
    }
   ],
   "execution_count": 13
  },
  {
   "cell_type": "code",
   "metadata": {
    "ExecuteTime": {
     "end_time": "2024-11-01T08:15:10.637737Z",
     "start_time": "2024-11-01T08:15:10.629636Z"
    }
   },
   "source": [
    "# Use the DataFrame `df_population_data` to extract and store the indices in a variable `population_indices`.\n",
    "@check_pandas_71\n",
    "def pandas_71(df_population_data):\n",
    "    # This line is mandatory and should not be removed.\n",
    "    ex_stat_init = True\n",
    "\n",
    "    # BELOW GOES YOUR CODE\n",
    "    print(df_population_data)\n",
    "    population_indices = df_population_data.index\n",
    "    print(population_indices)\n",
    "    # ABOVE GOES YOUR CODE\n",
    "    return {\"population_indices\": population_indices}\n",
    "\n",
    "pandas_71()"
   ],
   "outputs": [
    {
     "name": "stdout",
     "output_type": "stream",
     "text": [
      "  City  Population\n",
      "A    A         100\n",
      "B    B         200\n",
      "C    C         300\n",
      "Index(['A', 'B', 'C'], dtype='object')\n",
      "✅ Great job! Exercise completed successfully.\n"
     ]
    }
   ],
   "execution_count": 15
  },
  {
   "cell_type": "code",
   "metadata": {
    "ExecuteTime": {
     "end_time": "2024-11-06T04:39:33.253792Z",
     "start_time": "2024-11-06T04:39:33.235566Z"
    }
   },
   "source": [
    "# Combine DataFrames `df_financial_2021` and `df_financial_2020` vertically, so that rows from 2021 follow those of 2020, storing result in `combined_financials`.\n",
    "@check_pandas_72\n",
    "def pandas_72(df_financial_2021, df_financial_2020):\n",
    "    # This line is mandatory and should not be removed.\n",
    "    ex_stat_init = True\n",
    "\n",
    "    # BELOW GOES YOUR CODE\n",
    "    print(df_financial_2020)\n",
    "    print(df_financial_2021)\n",
    "    combined_financials = pd.concat([df_financial_2020, df_financial_2021], axis=0)\n",
    "\n",
    "    print(combined_financials)\n",
    "    # ABOVE GOES YOUR CODE\n",
    "    return {\"combined_financials\": combined_financials}\n",
    "\n",
    "pandas_72()"
   ],
   "outputs": [
    {
     "name": "stdout",
     "output_type": "stream",
     "text": [
      "         Date  Sales\n",
      "0  2020-01-01     50\n",
      "1  2020-01-02    150\n",
      "         Date  Sales\n",
      "0  2021-01-01    100\n",
      "1  2021-01-02    200\n",
      "         Date  Sales\n",
      "0  2020-01-01     50\n",
      "1  2020-01-02    150\n",
      "0  2021-01-01    100\n",
      "1  2021-01-02    200\n",
      "✅ Great job! Exercise completed successfully.\n"
     ]
    }
   ],
   "execution_count": 4
  },
  {
   "cell_type": "code",
   "metadata": {
    "ExecuteTime": {
     "end_time": "2024-11-05T09:11:17.439349Z",
     "start_time": "2024-11-05T09:11:16.106758Z"
    }
   },
   "source": [
    "# Merge DataFrames `df_clients` and `df_orders` with a common key 'ClientID' using the 'inner' join method, and save the result as `client_orders`.\n",
    "@check_pandas_73\n",
    "def pandas_73(df_clients, df_orders):\n",
    "    # This line is mandatory and should not be removed.\n",
    "    ex_stat_init = True\n",
    "\n",
    "    # BELOW GOES YOUR CODE\n",
    "    print(df_clients)\n",
    "    print(df_orders)\n",
    "    client_orders = pd.merge(df_clients, df_orders, on='ClientID', how='inner')\n",
    "    print(client_orders)\n",
    "    # ABOVE GOES YOUR CODE\n",
    "    return {\"client_orders\": client_orders}\n",
    "\n",
    "pandas_73()"
   ],
   "outputs": [
    {
     "name": "stdout",
     "output_type": "stream",
     "text": [
      "   ClientID   Name\n",
      "0         1  Alice\n",
      "1         2    Bob\n",
      "   ClientID Product\n",
      "0         2       A\n",
      "1         3       B\n",
      "   ClientID Name Product\n",
      "0         2  Bob       A\n",
      "✅ Great job! Exercise completed successfully.\n"
     ]
    }
   ],
   "execution_count": 4
  },
  {
   "cell_type": "code",
   "metadata": {
    "ExecuteTime": {
     "end_time": "2024-11-06T04:27:23.392363Z",
     "start_time": "2024-11-06T04:27:23.376463Z"
    }
   },
   "source": [
    "# From DataFrame `df_commodity_prices`, locate the element where 'Commodity' is 'Gold' and 'PriceDate' is '2023-06-01', storing it in `gold_price`.\n",
    "@check_pandas_74\n",
    "def pandas_74(df_commodity_prices):\n",
    "    # This line is mandatory and should not be removed.\n",
    "    ex_stat_init = True\n",
    "\n",
    "    # BELOW GOES YOUR CODE\n",
    "    print(df_commodity_prices)\n",
    "    gold_price = df_commodity_prices[(df_commodity_prices['Commodity'] == 'Gold') & (df_commodity_prices['PriceDate'] == '2023-06-01')]\n",
    "    print(gold_price)\n",
    "    # ABOVE GOES YOUR CODE\n",
    "    return {\"gold_price\": gold_price}\n",
    "\n",
    "pandas_74()"
   ],
   "outputs": [
    {
     "name": "stdout",
     "output_type": "stream",
     "text": [
      "  Commodity  Price   PriceDate\n",
      "0      Gold   1000  2023-06-01\n",
      "1    Silver     20  2023-06-01\n",
      "  Commodity  Price   PriceDate\n",
      "0      Gold   1000  2023-06-01\n",
      "✅ Great job! Exercise completed successfully.\n"
     ]
    }
   ],
   "execution_count": 8
  },
  {
   "cell_type": "code",
   "metadata": {
    "ExecuteTime": {
     "end_time": "2024-11-05T09:26:54.674562Z",
     "start_time": "2024-11-05T09:26:54.658806Z"
    }
   },
   "source": [
    "# Use boolean indexing on DataFrame `df_sales_performance` to extract rows where 'Quarter' is Q1 and 'Year' >= 2022, saving the result in `performance_q1_2022`.\n",
    "@check_pandas_75\n",
    "def pandas_75(df_sales_performance):\n",
    "    # This line is mandatory and should not be removed.\n",
    "    ex_stat_init = True\n",
    "\n",
    "    # BELOW GOES YOUR CODE\n",
    "    print(df_sales_performance)\n",
    "    performance_q1_2022 = df_sales_performance[\n",
    "        (df_sales_performance['Quarter'] == 'Q1') & \n",
    "        (df_sales_performance['Year'] >= 2022)\n",
    "    ]\n",
    "    print(performance_q1_2022)\n",
    "    # ABOVE GOES YOUR CODE\n",
    "    return {\"performance_q1_2022\": performance_q1_2022}\n",
    "\n",
    "pandas_75()"
   ],
   "outputs": [
    {
     "name": "stdout",
     "output_type": "stream",
     "text": [
      "   Year Quarter  Sales\n",
      "0  2021      Q1    100\n",
      "1  2022      Q1    200\n",
      "2  2022      Q2    300\n",
      "3  2023      Q1    400\n",
      "   Year Quarter  Sales\n",
      "1  2022      Q1    200\n",
      "3  2023      Q1    400\n",
      "✅ Great job! Exercise completed successfully.\n"
     ]
    }
   ],
   "execution_count": 5
  },
  {
   "cell_type": "code",
   "metadata": {
    "ExecuteTime": {
     "end_time": "2024-11-05T09:28:49.202477Z",
     "start_time": "2024-11-05T09:28:49.188068Z"
    }
   },
   "source": [
    "# Slice DataFrame `df_international_customers` to include rows 'France' to 'Italy' using their index labels and save it in `european_customers`.\n",
    "@check_pandas_76\n",
    "def pandas_76(df_international_customers):\n",
    "    # This line is mandatory and should not be removed.\n",
    "    ex_stat_init = True\n",
    "\n",
    "    # BELOW GOES YOUR CODE\n",
    "    print(df_international_customers)\n",
    "    european_customers = df_international_customers.loc['France':'Italy']\n",
    "    print(european_customers)\n",
    "    # ABOVE GOES YOUR CODE\n",
    "    return {\"european_customers\": european_customers}\n",
    "\n",
    "pandas_76()"
   ],
   "outputs": [
    {
     "name": "stdout",
     "output_type": "stream",
     "text": [
      "       Country  Sales\n",
      "USA        USA    100\n",
      "UK          UK    200\n",
      "France  France    300\n",
      "Italy    Italy    400\n",
      "       Country  Sales\n",
      "France  France    300\n",
      "Italy    Italy    400\n",
      "✅ Great job! Exercise completed successfully.\n"
     ]
    }
   ],
   "execution_count": 7
  },
  {
   "cell_type": "code",
   "metadata": {
    "ExecuteTime": {
     "end_time": "2024-11-05T09:31:32.489332Z",
     "start_time": "2024-11-05T09:31:32.479322Z"
    }
   },
   "source": [
    "# Modify DataFrame `df_shipping_list` by setting the 'CollectionDate' column of all rows before '2023-08-01' to NaT, storing the modified DataFrame as `adjusted_shipping`.\n",
    "@check_pandas_77\n",
    "def pandas_77(df_shipping_list):\n",
    "    # This line is mandatory and should not be removed.\n",
    "    ex_stat_init = True\n",
    "\n",
    "    # BELOW GOES YOUR CODE\n",
    "    print(df_shipping_list)\n",
    "    df_shipping_list.loc[df_shipping_list['CollectionDate'] < '2023-08-01', 'CollectionDate'] = pd.NaT\n",
    "    adjusted_shipping = df_shipping_list\n",
    "    print(adjusted_shipping)\n",
    "    # ABOVE GOES YOUR CODE\n",
    "    return {\"adjusted_shipping\": adjusted_shipping}\n",
    "\n",
    "pandas_77()"
   ],
   "outputs": [
    {
     "name": "stdout",
     "output_type": "stream",
     "text": [
      "   OrderID CollectionDate\n",
      "0        1     2023-07-01\n",
      "1        2     2023-08-01\n",
      "2        3     2023-09-01\n",
      "   OrderID CollectionDate\n",
      "0        1            NaT\n",
      "1        2     2023-08-01\n",
      "2        3     2023-09-01\n",
      "✅ Great job! Exercise completed successfully.\n"
     ]
    }
   ],
   "execution_count": 9
  },
  {
   "cell_type": "code",
   "metadata": {
    "ExecuteTime": {
     "end_time": "2024-11-05T09:36:38.284685Z",
     "start_time": "2024-11-05T09:36:38.264667Z"
    }
   },
   "source": [
    "# Merge DataFrames `df_employee_roles` and `df_role_salaries` on 'RoleID', performing a left merge and storing result as `employee_salary_details`.\n",
    "@check_pandas_78\n",
    "def pandas_78(df_employee_roles, df_role_salaries):\n",
    "    # This line is mandatory and should not be removed.\n",
    "    ex_stat_init = True\n",
    "\n",
    "    # BELOW GOES YOUR CODE\n",
    "    print(df_employee_roles)\n",
    "    print(df_role_salaries)\n",
    "    employee_salary_details = pd.merge(df_employee_roles, df_role_salaries, on='RoleID', how='left')\n",
    "    print(employee_salary_details)\n",
    "    # ABOVE GOES YOUR CODE\n",
    "    return {\"employee_salary_details\": employee_salary_details}\n",
    "\n",
    "pandas_78()"
   ],
   "outputs": [
    {
     "name": "stdout",
     "output_type": "stream",
     "text": [
      "   RoleID       Role\n",
      "0       1    Manager\n",
      "1       2  Associate\n",
      "   RoleID  Salary\n",
      "0       2   50000\n",
      "1       3   60000\n",
      "   RoleID       Role   Salary\n",
      "0       1    Manager      NaN\n",
      "1       2  Associate  50000.0\n",
      "✅ Great job! Exercise completed successfully.\n"
     ]
    }
   ],
   "execution_count": 12
  },
  {
   "cell_type": "code",
   "metadata": {
    "ExecuteTime": {
     "end_time": "2024-11-05T09:40:40.481582Z",
     "start_time": "2024-11-05T09:40:40.461102Z"
    }
   },
   "source": [
    "# Group DataFrame `df_class_scores` by 'Class' and calculate the maximum 'Score' for each class, saving the result as `max_class_scores`.\n",
    "@check_pandas_79\n",
    "def pandas_79(df_class_scores):\n",
    "    # This line is mandatory and should not be removed.\n",
    "    ex_stat_init = True\n",
    "\n",
    "    # BELOW GOES YOUR CODE\n",
    "    print(df_class_scores)\n",
    "    max_class_scores = df_class_scores.groupby('Class')['Score'].max()\n",
    "    print(max_class_scores)\n",
    "    # ABOVE GOES YOUR CODE\n",
    "    return {\"max_class_scores\": max_class_scores}\n",
    "\n",
    "pandas_79()"
   ],
   "outputs": [
    {
     "name": "stdout",
     "output_type": "stream",
     "text": [
      "  Class  Score\n",
      "0     A    100\n",
      "1     B    200\n",
      "2     A    300\n",
      "3     B    400\n",
      "Class\n",
      "A    300\n",
      "B    400\n",
      "Name: Score, dtype: int64\n",
      "✅ Great job! Exercise completed successfully.\n"
     ]
    }
   ],
   "execution_count": 16
  },
  {
   "cell_type": "code",
   "metadata": {
    "ExecuteTime": {
     "end_time": "2024-11-05T09:45:17.866686Z",
     "start_time": "2024-11-05T09:45:17.849010Z"
    }
   },
   "source": [
    "# Pivot DataFrame `df_sales_regions` with 'Region' as rows and 'Quarter' as columns, aggregating 'Sales' values, into `sales_pivot`.\n",
    "@check_pandas_80\n",
    "def pandas_80(df_sales_regions):\n",
    "    # This line is mandatory and should not be removed.\n",
    "    ex_stat_init = True\n",
    "\n",
    "    # BELOW GOES YOUR CODE\n",
    "    print(df_sales_regions)\n",
    "    sales_pivot = df_sales_regions.pivot_table(index='Region', columns='Quarter', values='Sales', aggfunc='sum')\n",
    "    print(sales_pivot)\n",
    "    # ABOVE GOES YOUR CODE\n",
    "    return {\"sales_pivot\": sales_pivot}\n",
    "\n",
    "pandas_80()"
   ],
   "outputs": [
    {
     "name": "stdout",
     "output_type": "stream",
     "text": [
      "  Region Quarter  Sales\n",
      "0   East      Q1    100\n",
      "1   West      Q1    200\n",
      "2   East      Q2    300\n",
      "3   West      Q2    400\n",
      "Quarter   Q1   Q2\n",
      "Region           \n",
      "East     100  300\n",
      "West     200  400\n",
      "✅ Great job! Exercise completed successfully.\n"
     ]
    }
   ],
   "execution_count": 20
  },
  {
   "cell_type": "code",
   "metadata": {
    "ExecuteTime": {
     "end_time": "2024-11-05T09:48:16.460899Z",
     "start_time": "2024-11-05T09:48:16.434703Z"
    }
   },
   "source": [
    "# Utilize a crosstab of 'CustomerType' and 'Region' from DataFrame `df_customer_data`, storing the result as `customer_region_crosstab`.\n",
    "@check_pandas_81\n",
    "def pandas_81(df_customer_data):\n",
    "    # This line is mandatory and should not be removed.\n",
    "    ex_stat_init = True\n",
    "\n",
    "    # BELOW GOES YOUR CODE\n",
    "    print(df_customer_data)\n",
    "    customer_region_crosstab = pd.crosstab(df_customer_data['CustomerType'], df_customer_data['Region'])\n",
    "    print(customer_region_crosstab)\n",
    "    # ABOVE GOES YOUR CODE\n",
    "    return {\"customer_region_crosstab\": customer_region_crosstab}\n",
    "\n",
    "pandas_81()"
   ],
   "outputs": [
    {
     "name": "stdout",
     "output_type": "stream",
     "text": [
      "  CustomerType Region\n",
      "0            A   East\n",
      "1            B   West\n",
      "2            A   East\n",
      "3            B   West\n",
      "Region        East  West\n",
      "CustomerType            \n",
      "A                2     0\n",
      "B                0     2\n",
      "✅ Great job! Exercise completed successfully.\n"
     ]
    }
   ],
   "execution_count": 22
  },
  {
   "cell_type": "code",
   "metadata": {
    "ExecuteTime": {
     "end_time": "2024-11-05T09:51:45.316905Z",
     "start_time": "2024-11-05T09:51:45.295065Z"
    }
   },
   "source": [
    "# Reshape DataFrame `df_expenses` to long format, using melt function, resulting in `melted_expenses`.\n",
    "@check_pandas_82\n",
    "def pandas_82(df_expenses):\n",
    "    # This line is mandatory and should not be removed.\n",
    "    ex_stat_init = True\n",
    "\n",
    "    # BELOW GOES YOUR CODE\n",
    "    print(df_expenses)\n",
    "    melted_expenses = df_expenses.melt(id_vars=['Date'], var_name='ExpenseType', value_name='Amount')\n",
    "    print(melted_expenses)\n",
    "    # ABOVE GOES YOUR CODE\n",
    "    return {\"melted_expenses\": melted_expenses}\n",
    "\n",
    "pandas_82()"
   ],
   "outputs": [
    {
     "name": "stdout",
     "output_type": "stream",
     "text": [
      "         Date  Rent  Utilities\n",
      "0  2022-01-01  1000        200\n",
      "1  2022-01-02  1100        250\n",
      "         Date ExpenseType  Amount\n",
      "0  2022-01-01        Rent    1000\n",
      "1  2022-01-02        Rent    1100\n",
      "2  2022-01-01   Utilities     200\n",
      "3  2022-01-02   Utilities     250\n",
      "✅ Great job! Exercise completed successfully.\n"
     ]
    }
   ],
   "execution_count": 27
  },
  {
   "cell_type": "code",
   "metadata": {
    "ExecuteTime": {
     "end_time": "2024-11-05T09:58:20.983807Z",
     "start_time": "2024-11-05T09:58:20.929529Z"
    }
   },
   "source": [
    "# Use a pivot_table on DataFrame `df_contact_events` with 'ContactID' as index, 'EventType' as columns, and 'EventTimestamp' as values, stored in `pivoted_events`.\n",
    "@check_pandas_83\n",
    "def pandas_83(df_contact_events):\n",
    "    # This line is mandatory and should not be removed.\n",
    "    ex_stat_init = True\n",
    "\n",
    "    # BELOW GOES YOUR CODE\n",
    "    print(df_contact_events)\n",
    "    pivoted_events = df_contact_events.pivot_table(\n",
    "        index='ContactID',\n",
    "        columns='EventType',\n",
    "        values='EventTimestamp',\n",
    "        aggfunc='first'  \n",
    "    )\n",
    "    print(pivoted_events)\n",
    "    # ABOVE GOES YOUR CODE\n",
    "    return {\"pivoted_events\": pivoted_events}\n",
    "\n",
    "pandas_83()"
   ],
   "outputs": [
    {
     "name": "stdout",
     "output_type": "stream",
     "text": [
      "   ContactID EventType EventTimestamp\n",
      "0          1      Call     2022-01-01\n",
      "1          2     Email     2022-01-02\n",
      "2          1      Call     2022-01-03\n",
      "3          2     Email     2022-01-04\n",
      "EventType        Call       Email\n",
      "ContactID                        \n",
      "1          2022-01-01         NaN\n",
      "2                 NaN  2022-01-02\n",
      "✅ Great job! Exercise completed successfully.\n"
     ]
    }
   ],
   "execution_count": 35
  },
  {
   "cell_type": "code",
   "metadata": {
    "ExecuteTime": {
     "end_time": "2024-11-05T10:03:01.180461Z",
     "start_time": "2024-11-05T10:03:01.129525Z"
    }
   },
   "source": [
    "# Create DataFrame `df_time_events` using a DateTimeIndex from a 'start' of '2023-01-01', 'end' of '2023-12-31', and a daily frequency.\n",
    "@check_pandas_84\n",
    "def pandas_84():\n",
    "    # This line is mandatory and should not be removed.\n",
    "    ex_stat_init = True\n",
    "\n",
    "    # BELOW GOES YOUR CODE\n",
    "    date_range = pd.date_range(start='2023-01-01', end='2023-12-31', freq='D')\n",
    "    df_time_events = pd.DataFrame(index=date_range)\n",
    "    print(df_time_events)\n",
    "    # ABOVE GOES YOUR CODE\n",
    "    return {\"df_time_events\": df_time_events}\n",
    "\n",
    "pandas_84()"
   ],
   "outputs": [
    {
     "name": "stdout",
     "output_type": "stream",
     "text": [
      "Empty DataFrame\n",
      "Columns: []\n",
      "Index: [2023-01-01 00:00:00, 2023-01-02 00:00:00, 2023-01-03 00:00:00, 2023-01-04 00:00:00, 2023-01-05 00:00:00, 2023-01-06 00:00:00, 2023-01-07 00:00:00, 2023-01-08 00:00:00, 2023-01-09 00:00:00, 2023-01-10 00:00:00, 2023-01-11 00:00:00, 2023-01-12 00:00:00, 2023-01-13 00:00:00, 2023-01-14 00:00:00, 2023-01-15 00:00:00, 2023-01-16 00:00:00, 2023-01-17 00:00:00, 2023-01-18 00:00:00, 2023-01-19 00:00:00, 2023-01-20 00:00:00, 2023-01-21 00:00:00, 2023-01-22 00:00:00, 2023-01-23 00:00:00, 2023-01-24 00:00:00, 2023-01-25 00:00:00, 2023-01-26 00:00:00, 2023-01-27 00:00:00, 2023-01-28 00:00:00, 2023-01-29 00:00:00, 2023-01-30 00:00:00, 2023-01-31 00:00:00, 2023-02-01 00:00:00, 2023-02-02 00:00:00, 2023-02-03 00:00:00, 2023-02-04 00:00:00, 2023-02-05 00:00:00, 2023-02-06 00:00:00, 2023-02-07 00:00:00, 2023-02-08 00:00:00, 2023-02-09 00:00:00, 2023-02-10 00:00:00, 2023-02-11 00:00:00, 2023-02-12 00:00:00, 2023-02-13 00:00:00, 2023-02-14 00:00:00, 2023-02-15 00:00:00, 2023-02-16 00:00:00, 2023-02-17 00:00:00, 2023-02-18 00:00:00, 2023-02-19 00:00:00, 2023-02-20 00:00:00, 2023-02-21 00:00:00, 2023-02-22 00:00:00, 2023-02-23 00:00:00, 2023-02-24 00:00:00, 2023-02-25 00:00:00, 2023-02-26 00:00:00, 2023-02-27 00:00:00, 2023-02-28 00:00:00, 2023-03-01 00:00:00, 2023-03-02 00:00:00, 2023-03-03 00:00:00, 2023-03-04 00:00:00, 2023-03-05 00:00:00, 2023-03-06 00:00:00, 2023-03-07 00:00:00, 2023-03-08 00:00:00, 2023-03-09 00:00:00, 2023-03-10 00:00:00, 2023-03-11 00:00:00, 2023-03-12 00:00:00, 2023-03-13 00:00:00, 2023-03-14 00:00:00, 2023-03-15 00:00:00, 2023-03-16 00:00:00, 2023-03-17 00:00:00, 2023-03-18 00:00:00, 2023-03-19 00:00:00, 2023-03-20 00:00:00, 2023-03-21 00:00:00, 2023-03-22 00:00:00, 2023-03-23 00:00:00, 2023-03-24 00:00:00, 2023-03-25 00:00:00, 2023-03-26 00:00:00, 2023-03-27 00:00:00, 2023-03-28 00:00:00, 2023-03-29 00:00:00, 2023-03-30 00:00:00, 2023-03-31 00:00:00, 2023-04-01 00:00:00, 2023-04-02 00:00:00, 2023-04-03 00:00:00, 2023-04-04 00:00:00, 2023-04-05 00:00:00, 2023-04-06 00:00:00, 2023-04-07 00:00:00, 2023-04-08 00:00:00, 2023-04-09 00:00:00, 2023-04-10 00:00:00, ...]\n",
      "\n",
      "[365 rows x 0 columns]\n",
      "✅ Great job! Exercise completed successfully.\n"
     ]
    }
   ],
   "execution_count": 36
  },
  {
   "cell_type": "code",
   "metadata": {
    "ExecuteTime": {
     "end_time": "2024-11-05T10:06:14.529671Z",
     "start_time": "2024-11-05T10:06:14.462168Z"
    }
   },
   "source": [
    "# Convert the time zone of the 'datetime' column in DataFrame `df_events`, from UTC to US/Eastern, storing result as `tz_adjusted_events`.\n",
    "@check_pandas_85\n",
    "def pandas_85(df_events):\n",
    "    # This line is mandatory and should not be removed.\n",
    "    ex_stat_init = True\n",
    "\n",
    "    # BELOW GOES YOUR CODE\n",
    "    print(df_events)\n",
    "    df_events['datetime'] = pd.to_datetime(df_events['datetime']).dt.tz_convert('UTC')\n",
    "    tz_adjusted_events = df_events.copy()\n",
    "    tz_adjusted_events['datetime'] = tz_adjusted_events['datetime'].dt.tz_convert('US/Eastern')\n",
    "    print(tz_adjusted_events)\n",
    "    # ABOVE GOES YOUR CODE\n",
    "    return {\"tz_adjusted_events\": tz_adjusted_events}\n",
    "\n",
    "pandas_85()"
   ],
   "outputs": [
    {
     "name": "stdout",
     "output_type": "stream",
     "text": [
      "                   datetime\n",
      "0 2023-01-01 00:00:00+00:00\n",
      "1 2023-01-02 00:00:00+00:00\n",
      "2 2023-01-03 00:00:00+00:00\n",
      "3 2023-01-04 00:00:00+00:00\n",
      "4 2023-01-05 00:00:00+00:00\n",
      "                   datetime\n",
      "0 2022-12-31 19:00:00-05:00\n",
      "1 2023-01-01 19:00:00-05:00\n",
      "2 2023-01-02 19:00:00-05:00\n",
      "3 2023-01-03 19:00:00-05:00\n",
      "4 2023-01-04 19:00:00-05:00\n",
      "✅ Great job! Exercise completed successfully.\n"
     ]
    }
   ],
   "execution_count": 38
  },
  {
   "cell_type": "code",
   "metadata": {
    "ExecuteTime": {
     "end_time": "2024-11-06T04:23:38.688755Z",
     "start_time": "2024-11-06T04:23:38.671529Z"
    }
   },
   "source": [
    "# Calculate the weekly rolling sum on DataFrame `df_financial_changes` for 'ChangeAmount', storing the result in `weekly_rolling_sum`.\n",
    "@check_pandas_86\n",
    "def pandas_86(df_financial_changes):\n",
    "    # This line is mandatory and should not be removed.\n",
    "    ex_stat_init = True\n",
    "\n",
    "    # BELOW GOES YOUR CODE\n",
    "    print(df_financial_changes)\n",
    "    weekly_rolling_sum = df_financial_changes['ChangeAmount'].rolling(window=7).sum()\n",
    "    print(weekly_rolling_sum)\n",
    "    # ABOVE GOES YOUR CODE\n",
    "    return {\"weekly_rolling_sum\": weekly_rolling_sum}\n",
    "\n",
    "pandas_86()"
   ],
   "outputs": [
    {
     "name": "stdout",
     "output_type": "stream",
     "text": [
      "        Date  ChangeAmount\n",
      "0 2023-01-01           100\n",
      "1 2023-01-02           200\n",
      "2 2023-01-03           300\n",
      "3 2023-01-04           400\n",
      "4 2023-01-05           500\n",
      "5 2023-01-06           600\n",
      "6 2023-01-07           700\n",
      "7 2023-01-08           800\n",
      "8 2023-01-09           900\n",
      "9 2023-01-10          1000\n",
      "0       NaN\n",
      "1       NaN\n",
      "2       NaN\n",
      "3       NaN\n",
      "4       NaN\n",
      "5       NaN\n",
      "6    2800.0\n",
      "7    3500.0\n",
      "8    4200.0\n",
      "9    4900.0\n",
      "Name: ChangeAmount, dtype: float64\n",
      "✅ Great job! Exercise completed successfully.\n"
     ]
    }
   ],
   "execution_count": 6
  },
  {
   "cell_type": "code",
   "metadata": {
    "ExecuteTime": {
     "end_time": "2024-11-05T12:32:25.591627Z",
     "start_time": "2024-11-05T12:32:25.562516Z"
    }
   },
   "source": [
    "# Use the apply function along with a custom lambda to multiply the 'Rating' column by 2 in DataFrame `df_movie_ratings`, saving it as `scaled_ratings`.\n",
    "@check_pandas_87\n",
    "def pandas_87(df_movie_ratings):\n",
    "    # This line is mandatory and should not be removed.\n",
    "    ex_stat_init = True\n",
    "\n",
    "    # BELOW GOES YOUR CODE\n",
    "    print(df_movie_ratings)\n",
    "    df_movie_ratings['Rating'] = df_movie_ratings['Rating'] * 2\n",
    "    scaled_ratings = df_movie_ratings\n",
    "    print(scaled_ratings)\n",
    "    # ABOVE GOES YOUR CODE\n",
    "    return {\"scaled_ratings\": scaled_ratings}\n",
    "\n",
    "pandas_87()"
   ],
   "outputs": [
    {
     "name": "stdout",
     "output_type": "stream",
     "text": [
      "  Movie  Rating\n",
      "0     A       5\n",
      "1     B       4\n",
      "2     C       3\n",
      "  Movie  Rating\n",
      "0     A      10\n",
      "1     B       8\n",
      "2     C       6\n",
      "✅ Great job! Exercise completed successfully.\n"
     ]
    }
   ],
   "execution_count": 5
  },
  {
   "cell_type": "code",
   "metadata": {
    "ExecuteTime": {
     "end_time": "2024-11-05T12:35:01.123735Z",
     "start_time": "2024-11-05T12:35:01.089018Z"
    }
   },
   "source": [
    "# Convert DataFrame `df_sequential` column 'Order' from int64 to int16 for memory efficiency, saving result as `optimized_sequential`.\n",
    "@check_pandas_88\n",
    "def pandas_88(df_sequential):\n",
    "    # This line is mandatory and should not be removed.\n",
    "    ex_stat_init = True\n",
    "\n",
    "    # BELOW GOES YOUR CODE\n",
    "    print(df_sequential)\n",
    "    df_sequential['Order'] = df_sequential['Order'].astype('int16')\n",
    "    optimized_sequential = df_sequential\n",
    "    print(optimized_sequential)\n",
    "    # ABOVE GOES YOUR CODE\n",
    "    return {\"optimized_sequential\": optimized_sequential}\n",
    "\n",
    "pandas_88()"
   ],
   "outputs": [
    {
     "name": "stdout",
     "output_type": "stream",
     "text": [
      "   Order Item\n",
      "0      1    A\n",
      "1      2    B\n",
      "2      3    C\n",
      "3      4    D\n",
      "4      5    E\n",
      "   Order Item\n",
      "0      1    A\n",
      "1      2    B\n",
      "2      3    C\n",
      "3      4    D\n",
      "4      5    E\n",
      "✅ Great job! Exercise completed successfully.\n"
     ]
    }
   ],
   "execution_count": 7
  },
  {
   "cell_type": "code",
   "metadata": {
    "ExecuteTime": {
     "end_time": "2024-11-06T04:21:24.420565Z",
     "start_time": "2024-11-06T04:21:24.408274Z"
    }
   },
   "source": [
    "# Remove duplicate entries based on 'Email' in DataFrame `df_email_contacts`, storing deduplicated DataFrame as `unique_email_contacts`.\n",
    "@check_pandas_89\n",
    "def pandas_89(df_email_contacts):\n",
    "    # This line is mandatory and should not be removed.\n",
    "    ex_stat_init = True\n",
    "\n",
    "    # BELOW GOES YOUR CODE\n",
    "    print(df_email_contacts)\n",
    "    df_email_contacts.drop_duplicates(subset=['Email'], inplace=True)\n",
    "    unique_email_contacts = df_email_contacts\n",
    "    print(unique_email_contacts)\n",
    "    # ABOVE GOES YOUR CODE\n",
    "    return {\"unique_email_contacts\": unique_email_contacts}\n",
    "\n",
    "pandas_89()"
   ],
   "outputs": [
    {
     "name": "stdout",
     "output_type": "stream",
     "text": [
      "              Email     Name\n",
      "0   first@gmail.com    Alice\n",
      "1  second@gmail.com      Bob\n",
      "2   first@gmail.com  Charlie\n",
      "              Email   Name\n",
      "0   first@gmail.com  Alice\n",
      "1  second@gmail.com    Bob\n",
      "✅ Great job! Exercise completed successfully.\n"
     ]
    }
   ],
   "execution_count": 4
  },
  {
   "cell_type": "code",
   "metadata": {
    "ExecuteTime": {
     "end_time": "2024-11-06T04:19:39.696929Z",
     "start_time": "2024-11-06T04:19:39.673664Z"
    }
   },
   "source": [
    "# Perform string operation by replacing all occurrences of 'Inc.' with 'Incorporated' in the 'Company_Name' column of `df_business_registry`, storing result in `updated_business_registry`.\n",
    "@check_pandas_90\n",
    "def pandas_90(df_business_registry):\n",
    "    # This line is mandatory and should not be removed.\n",
    "    ex_stat_init = True\n",
    "\n",
    "    # BELOW GOES YOUR CODE\n",
    "    print(df_business_registry)\n",
    "    updated_business_registry = df_business_registry.copy()\n",
    "    updated_business_registry['Company_Name'] = updated_business_registry['Company_Name'].str.replace('Inc.', 'Incorporated', regex=False)\n",
    "    print(updated_business_registry)\n",
    "    # ABOVE GOES YOUR CODE\n",
    "    return {\"updated_business_registry\": updated_business_registry}\n",
    "\n",
    "pandas_90()"
   ],
   "outputs": [
    {
     "name": "stdout",
     "output_type": "stream",
     "text": [
      "  Company_Name\n",
      "0     ABC Inc.\n",
      "1     XYZ Inc.\n",
      "       Company_Name\n",
      "0  ABC Incorporated\n",
      "1  XYZ Incorporated\n",
      "✅ Great job! Exercise completed successfully.\n"
     ]
    }
   ],
   "execution_count": 2
  },
  {
   "cell_type": "code",
   "metadata": {
    "ExecuteTime": {
     "end_time": "2024-11-06T04:11:20.563527Z",
     "start_time": "2024-11-06T04:11:20.485264Z"
    }
   },
   "source": [
    "# Select entries from DataFrame `df_jobs` with 'Role' ending in 'Engineer' using the query method, saving result as `engineer_roles`.\n",
    "@check_pandas_91\n",
    "def pandas_91(df_jobs):\n",
    "    # This line is mandatory and should not be removed.\n",
    "    ex_stat_init = True\n",
    "\n",
    "    # BELOW GOES YOUR CODE\n",
    "    print(df_jobs)\n",
    "    engineer_roles = df_jobs.query('Role.str.endswith(\"Engineer\")')\n",
    "    print(engineer_roles)\n",
    "    # ABOVE GOES YOUR CODE\n",
    "    return {\"engineer_roles\": engineer_roles}\n",
    "\n",
    "pandas_91()"
   ],
   "outputs": [
    {
     "name": "stdout",
     "output_type": "stream",
     "text": [
      "                Role\n",
      "0  Software Engineer\n",
      "1       Data Analyst\n",
      "2   Network Engineer\n",
      "                Role\n",
      "0  Software Engineer\n",
      "2   Network Engineer\n",
      "✅ Great job! Exercise completed successfully.\n"
     ]
    }
   ],
   "execution_count": 13
  },
  {
   "cell_type": "code",
   "metadata": {
    "ExecuteTime": {
     "end_time": "2024-11-05T13:03:02.965385Z",
     "start_time": "2024-11-05T13:03:02.741874Z"
    }
   },
   "source": [
    "# Group DataFrame `df_market_data` by 'Sector' and aggregate 'MarketCap' using the custom function to find the median, saving in `median_market_cap`.\n",
    "@check_pandas_92\n",
    "def pandas_92(df_market_data):\n",
    "    # This line is mandatory and should not be removed.\n",
    "    ex_stat_init = True\n",
    "\n",
    "    # BELOW GOES YOUR CODE\n",
    "    print(df_market_data)\n",
    "    median_market_cap = df_market_data.groupby('Sector')['MarketCap'].median()\n",
    "    print(median_market_cap)\n",
    "    # ABOVE GOES YOUR CODE\n",
    "    return {\"median_market_cap\": median_market_cap}\n",
    "\n",
    "pandas_92()"
   ],
   "outputs": [
    {
     "name": "stdout",
     "output_type": "stream",
     "text": [
      "    Sector  MarketCap\n",
      "0     Tech        100\n",
      "1  Finance        200\n",
      "2     Tech        300\n",
      "3  Finance        400\n",
      "Sector\n",
      "Finance    300.0\n",
      "Tech       200.0\n",
      "Name: MarketCap, dtype: float64\n",
      "✅ Great job! Exercise completed successfully.\n"
     ]
    }
   ],
   "execution_count": 32
  },
  {
   "cell_type": "code",
   "metadata": {
    "ExecuteTime": {
     "end_time": "2024-11-06T04:09:33.338395Z",
     "start_time": "2024-11-06T04:09:33.301682Z"
    }
   },
   "source": [
    "# Use vectorized operations on DataFrame `df_portfolio`, to multiply every element in 'Shares' column by its corresponding 'Price', saving the result in `portfolio_value`.\n",
    "@check_pandas_93\n",
    "def pandas_93(df_portfolio):\n",
    "    # This line is mandatory and should not be removed.\n",
    "    ex_stat_init = True\n",
    "\n",
    "    # BELOW GOES YOUR CODE\n",
    "    print(df_portfolio)\n",
    "    portfolio_value = df_portfolio['Shares'] * df_portfolio['Price']\n",
    "    print(portfolio_value)\n",
    "    # ABOVE GOES YOUR CODE\n",
    "    return {\"portfolio_value\": portfolio_value}\n",
    "\n",
    "pandas_93()"
   ],
   "outputs": [
    {
     "name": "stdout",
     "output_type": "stream",
     "text": [
      "   Shares  Price\n",
      "0      10    100\n",
      "1      20    200\n",
      "2      30    300\n",
      "0    1000\n",
      "1    4000\n",
      "2    9000\n",
      "dtype: int64\n",
      "✅ Great job! Exercise completed successfully.\n"
     ]
    }
   ],
   "execution_count": 12
  },
  {
   "cell_type": "code",
   "metadata": {
    "ExecuteTime": {
     "end_time": "2024-11-05T13:10:57.670126Z",
     "start_time": "2024-11-05T13:10:57.645849Z"
    }
   },
   "source": [
    "# Add a 'ProfitMargin' column to DataFrame `df_sales_figures`, calculated as ('Profit' / 'Revenue') * 100 using vectorized operations, saving as `sales_with_margin`.\n",
    "@check_pandas_94\n",
    "def pandas_94(df_sales_figures):\n",
    "    # This line is mandatory and should not be removed.\n",
    "    ex_stat_init = True\n",
    "\n",
    "    # BELOW GOES YOUR CODE\n",
    "    print(df_sales_figures)\n",
    "    df_sales_figures['ProfitMargin'] = (df_sales_figures['Profit'] / df_sales_figures['Revenue']) * 100\n",
    "    sales_with_margin = df_sales_figures\n",
    "    print(sales_with_margin)\n",
    "    # ABOVE GOES YOUR CODE\n",
    "    return {\"sales_with_margin\": sales_with_margin}\n",
    "\n",
    "pandas_94()"
   ],
   "outputs": [
    {
     "name": "stdout",
     "output_type": "stream",
     "text": [
      "   Revenue  Profit  ProfitMargin\n",
      "0      100      50           0.5\n",
      "1      200     100           0.5\n",
      "2      300     150           0.5\n",
      "   Revenue  Profit  ProfitMargin\n",
      "0      100      50          50.0\n",
      "1      200     100          50.0\n",
      "2      300     150          50.0\n",
      "✅ Great job! Exercise completed successfully.\n"
     ]
    }
   ],
   "execution_count": 42
  },
  {
   "cell_type": "code",
   "metadata": {
    "ExecuteTime": {
     "end_time": "2024-11-05T13:15:01.184261Z",
     "start_time": "2024-11-05T13:15:01.114424Z"
    }
   },
   "source": [
    "# Sort DataFrame `df_graduates` by 'GPA' in descending order, saving sorted DataFrame as `sorted_graduates`.\n",
    "@check_pandas_95\n",
    "def pandas_95(df_graduates):\n",
    "    # This line is mandatory and should not be removed.\n",
    "    ex_stat_init = True\n",
    "\n",
    "    # BELOW GOES YOUR CODE\n",
    "    print(df_graduates)\n",
    "    sorted_graduates = df_graduates.sort_values(by='GPA', ascending=False)\n",
    "    print(sorted_graduates)\n",
    "    # ABOVE GOES YOUR CODE\n",
    "    return {\"sorted_graduates\": sorted_graduates}\n",
    "\n",
    "pandas_95()"
   ],
   "outputs": [
    {
     "name": "stdout",
     "output_type": "stream",
     "text": [
      "      Name  GPA\n",
      "0    Alice  3.5\n",
      "1      Bob  3.2\n",
      "2  Charlie  3.8\n",
      "      Name  GPA\n",
      "2  Charlie  3.8\n",
      "0    Alice  3.5\n",
      "1      Bob  3.2\n",
      "✅ Great job! Exercise completed successfully.\n"
     ]
    }
   ],
   "execution_count": 45
  },
  {
   "cell_type": "code",
   "metadata": {
    "ExecuteTime": {
     "end_time": "2024-11-05T13:20:35.965857Z",
     "start_time": "2024-11-05T13:20:35.944902Z"
    }
   },
   "source": [
    "# Filter DataFrame `df_emissions` for 'Country' is 'USA' and 'Year' before 2000 using boolean conditions, saving result as `us_emissions_pre2000`.\n",
    "@check_pandas_96\n",
    "def pandas_96(df_emissions):\n",
    "    # This line is mandatory and should not be removed.\n",
    "    ex_stat_init = True\n",
    "\n",
    "    # BELOW GOES YOUR CODE\n",
    "    print(df_emissions)\n",
    "    us_emissions_pre2000 = df_emissions[(df_emissions['Country'] == \"USA\") & (df_emissions['Year'] < 2000)]\n",
    "    print(us_emissions_pre2000)\n",
    "    # ABOVE GOES YOUR CODE\n",
    "    return {\"us_emissions_pre2000\": us_emissions_pre2000}\n",
    "\n",
    "pandas_96()"
   ],
   "outputs": [
    {
     "name": "stdout",
     "output_type": "stream",
     "text": [
      "  Country  Year\n",
      "0     USA  1990\n",
      "1     USA  2000\n",
      "2   China  1990\n",
      "  Country  Year\n",
      "0     USA  1990\n",
      "✅ Great job! Exercise completed successfully.\n"
     ]
    }
   ],
   "execution_count": 51
  },
  {
   "cell_type": "code",
   "metadata": {
    "ExecuteTime": {
     "end_time": "2024-11-06T03:51:25.736014Z",
     "start_time": "2024-11-06T03:51:25.722908Z"
    }
   },
   "source": [
    "# Calculate the cumulative sum of 'Purchases' in DataFrame `df_shopper_history` grouped by 'Year', storing the result in `yearly_cumulative_purchases`.\n",
    "@check_pandas_97\n",
    "def pandas_97(df_shopper_history):\n",
    "    # This line is mandatory and should not be removed.\n",
    "    ex_stat_init = True\n",
    "\n",
    "    # BELOW GOES YOUR CODE\n",
    "    print(df_shopper_history)\n",
    "    yearly_cumulative_purchases = df_shopper_history.groupby('Year')['Purchases'].cumsum()\n",
    "    print(yearly_cumulative_purchases)\n",
    "    # ABOVE GOES YOUR CODE\n",
    "    return {\"yearly_cumulative_purchases\": yearly_cumulative_purchases}\n",
    "\n",
    "pandas_97()"
   ],
   "outputs": [
    {
     "name": "stdout",
     "output_type": "stream",
     "text": [
      "   Year  Purchases\n",
      "0  2021        100\n",
      "1  2021        200\n",
      "2  2022        300\n",
      "3  2022        400\n",
      "0    100\n",
      "1    300\n",
      "2    300\n",
      "3    700\n",
      "Name: Purchases, dtype: int64\n",
      "✅ Great job! Exercise completed successfully.\n"
     ]
    }
   ],
   "execution_count": 3
  },
  {
   "cell_type": "code",
   "metadata": {
    "ExecuteTime": {
     "end_time": "2024-11-06T04:01:34.522744Z",
     "start_time": "2024-11-06T04:01:34.495588Z"
    }
   },
   "source": [
    "# Create DataFrame `df_series_fan_following` with integers between 1000 and 5000 equally separated, indexed by monthly dates starting from '2022-01-01', till '2022-05-01', with column name 'Fans' and frequency 'MS'.\n",
    "@check_pandas_98\n",
    "def pandas_98():\n",
    "    # This line is mandatory and should not be removed.\n",
    "    ex_stat_init = True\n",
    "\n",
    "    # BELOW GOES YOUR CODE\n",
    "    date_range = pd.date_range(start='2022-01-01', end='2022-05-01', freq='MS')\n",
    "    fans_values = np.linspace(1000, 5000, num=len(date_range)).astype(int)\n",
    "    df_series_fan_following = pd.DataFrame({'Fans': fans_values}, index=date_range)\n",
    "    print(df_series_fan_following)\n",
    "    # ABOVE GOES YOUR CODE\n",
    "    return {\"df_series_fan_following\": df_series_fan_following}\n",
    "\n",
    "pandas_98()"
   ],
   "outputs": [
    {
     "name": "stdout",
     "output_type": "stream",
     "text": [
      "            Fans\n",
      "2022-01-01  1000\n",
      "2022-02-01  2000\n",
      "2022-03-01  3000\n",
      "2022-04-01  4000\n",
      "2022-05-01  5000\n",
      "✅ Great job! Exercise completed successfully.\n"
     ]
    }
   ],
   "execution_count": 6
  },
  {
   "cell_type": "code",
   "metadata": {
    "ExecuteTime": {
     "end_time": "2024-11-06T04:04:34.445748Z",
     "start_time": "2024-11-06T04:04:34.403136Z"
    }
   },
   "source": [
    "# Calculate difference in 'ClosingPrice' from previous day in DataFrame `df_stock_prices`, storing result as `closing_price_diff`.\n",
    "@check_pandas_99\n",
    "def pandas_99(df_stock_prices):\n",
    "    # This line is mandatory and should not be removed.\n",
    "    ex_stat_init = True\n",
    "\n",
    "    # BELOW GOES YOUR CODE\n",
    "    print(df_stock_prices)\n",
    "    closing_price_diff = df_stock_prices['ClosingPrice'].diff(periods=1)\n",
    "    print(closing_price_diff)\n",
    "    # ABOVE GOES YOUR CODE\n",
    "    return {\"closing_price_diff\": closing_price_diff}\n",
    "\n",
    "pandas_99()"
   ],
   "outputs": [
    {
     "name": "stdout",
     "output_type": "stream",
     "text": [
      "        Date  ClosingPrice\n",
      "0 2022-01-01           100\n",
      "1 2022-01-02           110\n",
      "2 2022-01-03           120\n",
      "3 2022-01-04           130\n",
      "4 2022-01-05           140\n",
      "0     NaN\n",
      "1    10.0\n",
      "2    10.0\n",
      "3    10.0\n",
      "4    10.0\n",
      "Name: ClosingPrice, dtype: float64\n",
      "✅ Great job! Exercise completed successfully.\n"
     ]
    }
   ],
   "execution_count": 8
  },
  {
   "cell_type": "code",
   "metadata": {
    "ExecuteTime": {
     "end_time": "2024-11-06T04:06:56.552633Z",
     "start_time": "2024-11-06T04:06:56.462400Z"
    }
   },
   "source": [
    "# Merge DataFrames `df_social_media_insights` and `df_campaign_performance` on 'CampaignID', using outer method saving result as `merged_campaign_data`.\n",
    "@check_pandas_100\n",
    "def pandas_100(df_social_media_insights, df_campaign_performance):\n",
    "    # This line is mandatory and should not be removed.\n",
    "    ex_stat_init = True\n",
    "\n",
    "    # BELOW GOES YOUR CODE\n",
    "    print(df_social_media_insights)\n",
    "    print(df_campaign_performance)\n",
    "    merged_campaign_data = pd.merge(df_social_media_insights, df_campaign_performance, on='CampaignID', how='outer')\n",
    "    print(merged_campaign_data)\n",
    "    # ABOVE GOES YOUR CODE\n",
    "    return {\"merged_campaign_data\": merged_campaign_data}\n",
    "\n",
    "pandas_100()"
   ],
   "outputs": [
    {
     "name": "stdout",
     "output_type": "stream",
     "text": [
      "   CampaignID  Clicks\n",
      "0           1     100\n",
      "1           2     200\n",
      "   CampaignID  Conversions\n",
      "0           2           10\n",
      "1           3           20\n",
      "   CampaignID  Clicks  Conversions\n",
      "0           1   100.0          NaN\n",
      "1           2   200.0         10.0\n",
      "2           3     NaN         20.0\n",
      "✅ Great job! Exercise completed successfully.\n"
     ]
    }
   ],
   "execution_count": 11
  }
 ],
 "metadata": {
  "kernelspec": {
   "display_name": "excalibur",
   "language": "python",
   "name": "python3"
  },
  "language_info": {
   "codemirror_mode": {
    "name": "ipython",
    "version": 3
   },
   "file_extension": ".py",
   "mimetype": "text/x-python",
   "name": "python",
   "nbconvert_exporter": "python",
   "pygments_lexer": "ipython3",
   "version": "3.12.5"
  }
 },
 "nbformat": 4,
 "nbformat_minor": 2
}
